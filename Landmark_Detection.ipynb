{
  "nbformat": 4,
  "nbformat_minor": 0,
  "metadata": {
    "colab": {
      "provenance": []
    },
    "kernelspec": {
      "name": "python3",
      "display_name": "Python 3"
    },
    "language_info": {
      "name": "python"
    }
  },
  "cells": [
    {
      "cell_type": "code",
      "execution_count": null,
      "metadata": {
        "colab": {
          "base_uri": "https://localhost:8080/"
        },
        "id": "YheGsefu4Y2K",
        "outputId": "68012e03-2201-4af4-a161-c9c590fe9aba"
      },
      "outputs": [
        {
          "output_type": "stream",
          "name": "stdout",
          "text": [
            "Looking in indexes: https://pypi.org/simple, https://us-python.pkg.dev/colab-wheels/public/simple/\n",
            "Requirement already satisfied: dlib in /usr/local/lib/python3.8/dist-packages (19.24.0)\n"
          ]
        }
      ],
      "source": [
        "! pip install dlib"
      ]
    },
    {
      "cell_type": "code",
      "source": [
        "! pip install imutils"
      ],
      "metadata": {
        "colab": {
          "base_uri": "https://localhost:8080/"
        },
        "id": "4bqLje854gih",
        "outputId": "8f75e892-0844-497b-86f1-f2b81c9094d8"
      },
      "execution_count": null,
      "outputs": [
        {
          "output_type": "stream",
          "name": "stdout",
          "text": [
            "Looking in indexes: https://pypi.org/simple, https://us-python.pkg.dev/colab-wheels/public/simple/\n",
            "Requirement already satisfied: imutils in /usr/local/lib/python3.8/dist-packages (0.5.4)\n"
          ]
        }
      ]
    },
    {
      "cell_type": "code",
      "source": [
        "import zipfile\n",
        "with zipfile.ZipFile(\"aligned.zip\", 'r') as zip_ref:\n",
        "    zip_ref.extractall(\"./aligned\")"
      ],
      "metadata": {
        "id": "xKdodd7j6hhw"
      },
      "execution_count": null,
      "outputs": []
    },
    {
      "cell_type": "code",
      "source": [
        "# import required libraries\n",
        "\n",
        "from imutils import face_utils\n",
        "from google.colab.patches import cv2_imshow\n",
        "import numpy as np\n",
        "\n",
        "import argparse\n",
        "\n",
        "import imutils\n",
        "\n",
        "import dlib\n",
        "\n",
        "import cv2\n",
        "\n",
        "ap = argparse.ArgumentParser()\n",
        "\n",
        "# –-image is a path to the input image\n",
        "\n",
        "ap.add_argument(\"-p\", \"-shape-predictor\", required=True, help=\"path to facial landmark predictor\")\n",
        "ap.add_argument(\"-i\", \"-image\", required=True, help=\"path to input image\")\n",
        "\n",
        "args ={\n",
        "  \"shape_predictor\": \"pred.dat\",\n",
        "  \"image\": \"./aligned/test_0001_aligned.jpg\"\n",
        "}\n",
        "\n"
      ],
      "metadata": {
        "colab": {
          "base_uri": "https://localhost:8080/",
          "height": 534
        },
        "id": "WLxk7MNp4lqp",
        "outputId": "12387dd4-368c-45fe-aae2-40a09523ed40"
      },
      "execution_count": 42,
      "outputs": [
        {
          "output_type": "display_data",
          "data": {
            "text/plain": [
              "<PIL.Image.Image image mode=RGB size=500x500 at 0x7F3B11E134F0>"
            ],
            "image/png": "[encoded data removed]"
          },
          "metadata": {}
        },
        {
          "output_type": "execute_result",
          "data": {
            "text/plain": [
              "-1"
            ]
          },
          "metadata": {},
          "execution_count": 42
        }
      ]
    },
    {
      "cell_type": "markdown",
      "source": [
        "# Exemple"
      ],
      "metadata": {
        "id": "kfN2hVGLLTmg"
      }
    },
    {
      "cell_type": "code",
      "source": [
        "# initialize built-in face detector in dlib\n",
        "\n",
        "detector = dlib.get_frontal_face_detector()\n",
        "\n",
        "# initialize face landmark predictor\n",
        "\n",
        "predictor = dlib.shape_predictor(args[\"shape_predictor\"])\n",
        "\n",
        "# load input image, resize it, and convert it to grayscale\n",
        "\n",
        "image = cv2.imread(args[\"image\"])\n",
        "image = imutils.resize(image, width=500)\n",
        "gray = cv2.cvtColor(image, cv2.COLOR_BGR2GRAY)\n",
        "\n",
        "# detect faces in the grayscale image\n",
        "\n",
        "rects = detector(gray, 1)\n",
        "\n",
        "for (i, rect) in enumerate(rects):\n",
        "  # determine the facial landmarks for the face region, then\n",
        "  # convert the facial landmark (x, y)-coordinates to a NumPy\n",
        "  # array\n",
        "  shape = predictor(gray, rect)\n",
        "  shape = face_utils.shape_to_np(shape)\n",
        "\n",
        "  # convert dlib's rectangle to a OpenCV-style bounding box\n",
        "  (x, y, w, h) = face_utils.rect_to_bb(rect)\n",
        "  cv2.rectangle(image, (0,0), (500,500), (0,0,0), -1)\n",
        "  # loop over the (x, y)-coordinates for the facial landmarks\n",
        "  # and draw them on the image\n",
        "  for (x, y) in shape:\n",
        "    cv2.circle(image, (x, y), 15, (255, 255, 255), -1)\n",
        "  \n",
        "  Gaussian = cv2.GaussianBlur(image, (7, 7), sigmaX=3, sigmaY=3)\n",
        "  \n",
        "\n",
        "# show the output image with the face detections + facial landmarks\n",
        "cv2_imshow(Gaussian)\n",
        "cv2.waitKey(0)"
      ],
      "metadata": {
        "colab": {
          "base_uri": "https://localhost:8080/",
          "height": 534
        },
        "id": "B7nxHfGELGyO",
        "outputId": "243e5c91-7e27-46d4-9e25-1cfbb97cd11e"
      },
      "execution_count": 43,
      "outputs": [
        {
          "output_type": "display_data",
          "data": {
            "text/plain": [
              "<PIL.Image.Image image mode=RGB size=500x500 at 0x7F3B12850670>"
            ],
            "image/png": "[encoded data removed]"
          },
          "metadata": {}
        },
        {
          "output_type": "execute_result",
          "data": {
            "text/plain": [
              "-1"
            ]
          },
          "metadata": {},
          "execution_count": 43
        }
      ]
    },
    {
      "cell_type": "code",
      "source": [
        "import os\n",
        "path = \"./aligned\"\n",
        "dir_list = os.listdir(path)\n",
        "for f in dir_list:\n",
        "\n",
        "  image = cv2.imread(\"./aligned/\" + f)\n",
        "  image = imutils.resize(image, width=500)\n",
        "  gray = cv2.cvtColor(image, cv2.COLOR_BGR2GRAY)\n",
        "\n",
        "  # detect faces in the grayscale image\n",
        "\n",
        "  rects = detector(gray, 1)\n",
        "\n",
        "  for (i, rect) in enumerate(rects):\n",
        "    # determine the facial landmarks for the face region, then\n",
        "    # convert the facial landmark (x, y)-coordinates to a NumPy\n",
        "    # array\n",
        "    shape = predictor(gray, rect)\n",
        "    shape = face_utils.shape_to_np(shape)\n",
        "\n",
        "    # convert dlib's rectangle to a OpenCV-style bounding box\n",
        "    (x, y, w, h) = face_utils.rect_to_bb(rect)\n",
        "    cv2.rectangle(image, (0,0), (500,500), (0,0,0), -1)\n",
        "    # loop over the (x, y)-coordinates for the facial landmarks\n",
        "    # and draw them on the image\n",
        "    for (x, y) in shape:\n",
        "      cv2.circle(image, (x, y), 15, (255, 255, 255), -1)\n",
        "    \n",
        "    Gaussian = cv2.GaussianBlur(image, (7, 7), sigmaX=3, sigmaY=3)\n",
        "    \n",
        "\n",
        "  # show the output image with the face detections + facial landmarks\n",
        "  Gaussian = imutils.resize(Gaussian, width=100)\n",
        "  cv2.imwrite(\"./landmark/\" + f, Gaussian)"
      ],
      "metadata": {
        "id": "KkMY3m2RLWXe"
      },
      "execution_count": 48,
      "outputs": []
    },
    {
      "cell_type": "code",
      "source": [
        "import os\n",
        "import zipfile\n",
        "    \n",
        "def zipdir(path, ziph):\n",
        "    # ziph is zipfile handle\n",
        "    for root, dirs, files in os.walk(path):\n",
        "        for file in files:\n",
        "            ziph.write(os.path.join(root, file), \n",
        "                       os.path.relpath(os.path.join(root, file), \n",
        "                                       os.path.join(path, '..')))\n",
        "\n",
        "with zipfile.ZipFile('landmark.zip', 'w', zipfile.ZIP_DEFLATED) as zipf:\n",
        "    zipdir('./landmark/', zipf)"
      ],
      "metadata": {
        "id": "UECkUNsbcEDu"
      },
      "execution_count": 49,
      "outputs": []
    },
    {
      "cell_type": "code",
      "source": [
        "dir_path = \"./landmark\"\n",
        "print(len([entry for entry in os.listdir(dir_path) if os.path.isfile(os.path.join(dir_path, entry))]))\n",
        "dir_path = \"./aligned\"\n",
        "print(len([entry for entry in os.listdir(dir_path) if os.path.isfile(os.path.join(dir_path, entry))]))"
      ],
      "metadata": {
        "colab": {
          "base_uri": "https://localhost:8080/"
        },
        "id": "WZlz_yI3cP2A",
        "outputId": "31047872-9115-4d24-9616-a26980423953"
      },
      "execution_count": 50,
      "outputs": [
        {
          "output_type": "stream",
          "name": "stdout",
          "text": [
            "15339\n",
            "15339\n"
          ]
        }
      ]
    }
  ]
}