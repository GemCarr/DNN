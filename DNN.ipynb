{
 "cells": [
  {
   "cell_type": "markdown",
   "id": "18f8d529-a5cd-4507-8503-b10ed9fe2777",
   "metadata": {},
   "source": [
    "# DNN Projet"
   ]
  },
  {
   "cell_type": "markdown",
   "id": "6fd13e2f-8482-4ec0-85d4-428cc9851b1f",
   "metadata": {},
   "source": [
    "## Import dataset (those on google drive)"
   ]
  },
  {
   "cell_type": "markdown",
   "id": "70d4bca7-95c7-4b86-9c9c-9b4f3bb7b925",
   "metadata": {},
   "source": [
    "## Preprocess dataset (apply gaussian filter on facial features)"
   ]
  },
  {
   "cell_type": "markdown",
   "id": "e88c64e2-7e4b-4f54-8c36-fbf11d37abf3",
   "metadata": {},
   "source": [
    "## Construct model class (Grad, Grad\\*Input, PAL loss) "
   ]
  },
  {
   "cell_type": "markdown",
   "id": "1408aa20-eddd-46b9-acf8-6ce1e8c77b9e",
   "metadata": {},
   "source": [
    "## Train (according to paper specs)"
   ]
  },
  {
   "cell_type": "markdown",
   "id": "051c1d2e-a23d-4825-904e-9000f9211139",
   "metadata": {},
   "source": [
    "## Compute accuracy (wow 99%, such precision)"
   ]
  },
  {
   "cell_type": "code",
   "execution_count": null,
   "id": "5807c861-c341-4715-9086-18b9dbd10731",
   "metadata": {},
   "outputs": [],
   "source": []
  }
 ],
 "metadata": {
  "kernelspec": {
   "display_name": "Python 3 (ipykernel)",
   "language": "python",
   "name": "python3"
  },
  "language_info": {
   "codemirror_mode": {
    "name": "ipython",
    "version": 3
   },
   "file_extension": ".py",
   "mimetype": "text/x-python",
   "name": "python",
   "nbconvert_exporter": "python",
   "pygments_lexer": "ipython3",
   "version": "3.10.8"
  }
 },
 "nbformat": 4,
 "nbformat_minor": 5
}
