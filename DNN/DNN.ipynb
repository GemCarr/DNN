{
 "cells": [
  {
   "cell_type": "code",
   "execution_count": 49,
   "metadata": {
    "colab": {
     "base_uri": "https://localhost:8080/"
    },
    "id": "Lmtw_pSbGjCY",
    "outputId": "e6f7032e-43ff-4087-e916-c2b831bad89d"
   },
   "outputs": [
    {
     "name": "stdout",
     "output_type": "stream",
     "text": [
      "Populating the interactive namespace from numpy and matplotlib\n"
     ]
    }
   ],
   "source": [
    "%pylab inline"
   ]
  },
  {
   "cell_type": "code",
   "execution_count": 50,
   "metadata": {
    "id": "5fYVvVnPkzJk"
   },
   "outputs": [],
   "source": [
    "import time\n",
    "\n",
    "import torch\n",
    "from torch import nn\n",
    "from torch.nn import functional as F\n",
    "from torch.utils.data import DataLoader\n",
    "from torchvision import transforms\n",
    "import matplotlib.pyplot as plt"
   ]
  },
  {
   "cell_type": "code",
   "execution_count": 51,
   "metadata": {
    "colab": {
     "base_uri": "https://localhost:8080/"
    },
    "id": "4_I5X_GW80eo",
    "outputId": "48e1fbbe-c08d-4eb7-db1a-5b8fa3780011"
   },
   "outputs": [
    {
     "data": {
      "text/plain": [
       "device(type='cuda', index=0)"
      ]
     },
     "execution_count": 51,
     "metadata": {},
     "output_type": "execute_result"
    }
   ],
   "source": [
    "device = torch.device(\"cuda:0\") if torch.cuda.is_available() else torch.device(\"cpu\")\n",
    "device"
   ]
  },
  {
   "cell_type": "markdown",
   "metadata": {
    "id": "lYs2w5tERN6S",
    "tags": []
   },
   "source": [
    "## Download RAF-DB dataset (Google Colab)"
   ]
  },
  {
   "cell_type": "code",
   "execution_count": 52,
   "metadata": {
    "colab": {
     "base_uri": "https://localhost:8080/"
    },
    "id": "d0OqFiGiKzIg",
    "outputId": "279870fe-350a-4e6b-e083-5cfff3e0bf41"
   },
   "outputs": [
    {
     "name": "stdout",
     "output_type": "stream",
     "text": [
      "--2023-01-29 02:12:31--  https://github.com/MegaloPat/DNN/raw/main/DNN/aligned.zip\n",
      "Resolving github.com (github.com)... 20.27.177.113\n",
      "Connecting to github.com (github.com)|20.27.177.113|:443... connected.\n",
      "HTTP request sent, awaiting response... 302 Found\n",
      "Location: https://raw.githubusercontent.com/MegaloPat/DNN/main/DNN/aligned.zip [following]\n",
      "--2023-01-29 02:12:32--  https://raw.githubusercontent.com/MegaloPat/DNN/main/DNN/aligned.zip\n",
      "Resolving raw.githubusercontent.com (raw.githubusercontent.com)... 185.199.111.133, 185.199.109.133, 185.199.110.133, ...\n",
      "Connecting to raw.githubusercontent.com (raw.githubusercontent.com)|185.199.111.133|:443... connected.\n",
      "HTTP request sent, awaiting response... 200 OK\n",
      "Length: 39152089 (37M) [application/zip]\n",
      "Saving to: ‘aligned.zip.1’\n",
      "\n",
      "aligned.zip.1       100%[===================>]  37.34M  --.-KB/s    in 0.1s    \n",
      "\n",
      "2023-01-29 02:12:32 (334 MB/s) - ‘aligned.zip.1’ saved [39152089/39152089]\n",
      "\n"
     ]
    }
   ],
   "source": [
    "! wget https://github.com/MegaloPat/DNN/raw/main/DNN/aligned.zip"
   ]
  },
  {
   "cell_type": "code",
   "execution_count": 53,
   "metadata": {
    "colab": {
     "base_uri": "https://localhost:8080/"
    },
    "id": "LRUMP23yRN6W",
    "outputId": "c16795c7-e392-4273-f7bd-76228cb21697"
   },
   "outputs": [
    {
     "name": "stdout",
     "output_type": "stream",
     "text": [
      "--2023-01-29 02:12:32--  https://github.com/MegaloPat/DNN/raw/main/DNN/landmark.zip\n",
      "Resolving github.com (github.com)... 20.27.177.113\n",
      "Connecting to github.com (github.com)|20.27.177.113|:443... connected.\n",
      "HTTP request sent, awaiting response... 302 Found\n",
      "Location: https://raw.githubusercontent.com/MegaloPat/DNN/main/DNN/landmark.zip [following]\n",
      "--2023-01-29 02:12:33--  https://raw.githubusercontent.com/MegaloPat/DNN/main/DNN/landmark.zip\n",
      "Resolving raw.githubusercontent.com (raw.githubusercontent.com)... 185.199.108.133, 185.199.111.133, 185.199.110.133, ...\n",
      "Connecting to raw.githubusercontent.com (raw.githubusercontent.com)|185.199.108.133|:443... connected.\n",
      "HTTP request sent, awaiting response... 200 OK\n",
      "Length: 86475976 (82M) [application/zip]\n",
      "Saving to: ‘landmark.zip.1’\n",
      "\n",
      "landmark.zip.1      100%[===================>]  82.47M   346MB/s    in 0.2s    \n",
      "\n",
      "2023-01-29 02:12:33 (346 MB/s) - ‘landmark.zip.1’ saved [86475976/86475976]\n",
      "\n"
     ]
    }
   ],
   "source": [
    "! wget https://github.com/MegaloPat/DNN/raw/main/DNN/landmark.zip"
   ]
  },
  {
   "cell_type": "code",
   "execution_count": 54,
   "metadata": {
    "colab": {
     "base_uri": "https://localhost:8080/"
    },
    "id": "suemGu3wRN6Y",
    "outputId": "71a5cd32-1948-4ff5-bd2f-fc5f557811cc"
   },
   "outputs": [
    {
     "name": "stdout",
     "output_type": "stream",
     "text": [
      "--2023-01-29 02:12:33--  https://raw.githubusercontent.com/MegaloPat/DNN/main/DNN/list_patition_label.txt\n",
      "Resolving raw.githubusercontent.com (raw.githubusercontent.com)... 185.199.108.133, 185.199.109.133, 185.199.110.133, ...\n",
      "Connecting to raw.githubusercontent.com (raw.githubusercontent.com)|185.199.108.133|:443... connected.\n",
      "HTTP request sent, awaiting response... 200 OK\n",
      "Length: 285305 (279K) [text/plain]\n",
      "Saving to: ‘list_patition_label.txt.1’\n",
      "\n",
      "list_patition_label 100%[===================>] 278.62K  --.-KB/s    in 0.006s  \n",
      "\n",
      "2023-01-29 02:12:34 (44.2 MB/s) - ‘list_patition_label.txt.1’ saved [285305/285305]\n",
      "\n"
     ]
    }
   ],
   "source": [
    "! wget https://raw.githubusercontent.com/MegaloPat/DNN/main/DNN/list_patition_label.txt"
   ]
  },
  {
   "cell_type": "markdown",
   "metadata": {
    "id": "_u6BzVPDRN6a"
   },
   "source": [
    "## Download pretrained VGG_Face weights (Google Colab)"
   ]
  },
  {
   "cell_type": "code",
   "execution_count": 55,
   "metadata": {
    "colab": {
     "base_uri": "https://localhost:8080/"
    },
    "id": "6xaaP6dBLZM8",
    "outputId": "d4f97d41-031c-424f-c921-53a21428aaa4"
   },
   "outputs": [
    {
     "name": "stdout",
     "output_type": "stream",
     "text": [
      "--2023-01-29 02:12:34--  https://www.robots.ox.ac.uk/~albanie/models/pytorch-mcn/vgg_face_dag.pth\n",
      "Resolving www.robots.ox.ac.uk (www.robots.ox.ac.uk)... 129.67.94.2\n",
      "Connecting to www.robots.ox.ac.uk (www.robots.ox.ac.uk)|129.67.94.2|:443... connected.\n",
      "HTTP request sent, awaiting response... 200 OK\n",
      "Length: 580015466 (553M)\n",
      "Saving to: ‘vgg_face_dag.pth.1’\n",
      "\n",
      "vgg_face_dag.pth.1  100%[===================>] 553.15M  14.3MB/s    in 42s     \n",
      "\n",
      "2023-01-29 02:13:17 (13.3 MB/s) - ‘vgg_face_dag.pth.1’ saved [580015466/580015466]\n",
      "\n"
     ]
    }
   ],
   "source": [
    "! wget https://www.robots.ox.ac.uk/~albanie/models/pytorch-mcn/vgg_face_dag.pth"
   ]
  },
  {
   "cell_type": "markdown",
   "metadata": {
    "id": "AK-qn9hFeHqA"
   },
   "source": [
    "# I - Vanilla classification with pretrained VGG"
   ]
  },
  {
   "cell_type": "markdown",
   "metadata": {
    "id": "aPuFjHO5RN6e"
   },
   "source": [
    "First we will try to get baseline results with VGG pretrained on VGG_Face without any changes."
   ]
  },
  {
   "cell_type": "markdown",
   "metadata": {
    "id": "EFWWOXXueWol"
   },
   "source": [
    "## Prepare dataset"
   ]
  },
  {
   "cell_type": "markdown",
   "metadata": {
    "id": "CAljxGKMeQ0g"
   },
   "source": [
    "### Unzip data"
   ]
  },
  {
   "cell_type": "code",
   "execution_count": 56,
   "metadata": {
    "id": "5V-l3Mf6TTQq"
   },
   "outputs": [],
   "source": [
    "import zipfile\n",
    "\n",
    "with zipfile.ZipFile(\"aligned.zip\", 'r') as zip_ref:\n",
    "    zip_ref.extractall(\"./aligned\")"
   ]
  },
  {
   "cell_type": "code",
   "execution_count": 57,
   "metadata": {
    "colab": {
     "base_uri": "https://localhost:8080/"
    },
    "id": "j3hUoGmxTTQr",
    "outputId": "e23e5903-46cf-478b-ee22-6766dbea689d"
   },
   "outputs": [
    {
     "name": "stdout",
     "output_type": "stream",
     "text": [
      "mkdir: cannot create directory ‘aligned/train’: File exists\n",
      "mkdir: cannot create directory ‘aligned/test’: File exists\n"
     ]
    }
   ],
   "source": [
    "!mkdir aligned/train\n",
    "!mkdir aligned/test\n",
    "!mv aligned/aligned/train_* aligned/train\n",
    "!mv aligned/aligned/test_* aligned/test"
   ]
  },
  {
   "cell_type": "markdown",
   "metadata": {
    "id": "u9KfQpHqebCw"
   },
   "source": [
    "### Prepare csv labels"
   ]
  },
  {
   "cell_type": "code",
   "execution_count": 58,
   "metadata": {
    "id": "_gf_GRWUTTQs"
   },
   "outputs": [],
   "source": [
    "import csv\n",
    "\n",
    "with open(\"list_patition_label.txt\",\"r\") as file :\n",
    "    train_csv = open(\"train_list_label.csv\",\"w\",newline=\"\")\n",
    "    test_csv = open(\"test_list_label.csv\",\"w\",newline=\"\")\n",
    "\n",
    "    train_writer = csv.writer(train_csv)\n",
    "    train_writer.writerow([\"Filename\", \"Label\"])\n",
    "    \n",
    "    test_writer = csv.writer(test_csv)\n",
    "    test_writer.writerow([\"Filename\", \"Label\"])\n",
    "    \n",
    "    \n",
    "    for line in file:\n",
    "        filename, label = line.strip().split(\" \")\n",
    "        idx = filename.index(\".jpg\")\n",
    "        filename = filename[:idx] + \"_aligned\" + filename[idx:]\n",
    "        label = str(int(label) - 1)\n",
    "        \n",
    "        if \"train\" in filename :\n",
    "            train_writer.writerow([filename, label])\n",
    "        else :\n",
    "            test_writer.writerow([filename, label])\n"
   ]
  },
  {
   "cell_type": "markdown",
   "metadata": {
    "id": "LTAvN8J3egfk"
   },
   "source": [
    "### Preprocessing transform\n",
    "Preprocessing is the same as the experimental protocol of the original paper. This includes :\n",
    "* Resize to 224x224\n",
    "* Random rotation of -10° +10°\n",
    "* Random horizontal flip"
   ]
  },
  {
   "cell_type": "code",
   "execution_count": 59,
   "metadata": {
    "id": "9MF1-iFsTTQt"
   },
   "outputs": [],
   "source": [
    "trans = transforms.Compose([\n",
    "    transforms.Lambda(lambda x: x.float()),\n",
    "    transforms.Resize((224,224)),\n",
    "    transforms.RandomRotation(10),\n",
    "    transforms.RandomHorizontalFlip()\n",
    "])"
   ]
  },
  {
   "cell_type": "markdown",
   "metadata": {
    "id": "KaC7JedKenG_"
   },
   "source": [
    "### Create dataloaders\n",
    "Validation set will be sampled with a stratified split of test set, as in the paper, with ratio 50/50.\n",
    "\n",
    "Overall the proportions for the train/test/validation datasets are 80/10/10 %\n",
    "\n",
    "Finally, we will use a batch size of 16 as in the paper."
   ]
  },
  {
   "cell_type": "code",
   "execution_count": 60,
   "metadata": {
    "id": "RhF0_COyTTQv"
   },
   "outputs": [],
   "source": [
    "import pandas as pd\n",
    "import os\n",
    "from torch.utils.data import Dataset\n",
    "from torchvision.io import read_image\n",
    "\n",
    "class CustomImageDataset(Dataset):\n",
    "    def __init__(self, annotations_file, img_dir, transform=None, target_transform=None):\n",
    "        self.img_labels = pd.read_csv(annotations_file)\n",
    "        self.img_dir = img_dir\n",
    "        self.transform = transform\n",
    "        self.target_transform = target_transform\n",
    "\n",
    "    def __len__(self):\n",
    "        return len(self.img_labels)\n",
    "\n",
    "    def __getitem__(self, idx):\n",
    "        img_path = os.path.join(self.img_dir, self.img_labels.iloc[idx, 0])\n",
    "        image = read_image(img_path)\n",
    "        label = self.img_labels.iloc[idx, 1]\n",
    "        if self.transform:\n",
    "            image = self.transform(image)\n",
    "        if self.target_transform:\n",
    "            label = self.target_transform(label)\n",
    "        return image, label"
   ]
  },
  {
   "cell_type": "code",
   "execution_count": 61,
   "metadata": {
    "colab": {
     "base_uri": "https://localhost:8080/"
    },
    "id": "RFB9WkgxTTQx",
    "outputId": "b33f999a-4b3a-4698-d75d-caccdf9d71ee"
   },
   "outputs": [
    {
     "name": "stdout",
     "output_type": "stream",
     "text": [
      "\n",
      "Nb batches in train: 758\n"
     ]
    }
   ],
   "source": [
    "train_data = CustomImageDataset(\"train_list_label.csv\",\"./aligned/train\", transform=trans)\n",
    "train_loader = DataLoader(train_data, batch_size=16, shuffle=True, num_workers=4)\n",
    "print(f\"\\nNb batches in train: {len(train_loader)}\")"
   ]
  },
  {
   "cell_type": "code",
   "execution_count": 62,
   "metadata": {
    "id": "I2paf1E6TTQy"
   },
   "outputs": [],
   "source": [
    "from sklearn.model_selection import train_test_split\n",
    "test_data = CustomImageDataset(\"test_list_label.csv\",\"./aligned/test\", transform=trans)\n",
    "\n",
    "test_indices, val_indices = train_test_split(list(range(len(test_data.img_labels.Label))), test_size=0.5, stratify=test_data.img_labels.Label)\n",
    "\n",
    "val_data = torch.utils.data.Subset(test_data, val_indices)\n",
    "test_data = torch.utils.data.Subset(test_data, test_indices)\n"
   ]
  },
  {
   "cell_type": "code",
   "execution_count": 63,
   "metadata": {
    "colab": {
     "base_uri": "https://localhost:8080/"
    },
    "id": "g0vmJvM_c96n",
    "outputId": "fe3e290a-37b1-43a6-9ef6-94afbdb366bf"
   },
   "outputs": [
    {
     "name": "stdout",
     "output_type": "stream",
     "text": [
      "\n",
      "Nb batches in test: 92\n"
     ]
    },
    {
     "name": "stderr",
     "output_type": "stream",
     "text": [
      "/usr/local/lib/python3.8/dist-packages/torch/utils/data/dataloader.py:554: UserWarning: This DataLoader will create 4 worker processes in total. Our suggested max number of worker in current system is 2, which is smaller than what this DataLoader is going to create. Please be aware that excessive worker creation might get DataLoader running slow or even freeze, lower the worker number to avoid potential slowness/freeze if necessary.\n",
      "  warnings.warn(_create_warning_msg(\n"
     ]
    }
   ],
   "source": [
    "test_loader = DataLoader(test_data, batch_size=16, shuffle=True, num_workers=4)\n",
    "print(f\"\\nNb batches in test: {len(test_loader)}\")"
   ]
  },
  {
   "cell_type": "code",
   "execution_count": 64,
   "metadata": {
    "colab": {
     "base_uri": "https://localhost:8080/"
    },
    "id": "-Cztj6-wc_iE",
    "outputId": "33836c65-6ecf-4694-a65a-36085092c02a"
   },
   "outputs": [
    {
     "name": "stdout",
     "output_type": "stream",
     "text": [
      "\n",
      "Nb batches in val: 92\n"
     ]
    }
   ],
   "source": [
    "val_loader = DataLoader(val_data, batch_size=16, shuffle=True, num_workers=4)\n",
    "print(f\"\\nNb batches in val: {len(val_loader)}\")"
   ]
  },
  {
   "cell_type": "markdown",
   "metadata": {
    "id": "XpPiJoR9ewyx"
   },
   "source": [
    "## VGG class"
   ]
  },
  {
   "cell_type": "code",
   "execution_count": 65,
   "metadata": {
    "id": "RF0r5z--TTQ0"
   },
   "outputs": [],
   "source": [
    "\n",
    "import torch\n",
    "import torch.nn as nn\n",
    "\n",
    "\n",
    "class Vgg(nn.Module):\n",
    "\n",
    "    def __init__(self):\n",
    "        super(Vgg, self).__init__()\n",
    "        self.meta = {'mean': [129.186279296875, 104.76238250732422, 93.59396362304688],\n",
    "                     'std': [1, 1, 1],\n",
    "                     'imageSize': [224, 224, 3]}\n",
    "        self.conv1_1 = nn.Conv2d(3, 64, kernel_size=[3, 3], stride=(1, 1), padding=(1, 1))\n",
    "        self.relu1_1 = nn.ReLU(inplace=True)\n",
    "        self.conv1_2 = nn.Conv2d(64, 64, kernel_size=[3, 3], stride=(1, 1), padding=(1, 1))\n",
    "        self.relu1_2 = nn.ReLU(inplace=True)\n",
    "        self.pool1 = nn.MaxPool2d(kernel_size=[2, 2], stride=[2, 2], padding=0, dilation=1, ceil_mode=False)\n",
    "        self.conv2_1 = nn.Conv2d(64, 128, kernel_size=[3, 3], stride=(1, 1), padding=(1, 1))\n",
    "        self.relu2_1 = nn.ReLU(inplace=True)\n",
    "        self.conv2_2 = nn.Conv2d(128, 128, kernel_size=[3, 3], stride=(1, 1), padding=(1, 1))\n",
    "        self.relu2_2 = nn.ReLU(inplace=True)\n",
    "        self.pool2 = nn.MaxPool2d(kernel_size=[2, 2], stride=[2, 2], padding=0, dilation=1, ceil_mode=False)\n",
    "        self.conv3_1 = nn.Conv2d(128, 256, kernel_size=[3, 3], stride=(1, 1), padding=(1, 1))\n",
    "        self.relu3_1 = nn.ReLU(inplace=True)\n",
    "        self.conv3_2 = nn.Conv2d(256, 256, kernel_size=[3, 3], stride=(1, 1), padding=(1, 1))\n",
    "        self.relu3_2 = nn.ReLU(inplace=True)\n",
    "        self.conv3_3 = nn.Conv2d(256, 256, kernel_size=[3, 3], stride=(1, 1), padding=(1, 1))\n",
    "        self.relu3_3 = nn.ReLU(inplace=True)\n",
    "        self.pool3 = nn.MaxPool2d(kernel_size=[2, 2], stride=[2, 2], padding=0, dilation=1, ceil_mode=False)\n",
    "        self.conv4_1 = nn.Conv2d(256, 512, kernel_size=[3, 3], stride=(1, 1), padding=(1, 1))\n",
    "        self.relu4_1 = nn.ReLU(inplace=True)\n",
    "        self.conv4_2 = nn.Conv2d(512, 512, kernel_size=[3, 3], stride=(1, 1), padding=(1, 1))\n",
    "        self.relu4_2 = nn.ReLU(inplace=True)\n",
    "        self.conv4_3 = nn.Conv2d(512, 512, kernel_size=[3, 3], stride=(1, 1), padding=(1, 1))\n",
    "        self.relu4_3 = nn.ReLU(inplace=True)\n",
    "        self.pool4 = nn.MaxPool2d(kernel_size=[2, 2], stride=[2, 2], padding=0, dilation=1, ceil_mode=False)\n",
    "        self.conv5_1 = nn.Conv2d(512, 512, kernel_size=[3, 3], stride=(1, 1), padding=(1, 1))\n",
    "        self.relu5_1 = nn.ReLU(inplace=True)\n",
    "        self.conv5_2 = nn.Conv2d(512, 512, kernel_size=[3, 3], stride=(1, 1), padding=(1, 1))\n",
    "        self.relu5_2 = nn.ReLU(inplace=True)\n",
    "        self.conv5_3 = nn.Conv2d(512, 512, kernel_size=[3, 3], stride=(1, 1), padding=(1, 1))\n",
    "        self.relu5_3 = nn.ReLU(inplace=True)\n",
    "        self.pool5 = nn.MaxPool2d(kernel_size=[2, 2], stride=[2, 2], padding=0, dilation=1, ceil_mode=False)\n",
    "        self.fc6 = nn.Linear(in_features=25088, out_features=4096, bias=True)\n",
    "        self.relu6 = nn.ReLU(inplace=True)\n",
    "        self.dropout6 = nn.Dropout(p=0.5)\n",
    "        self.fc7 = nn.Linear(in_features=4096, out_features=4096, bias=True)\n",
    "        self.relu7 = nn.ReLU(inplace=True)\n",
    "        self.dropout7 = nn.Dropout(p=0.5)\n",
    "        self.fc8 = nn.Linear(in_features=4096, out_features=7, bias=True)\n",
    "\n",
    "\n",
    "    def forward(self, x0):\n",
    "        x1 = self.conv1_1(x0)\n",
    "        x2 = self.relu1_1(x1)\n",
    "        x3 = self.conv1_2(x2)\n",
    "        x4 = self.relu1_2(x3)\n",
    "        x5 = self.pool1(x4)\n",
    "        x6 = self.conv2_1(x5)\n",
    "        x7 = self.relu2_1(x6)\n",
    "        x8 = self.conv2_2(x7)\n",
    "        x9 = self.relu2_2(x8)\n",
    "        x10 = self.pool2(x9)\n",
    "        x11 = self.conv3_1(x10)\n",
    "        x12 = self.relu3_1(x11)\n",
    "        x13 = self.conv3_2(x12)\n",
    "        x14 = self.relu3_2(x13)\n",
    "        x15 = self.conv3_3(x14)\n",
    "        x16 = self.relu3_3(x15)\n",
    "        x17 = self.pool3(x16)\n",
    "        x18 = self.conv4_1(x17)\n",
    "        x19 = self.relu4_1(x18)\n",
    "        x20 = self.conv4_2(x19)\n",
    "        x21 = self.relu4_2(x20)\n",
    "        x22 = self.conv4_3(x21)\n",
    "        x23 = self.relu4_3(x22)\n",
    "        x24 = self.pool4(x23)\n",
    "        x25 = self.conv5_1(x24)\n",
    "        x26 = self.relu5_1(x25)\n",
    "        x27 = self.conv5_2(x26)\n",
    "        x28 = self.relu5_2(x27)\n",
    "        x29 = self.conv5_3(x28)\n",
    "        x30 = self.relu5_3(x29)\n",
    "        x31_preflatten = self.pool5(x30)\n",
    "        x31 = x31_preflatten.view(x31_preflatten.size(0), -1)\n",
    "        x32 = self.fc6(x31)\n",
    "        x33 = self.relu6(x32)\n",
    "        x34 = self.dropout6(x33)\n",
    "        x35 = self.fc7(x34)\n",
    "        x36 = self.relu7(x35)\n",
    "        x37 = self.dropout7(x36)\n",
    "        x38 = self.fc8(x37)\n",
    "        return x38\n",
    "\n",
    "def vgg_face(weights_path=None, **kwargs):\n",
    "    \"\"\"\n",
    "    load imported model instance\n",
    "\n",
    "    Args:\n",
    "        weights_path (str): If set, loads model weights from the given path\n",
    "    \"\"\"\n",
    "    model = Vgg()\n",
    "    if weights_path:\n",
    "        state_dict = torch.load(weights_path)\n",
    "        state_dict.pop(\"fc6.weight\")\n",
    "        state_dict.pop(\"fc6.bias\")\n",
    "        state_dict.pop(\"fc7.weight\")\n",
    "        state_dict.pop(\"fc7.bias\")\n",
    "        state_dict.pop(\"fc8.weight\")\n",
    "        state_dict.pop(\"fc8.bias\")\n",
    "        model.load_state_dict(state_dict, strict=False)\n",
    "    return model"
   ]
  },
  {
   "cell_type": "markdown",
   "metadata": {
    "id": "L6znD8m3e0UX"
   },
   "source": [
    "### Load pretrained weights on vgg_face"
   ]
  },
  {
   "cell_type": "code",
   "execution_count": 66,
   "metadata": {
    "id": "-mz1UwaITTQ1"
   },
   "outputs": [],
   "source": [
    "vgg = vgg_face(\"vgg_face_dag.pth\")\n",
    "vgg = vgg.to(device)"
   ]
  },
  {
   "cell_type": "markdown",
   "metadata": {
    "id": "rfE_h1R5e44U"
   },
   "source": [
    "## Train"
   ]
  },
  {
   "cell_type": "markdown",
   "metadata": {
    "id": "F2Vz0Yf4e7kU"
   },
   "source": [
    "### Initial evaluation on validation dataset"
   ]
  },
  {
   "cell_type": "code",
   "execution_count": 67,
   "metadata": {
    "id": "qyUWv3xVg6j8"
   },
   "outputs": [],
   "source": [
    "cross_entropy = nn.CrossEntropyLoss()\n",
    "\n",
    "def eval_model(net, loader):\n",
    "  net.eval()\n",
    "  acc, loss = 0., 0.\n",
    "  c = 0\n",
    "  for x, y in loader:\n",
    "    with torch.no_grad():\n",
    "      # No need to compute gradient here thus we avoid storing intermediary activations\n",
    "      logits = net(x.to(device)).cpu()\n",
    "\n",
    "    loss += cross_entropy(logits, y).item()\n",
    "    preds = logits.argmax(dim=1)\n",
    "    acc += (preds.numpy() == y.numpy()).sum()\n",
    "    c += len(x)\n",
    "\n",
    "  acc /= c\n",
    "  loss /= len(loader)\n",
    "  net.train()\n",
    "  return acc, loss"
   ]
  },
  {
   "cell_type": "code",
   "execution_count": 68,
   "metadata": {
    "colab": {
     "base_uri": "https://localhost:8080/"
    },
    "id": "nzWqyNeOTTQ2",
    "outputId": "2b94acf0-7e00-4ceb-e109-a0203241c959"
   },
   "outputs": [
    {
     "name": "stdout",
     "output_type": "stream",
     "text": [
      "Initial accuracy/loss on val: 12.57/3.0378\n"
     ]
    }
   ],
   "source": [
    "initial_acc, initial_loss = eval_model(vgg, val_loader)\n",
    "print(f\"Initial accuracy/loss on val: {round(100 * initial_acc, 2)}/{round(initial_loss, 4)}\")"
   ]
  },
  {
   "cell_type": "markdown",
   "metadata": {
    "id": "aEUMsdH-fF79"
   },
   "source": [
    "### Training\n",
    "\n",
    "Training will be performed with adam optimizer, using a base learning rate of 5e-5 and polynomial decay on all epochs with a power of 0.5, for 75 epochs.  \n",
    "We will save the best model according to the accuracy on the validation set.  \n",
    "These parameters follow the experimental protocol of the paper."
   ]
  },
  {
   "cell_type": "code",
   "execution_count": 69,
   "metadata": {
    "id": "HFqWHdsKfC_O"
   },
   "outputs": [],
   "source": [
    "from torch.optim.lr_scheduler import PolynomialLR\n",
    "\n",
    "\n",
    "optimizer = torch.optim.Adam(vgg.parameters(), lr=0.00005)\n",
    "scheduler = PolynomialLR(optimizer, total_iters=75, power=2)\n",
    "\n",
    "nb_epochs = 75\n",
    "\n",
    "train_accs, train_losses = [], []\n",
    "val_accs, val_losses = [], []"
   ]
  },
  {
   "cell_type": "code",
   "execution_count": 70,
   "metadata": {
    "colab": {
     "base_uri": "https://localhost:8080/"
    },
    "id": "27MCDp2JTTQ2",
    "outputId": "f6ca9ac4-2748-4565-936c-5cf0264b3cef"
   },
   "outputs": [
    {
     "name": "stderr",
     "output_type": "stream",
     "text": [
      "100%|██████████| 758/758 [03:29<00:00,  3.62batch/s, loss=1.47]\n"
     ]
    },
    {
     "name": "stdout",
     "output_type": "stream",
     "text": [
      "Epoch 1/75, train acc/loss: 42.12/1.5505, val acc/loss: 42.12/1.4842, time 219s\n"
     ]
    },
    {
     "name": "stderr",
     "output_type": "stream",
     "text": [
      "100%|██████████| 758/758 [03:32<00:00,  3.57batch/s, loss=1.68]\n"
     ]
    },
    {
     "name": "stdout",
     "output_type": "stream",
     "text": [
      "Epoch 2/75, train acc/loss: 42.41/1.531, val acc/loss: 41.64/1.4882, time 220s\n"
     ]
    },
    {
     "name": "stderr",
     "output_type": "stream",
     "text": [
      "100%|██████████| 758/758 [03:33<00:00,  3.55batch/s, loss=1.95]\n"
     ]
    },
    {
     "name": "stdout",
     "output_type": "stream",
     "text": [
      "Epoch 3/75, train acc/loss: 42.55/1.5294, val acc/loss: 41.78/1.4864, time 221s\n"
     ]
    },
    {
     "name": "stderr",
     "output_type": "stream",
     "text": [
      "100%|██████████| 758/758 [03:33<00:00,  3.56batch/s, loss=1.56]\n"
     ]
    },
    {
     "name": "stdout",
     "output_type": "stream",
     "text": [
      "Epoch 4/75, train acc/loss: 42.35/1.5263, val acc/loss: 42.66/1.4847, time 223s\n"
     ]
    },
    {
     "name": "stderr",
     "output_type": "stream",
     "text": [
      "100%|██████████| 758/758 [03:32<00:00,  3.56batch/s, loss=1.54]\n"
     ]
    },
    {
     "name": "stdout",
     "output_type": "stream",
     "text": [
      "Epoch 5/75, train acc/loss: 42.05/1.5286, val acc/loss: 42.19/1.4853, time 221s\n"
     ]
    },
    {
     "name": "stderr",
     "output_type": "stream",
     "text": [
      "100%|██████████| 758/758 [03:33<00:00,  3.56batch/s, loss=1.52]\n"
     ]
    },
    {
     "name": "stdout",
     "output_type": "stream",
     "text": [
      "Epoch 6/75, train acc/loss: 42.35/1.53, val acc/loss: 42.53/1.4816, time 221s\n"
     ]
    },
    {
     "name": "stderr",
     "output_type": "stream",
     "text": [
      "100%|██████████| 758/758 [03:32<00:00,  3.56batch/s, loss=1.52]\n"
     ]
    },
    {
     "name": "stdout",
     "output_type": "stream",
     "text": [
      "Epoch 7/75, train acc/loss: 41.89/1.5279, val acc/loss: 42.12/1.4834, time 221s\n"
     ]
    },
    {
     "name": "stderr",
     "output_type": "stream",
     "text": [
      "100%|██████████| 758/758 [03:32<00:00,  3.56batch/s, loss=1.28]\n"
     ]
    },
    {
     "name": "stdout",
     "output_type": "stream",
     "text": [
      "Epoch 8/75, train acc/loss: 42.09/1.5283, val acc/loss: 42.8/1.483, time 223s\n"
     ]
    },
    {
     "name": "stderr",
     "output_type": "stream",
     "text": [
      "100%|██████████| 758/758 [03:32<00:00,  3.56batch/s, loss=1.15]\n"
     ]
    },
    {
     "name": "stdout",
     "output_type": "stream",
     "text": [
      "Epoch 9/75, train acc/loss: 42.1/1.532, val acc/loss: 42.19/1.482, time 221s\n"
     ]
    },
    {
     "name": "stderr",
     "output_type": "stream",
     "text": [
      "100%|██████████| 758/758 [03:32<00:00,  3.56batch/s, loss=1.59]\n"
     ]
    },
    {
     "name": "stdout",
     "output_type": "stream",
     "text": [
      "Epoch 10/75, train acc/loss: 42.07/1.53, val acc/loss: 41.78/1.482, time 221s\n"
     ]
    },
    {
     "name": "stderr",
     "output_type": "stream",
     "text": [
      "100%|██████████| 758/758 [03:33<00:00,  3.56batch/s, loss=1.14]\n"
     ]
    },
    {
     "name": "stdout",
     "output_type": "stream",
     "text": [
      "Epoch 11/75, train acc/loss: 42.21/1.5316, val acc/loss: 41.3/1.4856, time 221s\n"
     ]
    },
    {
     "name": "stderr",
     "output_type": "stream",
     "text": [
      "100%|██████████| 758/758 [03:33<00:00,  3.56batch/s, loss=1.66]\n"
     ]
    },
    {
     "name": "stdout",
     "output_type": "stream",
     "text": [
      "Epoch 12/75, train acc/loss: 42.36/1.532, val acc/loss: 42.46/1.483, time 221s\n"
     ]
    },
    {
     "name": "stderr",
     "output_type": "stream",
     "text": [
      "100%|██████████| 758/758 [03:32<00:00,  3.56batch/s, loss=1.6]\n"
     ]
    },
    {
     "name": "stdout",
     "output_type": "stream",
     "text": [
      "Epoch 13/75, train acc/loss: 41.96/1.5301, val acc/loss: 42.39/1.4857, time 221s\n"
     ]
    },
    {
     "name": "stderr",
     "output_type": "stream",
     "text": [
      "100%|██████████| 758/758 [03:32<00:00,  3.56batch/s, loss=1.38]\n"
     ]
    },
    {
     "name": "stdout",
     "output_type": "stream",
     "text": [
      "Epoch 14/75, train acc/loss: 42.07/1.5349, val acc/loss: 42.19/1.4887, time 221s\n"
     ]
    },
    {
     "name": "stderr",
     "output_type": "stream",
     "text": [
      "100%|██████████| 758/758 [03:33<00:00,  3.56batch/s, loss=1.19]\n"
     ]
    },
    {
     "name": "stdout",
     "output_type": "stream",
     "text": [
      "Epoch 15/75, train acc/loss: 42.07/1.527, val acc/loss: 42.53/1.4848, time 221s\n"
     ]
    },
    {
     "name": "stderr",
     "output_type": "stream",
     "text": [
      "100%|██████████| 758/758 [03:32<00:00,  3.56batch/s, loss=1.5]\n"
     ]
    },
    {
     "name": "stdout",
     "output_type": "stream",
     "text": [
      "Epoch 16/75, train acc/loss: 42.21/1.5296, val acc/loss: 42.46/1.4822, time 221s\n"
     ]
    },
    {
     "name": "stderr",
     "output_type": "stream",
     "text": [
      "100%|██████████| 758/758 [03:32<00:00,  3.56batch/s, loss=1.52]\n"
     ]
    },
    {
     "name": "stdout",
     "output_type": "stream",
     "text": [
      "Epoch 17/75, train acc/loss: 42.6/1.5255, val acc/loss: 42.26/1.4803, time 221s\n"
     ]
    },
    {
     "name": "stderr",
     "output_type": "stream",
     "text": [
      "100%|██████████| 758/758 [03:32<00:00,  3.56batch/s, loss=1.9]\n"
     ]
    },
    {
     "name": "stdout",
     "output_type": "stream",
     "text": [
      "Epoch 18/75, train acc/loss: 42.15/1.5283, val acc/loss: 41.51/1.4856, time 221s\n"
     ]
    },
    {
     "name": "stderr",
     "output_type": "stream",
     "text": [
      "100%|██████████| 758/758 [03:32<00:00,  3.56batch/s, loss=1.5]\n"
     ]
    },
    {
     "name": "stdout",
     "output_type": "stream",
     "text": [
      "Epoch 19/75, train acc/loss: 42.21/1.5303, val acc/loss: 42.53/1.4842, time 221s\n"
     ]
    },
    {
     "name": "stderr",
     "output_type": "stream",
     "text": [
      "100%|██████████| 758/758 [03:32<00:00,  3.56batch/s, loss=1.43]\n"
     ]
    },
    {
     "name": "stdout",
     "output_type": "stream",
     "text": [
      "Epoch 20/75, train acc/loss: 42.4/1.5294, val acc/loss: 42.8/1.4835, time 221s\n"
     ]
    },
    {
     "name": "stderr",
     "output_type": "stream",
     "text": [
      "100%|██████████| 758/758 [03:33<00:00,  3.56batch/s, loss=1.5]\n"
     ]
    },
    {
     "name": "stdout",
     "output_type": "stream",
     "text": [
      "Epoch 21/75, train acc/loss: 42.05/1.5308, val acc/loss: 42.46/1.486, time 221s\n"
     ]
    },
    {
     "name": "stderr",
     "output_type": "stream",
     "text": [
      "100%|██████████| 758/758 [03:32<00:00,  3.56batch/s, loss=1.56]\n"
     ]
    },
    {
     "name": "stdout",
     "output_type": "stream",
     "text": [
      "Epoch 22/75, train acc/loss: 42.69/1.5231, val acc/loss: 42.53/1.4868, time 221s\n"
     ]
    },
    {
     "name": "stderr",
     "output_type": "stream",
     "text": [
      "100%|██████████| 758/758 [03:33<00:00,  3.56batch/s, loss=1.44]\n"
     ]
    },
    {
     "name": "stdout",
     "output_type": "stream",
     "text": [
      "Epoch 23/75, train acc/loss: 42.34/1.5272, val acc/loss: 42.12/1.4844, time 221s\n"
     ]
    },
    {
     "name": "stderr",
     "output_type": "stream",
     "text": [
      "100%|██████████| 758/758 [03:33<00:00,  3.56batch/s, loss=1.63]\n"
     ]
    },
    {
     "name": "stdout",
     "output_type": "stream",
     "text": [
      "Epoch 24/75, train acc/loss: 42.19/1.5256, val acc/loss: 41.78/1.4817, time 221s\n"
     ]
    },
    {
     "name": "stderr",
     "output_type": "stream",
     "text": [
      "100%|██████████| 758/758 [03:33<00:00,  3.56batch/s, loss=1.25]\n"
     ]
    },
    {
     "name": "stdout",
     "output_type": "stream",
     "text": [
      "Epoch 25/75, train acc/loss: 42.17/1.5262, val acc/loss: 42.39/1.4846, time 221s\n"
     ]
    },
    {
     "name": "stderr",
     "output_type": "stream",
     "text": [
      "100%|██████████| 758/758 [03:33<00:00,  3.56batch/s, loss=1.74]\n"
     ]
    },
    {
     "name": "stdout",
     "output_type": "stream",
     "text": [
      "Epoch 26/75, train acc/loss: 41.97/1.5308, val acc/loss: 41.92/1.4862, time 221s\n"
     ]
    },
    {
     "name": "stderr",
     "output_type": "stream",
     "text": [
      "100%|██████████| 758/758 [03:32<00:00,  3.56batch/s, loss=1.08]\n"
     ]
    },
    {
     "name": "stdout",
     "output_type": "stream",
     "text": [
      "Epoch 27/75, train acc/loss: 42.38/1.5305, val acc/loss: 42.19/1.4829, time 221s\n"
     ]
    },
    {
     "name": "stderr",
     "output_type": "stream",
     "text": [
      "100%|██████████| 758/758 [03:32<00:00,  3.56batch/s, loss=0.968]\n"
     ]
    },
    {
     "name": "stdout",
     "output_type": "stream",
     "text": [
      "Epoch 28/75, train acc/loss: 42.49/1.5299, val acc/loss: 41.98/1.4871, time 221s\n"
     ]
    },
    {
     "name": "stderr",
     "output_type": "stream",
     "text": [
      "100%|██████████| 758/758 [03:33<00:00,  3.56batch/s, loss=1.17]\n"
     ]
    },
    {
     "name": "stdout",
     "output_type": "stream",
     "text": [
      "Epoch 29/75, train acc/loss: 42.65/1.5289, val acc/loss: 42.32/1.4868, time 221s\n"
     ]
    },
    {
     "name": "stderr",
     "output_type": "stream",
     "text": [
      "100%|██████████| 758/758 [03:33<00:00,  3.56batch/s, loss=1.48]\n"
     ]
    },
    {
     "name": "stdout",
     "output_type": "stream",
     "text": [
      "Epoch 30/75, train acc/loss: 42.23/1.532, val acc/loss: 42.66/1.4833, time 221s\n"
     ]
    },
    {
     "name": "stderr",
     "output_type": "stream",
     "text": [
      "100%|██████████| 758/758 [03:33<00:00,  3.56batch/s, loss=1.31]\n"
     ]
    },
    {
     "name": "stdout",
     "output_type": "stream",
     "text": [
      "Epoch 31/75, train acc/loss: 42.11/1.5272, val acc/loss: 42.12/1.4861, time 221s\n"
     ]
    },
    {
     "name": "stderr",
     "output_type": "stream",
     "text": [
      "100%|██████████| 758/758 [03:33<00:00,  3.56batch/s, loss=1.89]\n"
     ]
    },
    {
     "name": "stdout",
     "output_type": "stream",
     "text": [
      "Epoch 32/75, train acc/loss: 42.32/1.5291, val acc/loss: 42.46/1.4847, time 221s\n"
     ]
    },
    {
     "name": "stderr",
     "output_type": "stream",
     "text": [
      "100%|██████████| 758/758 [03:33<00:00,  3.56batch/s, loss=1.43]\n"
     ]
    },
    {
     "name": "stdout",
     "output_type": "stream",
     "text": [
      "Epoch 33/75, train acc/loss: 42.41/1.525, val acc/loss: 42.12/1.4838, time 221s\n"
     ]
    },
    {
     "name": "stderr",
     "output_type": "stream",
     "text": [
      "100%|██████████| 758/758 [03:33<00:00,  3.56batch/s, loss=1.6]\n"
     ]
    },
    {
     "name": "stdout",
     "output_type": "stream",
     "text": [
      "Epoch 34/75, train acc/loss: 42.14/1.5266, val acc/loss: 41.98/1.4833, time 221s\n"
     ]
    },
    {
     "name": "stderr",
     "output_type": "stream",
     "text": [
      "100%|██████████| 758/758 [03:33<00:00,  3.56batch/s, loss=1.3]\n"
     ]
    },
    {
     "name": "stdout",
     "output_type": "stream",
     "text": [
      "Epoch 35/75, train acc/loss: 42.26/1.5277, val acc/loss: 42.32/1.4821, time 221s\n"
     ]
    },
    {
     "name": "stderr",
     "output_type": "stream",
     "text": [
      "100%|██████████| 758/758 [03:32<00:00,  3.56batch/s, loss=1.19]\n"
     ]
    },
    {
     "name": "stdout",
     "output_type": "stream",
     "text": [
      "Epoch 36/75, train acc/loss: 42.35/1.5288, val acc/loss: 42.05/1.4852, time 221s\n"
     ]
    },
    {
     "name": "stderr",
     "output_type": "stream",
     "text": [
      "100%|██████████| 758/758 [03:33<00:00,  3.56batch/s, loss=1.92]\n"
     ]
    },
    {
     "name": "stdout",
     "output_type": "stream",
     "text": [
      "Epoch 37/75, train acc/loss: 42.25/1.5284, val acc/loss: 42.32/1.483, time 221s\n"
     ]
    },
    {
     "name": "stderr",
     "output_type": "stream",
     "text": [
      "100%|██████████| 758/758 [03:33<00:00,  3.55batch/s, loss=2.24]\n"
     ]
    },
    {
     "name": "stdout",
     "output_type": "stream",
     "text": [
      "Epoch 38/75, train acc/loss: 42.29/1.5314, val acc/loss: 42.19/1.4844, time 221s\n"
     ]
    },
    {
     "name": "stderr",
     "output_type": "stream",
     "text": [
      "100%|██████████| 758/758 [03:33<00:00,  3.56batch/s, loss=2.4]\n"
     ]
    },
    {
     "name": "stdout",
     "output_type": "stream",
     "text": [
      "Epoch 39/75, train acc/loss: 42.3/1.5303, val acc/loss: 43.21/1.4815, time 223s\n"
     ]
    },
    {
     "name": "stderr",
     "output_type": "stream",
     "text": [
      "100%|██████████| 758/758 [03:32<00:00,  3.56batch/s, loss=1.56]\n"
     ]
    },
    {
     "name": "stdout",
     "output_type": "stream",
     "text": [
      "Epoch 40/75, train acc/loss: 42.57/1.5283, val acc/loss: 42.19/1.4865, time 221s\n"
     ]
    },
    {
     "name": "stderr",
     "output_type": "stream",
     "text": [
      "100%|██████████| 758/758 [03:32<00:00,  3.56batch/s, loss=1.83]\n"
     ]
    },
    {
     "name": "stdout",
     "output_type": "stream",
     "text": [
      "Epoch 41/75, train acc/loss: 42.29/1.5301, val acc/loss: 42.19/1.4795, time 221s\n"
     ]
    },
    {
     "name": "stderr",
     "output_type": "stream",
     "text": [
      "100%|██████████| 758/758 [03:32<00:00,  3.56batch/s, loss=1.63]\n"
     ]
    },
    {
     "name": "stdout",
     "output_type": "stream",
     "text": [
      "Epoch 42/75, train acc/loss: 42.26/1.5282, val acc/loss: 41.92/1.4834, time 221s\n"
     ]
    },
    {
     "name": "stderr",
     "output_type": "stream",
     "text": [
      "100%|██████████| 758/758 [03:33<00:00,  3.56batch/s, loss=2.14]\n"
     ]
    },
    {
     "name": "stdout",
     "output_type": "stream",
     "text": [
      "Epoch 43/75, train acc/loss: 42.13/1.5314, val acc/loss: 42.19/1.486, time 221s\n"
     ]
    },
    {
     "name": "stderr",
     "output_type": "stream",
     "text": [
      "100%|██████████| 758/758 [03:33<00:00,  3.55batch/s, loss=1.45]\n"
     ]
    },
    {
     "name": "stdout",
     "output_type": "stream",
     "text": [
      "Epoch 44/75, train acc/loss: 41.82/1.5282, val acc/loss: 42.19/1.4873, time 221s\n"
     ]
    },
    {
     "name": "stderr",
     "output_type": "stream",
     "text": [
      "100%|██████████| 758/758 [03:32<00:00,  3.56batch/s, loss=1.33]\n"
     ]
    },
    {
     "name": "stdout",
     "output_type": "stream",
     "text": [
      "Epoch 45/75, train acc/loss: 42.23/1.5316, val acc/loss: 42.46/1.4846, time 221s\n"
     ]
    },
    {
     "name": "stderr",
     "output_type": "stream",
     "text": [
      "100%|██████████| 758/758 [03:33<00:00,  3.56batch/s, loss=1.5]\n"
     ]
    },
    {
     "name": "stdout",
     "output_type": "stream",
     "text": [
      "Epoch 46/75, train acc/loss: 42.39/1.5258, val acc/loss: 42.53/1.4871, time 221s\n"
     ]
    },
    {
     "name": "stderr",
     "output_type": "stream",
     "text": [
      "100%|██████████| 758/758 [03:33<00:00,  3.56batch/s, loss=2.12]\n"
     ]
    },
    {
     "name": "stdout",
     "output_type": "stream",
     "text": [
      "Epoch 47/75, train acc/loss: 42.28/1.5287, val acc/loss: 42.12/1.4856, time 221s\n"
     ]
    },
    {
     "name": "stderr",
     "output_type": "stream",
     "text": [
      "100%|██████████| 758/758 [03:33<00:00,  3.56batch/s, loss=1.3]\n"
     ]
    },
    {
     "name": "stdout",
     "output_type": "stream",
     "text": [
      "Epoch 48/75, train acc/loss: 42.28/1.5243, val acc/loss: 42.05/1.4867, time 221s\n"
     ]
    },
    {
     "name": "stderr",
     "output_type": "stream",
     "text": [
      "100%|██████████| 758/758 [03:32<00:00,  3.56batch/s, loss=1.54]\n"
     ]
    },
    {
     "name": "stdout",
     "output_type": "stream",
     "text": [
      "Epoch 49/75, train acc/loss: 42.25/1.5277, val acc/loss: 41.71/1.4841, time 221s\n"
     ]
    },
    {
     "name": "stderr",
     "output_type": "stream",
     "text": [
      "100%|██████████| 758/758 [03:33<00:00,  3.55batch/s, loss=1.28]\n"
     ]
    },
    {
     "name": "stdout",
     "output_type": "stream",
     "text": [
      "Epoch 50/75, train acc/loss: 42.33/1.5251, val acc/loss: 42.66/1.4809, time 221s\n"
     ]
    },
    {
     "name": "stderr",
     "output_type": "stream",
     "text": [
      "100%|██████████| 758/758 [03:33<00:00,  3.55batch/s, loss=1.49]\n"
     ]
    },
    {
     "name": "stdout",
     "output_type": "stream",
     "text": [
      "Epoch 51/75, train acc/loss: 42.17/1.5289, val acc/loss: 41.92/1.4845, time 221s\n"
     ]
    },
    {
     "name": "stderr",
     "output_type": "stream",
     "text": [
      "100%|██████████| 758/758 [03:33<00:00,  3.56batch/s, loss=1.65]\n"
     ]
    },
    {
     "name": "stdout",
     "output_type": "stream",
     "text": [
      "Epoch 52/75, train acc/loss: 42.19/1.5296, val acc/loss: 42.39/1.4865, time 221s\n"
     ]
    },
    {
     "name": "stderr",
     "output_type": "stream",
     "text": [
      "100%|██████████| 758/758 [03:33<00:00,  3.55batch/s, loss=1.35]\n"
     ]
    },
    {
     "name": "stdout",
     "output_type": "stream",
     "text": [
      "Epoch 53/75, train acc/loss: 42.35/1.5248, val acc/loss: 42.46/1.4856, time 221s\n"
     ]
    },
    {
     "name": "stderr",
     "output_type": "stream",
     "text": [
      "100%|██████████| 758/758 [03:33<00:00,  3.56batch/s, loss=1.08]\n"
     ]
    },
    {
     "name": "stdout",
     "output_type": "stream",
     "text": [
      "Epoch 54/75, train acc/loss: 42.17/1.5288, val acc/loss: 42.26/1.4812, time 221s\n"
     ]
    },
    {
     "name": "stderr",
     "output_type": "stream",
     "text": [
      "100%|██████████| 758/758 [03:33<00:00,  3.56batch/s, loss=1.57]\n"
     ]
    },
    {
     "name": "stdout",
     "output_type": "stream",
     "text": [
      "Epoch 55/75, train acc/loss: 42.4/1.5257, val acc/loss: 42.32/1.4845, time 221s\n"
     ]
    },
    {
     "name": "stderr",
     "output_type": "stream",
     "text": [
      "100%|██████████| 758/758 [03:33<00:00,  3.56batch/s, loss=1.97]\n"
     ]
    },
    {
     "name": "stdout",
     "output_type": "stream",
     "text": [
      "Epoch 56/75, train acc/loss: 41.86/1.5316, val acc/loss: 42.05/1.485, time 221s\n"
     ]
    },
    {
     "name": "stderr",
     "output_type": "stream",
     "text": [
      "100%|██████████| 758/758 [03:32<00:00,  3.56batch/s, loss=1.81]\n"
     ]
    },
    {
     "name": "stdout",
     "output_type": "stream",
     "text": [
      "Epoch 57/75, train acc/loss: 42.36/1.5279, val acc/loss: 42.19/1.4799, time 221s\n"
     ]
    },
    {
     "name": "stderr",
     "output_type": "stream",
     "text": [
      "100%|██████████| 758/758 [03:33<00:00,  3.56batch/s, loss=1.01]\n"
     ]
    },
    {
     "name": "stdout",
     "output_type": "stream",
     "text": [
      "Epoch 58/75, train acc/loss: 42.4/1.5289, val acc/loss: 42.26/1.4823, time 221s\n"
     ]
    },
    {
     "name": "stderr",
     "output_type": "stream",
     "text": [
      "100%|██████████| 758/758 [03:32<00:00,  3.56batch/s, loss=1.49]\n"
     ]
    },
    {
     "name": "stdout",
     "output_type": "stream",
     "text": [
      "Epoch 59/75, train acc/loss: 42.45/1.5266, val acc/loss: 42.46/1.4841, time 221s\n"
     ]
    },
    {
     "name": "stderr",
     "output_type": "stream",
     "text": [
      "100%|██████████| 758/758 [03:33<00:00,  3.55batch/s, loss=1.59]\n"
     ]
    },
    {
     "name": "stdout",
     "output_type": "stream",
     "text": [
      "Epoch 60/75, train acc/loss: 42.25/1.5274, val acc/loss: 42.53/1.4856, time 221s\n"
     ]
    },
    {
     "name": "stderr",
     "output_type": "stream",
     "text": [
      "100%|██████████| 758/758 [03:33<00:00,  3.55batch/s, loss=1.76]\n"
     ]
    },
    {
     "name": "stdout",
     "output_type": "stream",
     "text": [
      "Epoch 61/75, train acc/loss: 42.26/1.5283, val acc/loss: 42.05/1.4864, time 221s\n"
     ]
    },
    {
     "name": "stderr",
     "output_type": "stream",
     "text": [
      "100%|██████████| 758/758 [03:33<00:00,  3.55batch/s, loss=1.56]\n"
     ]
    },
    {
     "name": "stdout",
     "output_type": "stream",
     "text": [
      "Epoch 62/75, train acc/loss: 42.4/1.526, val acc/loss: 42.66/1.4862, time 221s\n"
     ]
    },
    {
     "name": "stderr",
     "output_type": "stream",
     "text": [
      "100%|██████████| 758/758 [03:33<00:00,  3.55batch/s, loss=1.73]\n"
     ]
    },
    {
     "name": "stdout",
     "output_type": "stream",
     "text": [
      "Epoch 63/75, train acc/loss: 42.4/1.5266, val acc/loss: 42.26/1.4814, time 221s\n"
     ]
    },
    {
     "name": "stderr",
     "output_type": "stream",
     "text": [
      "100%|██████████| 758/758 [03:33<00:00,  3.56batch/s, loss=1.37]\n"
     ]
    },
    {
     "name": "stdout",
     "output_type": "stream",
     "text": [
      "Epoch 64/75, train acc/loss: 42.38/1.5281, val acc/loss: 42.73/1.4824, time 221s\n"
     ]
    },
    {
     "name": "stderr",
     "output_type": "stream",
     "text": [
      "100%|██████████| 758/758 [03:33<00:00,  3.55batch/s, loss=1.89]\n"
     ]
    },
    {
     "name": "stdout",
     "output_type": "stream",
     "text": [
      "Epoch 65/75, train acc/loss: 41.97/1.5291, val acc/loss: 42.73/1.4798, time 221s\n"
     ]
    },
    {
     "name": "stderr",
     "output_type": "stream",
     "text": [
      "100%|██████████| 758/758 [03:33<00:00,  3.56batch/s, loss=1.85]\n"
     ]
    },
    {
     "name": "stdout",
     "output_type": "stream",
     "text": [
      "Epoch 66/75, train acc/loss: 42.5/1.53, val acc/loss: 42.39/1.4808, time 221s\n"
     ]
    },
    {
     "name": "stderr",
     "output_type": "stream",
     "text": [
      "100%|██████████| 758/758 [03:33<00:00,  3.55batch/s, loss=2.03]\n"
     ]
    },
    {
     "name": "stdout",
     "output_type": "stream",
     "text": [
      "Epoch 67/75, train acc/loss: 42.13/1.5292, val acc/loss: 42.19/1.481, time 221s\n"
     ]
    },
    {
     "name": "stderr",
     "output_type": "stream",
     "text": [
      "100%|██████████| 758/758 [03:33<00:00,  3.56batch/s, loss=1.08]\n"
     ]
    },
    {
     "name": "stdout",
     "output_type": "stream",
     "text": [
      "Epoch 68/75, train acc/loss: 42.21/1.5289, val acc/loss: 42.32/1.4864, time 221s\n"
     ]
    },
    {
     "name": "stderr",
     "output_type": "stream",
     "text": [
      "100%|██████████| 758/758 [03:33<00:00,  3.56batch/s, loss=1.26]\n"
     ]
    },
    {
     "name": "stdout",
     "output_type": "stream",
     "text": [
      "Epoch 69/75, train acc/loss: 42.44/1.5299, val acc/loss: 42.39/1.4874, time 221s\n"
     ]
    },
    {
     "name": "stderr",
     "output_type": "stream",
     "text": [
      "100%|██████████| 758/758 [03:32<00:00,  3.56batch/s, loss=1.36]\n"
     ]
    },
    {
     "name": "stdout",
     "output_type": "stream",
     "text": [
      "Epoch 70/75, train acc/loss: 42.68/1.5285, val acc/loss: 42.32/1.4862, time 221s\n"
     ]
    },
    {
     "name": "stderr",
     "output_type": "stream",
     "text": [
      "100%|██████████| 758/758 [03:33<00:00,  3.56batch/s, loss=1.47]\n"
     ]
    },
    {
     "name": "stdout",
     "output_type": "stream",
     "text": [
      "Epoch 71/75, train acc/loss: 42.53/1.5293, val acc/loss: 42.53/1.4853, time 221s\n"
     ]
    },
    {
     "name": "stderr",
     "output_type": "stream",
     "text": [
      "100%|██████████| 758/758 [03:33<00:00,  3.55batch/s, loss=1.78]\n"
     ]
    },
    {
     "name": "stdout",
     "output_type": "stream",
     "text": [
      "Epoch 72/75, train acc/loss: 42.38/1.5293, val acc/loss: 42.19/1.4834, time 221s\n"
     ]
    },
    {
     "name": "stderr",
     "output_type": "stream",
     "text": [
      "100%|██████████| 758/758 [03:33<00:00,  3.56batch/s, loss=1.41]\n"
     ]
    },
    {
     "name": "stdout",
     "output_type": "stream",
     "text": [
      "Epoch 73/75, train acc/loss: 42.26/1.5286, val acc/loss: 42.46/1.4853, time 221s\n"
     ]
    },
    {
     "name": "stderr",
     "output_type": "stream",
     "text": [
      "100%|██████████| 758/758 [03:33<00:00,  3.56batch/s, loss=1.48]\n"
     ]
    },
    {
     "name": "stdout",
     "output_type": "stream",
     "text": [
      "Epoch 74/75, train acc/loss: 41.88/1.5289, val acc/loss: 42.26/1.4863, time 221s\n"
     ]
    },
    {
     "name": "stderr",
     "output_type": "stream",
     "text": [
      "100%|██████████| 758/758 [03:33<00:00,  3.56batch/s, loss=1.48]\n"
     ]
    },
    {
     "name": "stdout",
     "output_type": "stream",
     "text": [
      "Epoch 75/75, train acc/loss: 42.19/1.5318, val acc/loss: 41.98/1.4834, time 221s\n"
     ]
    }
   ],
   "source": [
    "from tqdm import tqdm\n",
    "best_acc = 0\n",
    "for epoch in range(nb_epochs):\n",
    "  with tqdm(train_loader, unit=\"batch\") as tepoch:\n",
    "    start = time.time()\n",
    "    running_acc, running_loss = 0., 0.\n",
    "    c = 0\n",
    "    for x, y in tepoch:\n",
    "      x, y = x.to(device), y.to(device)\n",
    "\n",
    "      optimizer.zero_grad()  # Clear previous gradients\n",
    "      logits = vgg(x)\n",
    "      loss = cross_entropy(logits, y)\n",
    "      loss.backward()  # Compute gradients\n",
    "      optimizer.step()  # Update weights with gradients\n",
    "\n",
    "      running_acc += (logits.argmax(dim=1).cpu().numpy() == y.cpu().numpy()).sum()\n",
    "      running_loss += loss.item()\n",
    "      c += len(x)\n",
    "      tepoch.set_postfix(loss=loss.item())\n",
    "    \n",
    "    scheduler.step()\n",
    "\n",
    "    train_acc, train_loss = running_acc / c, running_loss / len(train_loader)\n",
    "    train_accs.append(train_acc)\n",
    "    train_losses.append(train_loss)\n",
    "    \n",
    "    val_acc, val_loss = eval_model(vgg, val_loader)\n",
    "    if val_acc > best_acc:\n",
    "      best_acc = val_acc\n",
    "      torch.save(vgg.state_dict(),\"vgg_best_param.pth\")\n",
    "    val_accs.append(val_acc)\n",
    "    val_losses.append(val_loss)\n",
    "\n",
    "    print(\n",
    "        f\"Epoch {epoch + 1}/{nb_epochs}, \"\n",
    "        f\"train acc/loss: {round(100 * train_acc, 2)}/{round(train_loss, 4)}, \"\n",
    "        f\"val acc/loss: {round(100 * val_acc, 2)}/{round(val_loss, 4)}, \"\n",
    "        f\"time {int(time.time() - start)}s\"\n",
    "    )"
   ]
  },
  {
   "cell_type": "code",
   "execution_count": 71,
   "metadata": {
    "colab": {
     "base_uri": "https://localhost:8080/",
     "height": 298
    },
    "id": "INtYIpmcosHw",
    "outputId": "d030dfe6-9fb0-475b-bbec-9e01e53cc854"
   },
   "outputs": [
    {
     "data": {
      "text/plain": [
       "Text(0.5, 1.0, 'Loss')"
      ]
     },
     "execution_count": 71,
     "metadata": {},
     "output_type": "execute_result"
    },
    {
     "data": {
      "image/png": "[encoded data removed]",
      "text/plain": [
       "<Figure size 432x288 with 2 Axes>"
      ]
     },
     "metadata": {
      "needs_background": "light"
     },
     "output_type": "display_data"
    }
   ],
   "source": [
    "plt.subplot(1, 2, 1)\n",
    "plt.plot(list(range(nb_epochs)), train_accs, label=\"Train\")\n",
    "plt.plot(list(range(nb_epochs)), val_accs, label=\"Val\")\n",
    "plt.title(\"Accuracy\")\n",
    "plt.subplot(1, 2, 2)\n",
    "plt.plot(list(range(nb_epochs)), train_losses, label=\"Train\")\n",
    "plt.plot(list(range(nb_epochs)), val_losses, label=\"Val\")\n",
    "plt.title(\"Loss\")"
   ]
  },
  {
   "cell_type": "markdown",
   "metadata": {
    "id": "ry9hgujofKMO"
   },
   "source": [
    "### Testing"
   ]
  },
  {
   "cell_type": "code",
   "execution_count": 72,
   "metadata": {
    "colab": {
     "base_uri": "https://localhost:8080/"
    },
    "id": "Tu_xXdYLR-GQ",
    "outputId": "bc81e813-d639-41c5-aefb-fb5a4637026f"
   },
   "outputs": [
    {
     "data": {
      "text/plain": [
       "<All keys matched successfully>"
      ]
     },
     "execution_count": 72,
     "metadata": {},
     "output_type": "execute_result"
    }
   ],
   "source": [
    "state_dict = torch.load(\"vgg_best_param.pth\")\n",
    "vgg.load_state_dict(state_dict)"
   ]
  },
  {
   "cell_type": "code",
   "execution_count": 73,
   "metadata": {
    "colab": {
     "base_uri": "https://localhost:8080/"
    },
    "id": "939OxVuZJsCc",
    "outputId": "38773c55-59bd-449f-ba2b-d50fd9c29fcc"
   },
   "outputs": [
    {
     "data": {
      "text/plain": [
       "(0.4221617946974847, 1.4787118175755376)"
      ]
     },
     "execution_count": 73,
     "metadata": {},
     "output_type": "execute_result"
    }
   ],
   "source": [
    "test_acc, test_loss = eval_model(vgg, test_loader)\n",
    "test_acc, test_loss"
   ]
  },
  {
   "cell_type": "markdown",
   "metadata": {
    "id": "OF-ecOeESOBK"
   },
   "source": [
    "# II - Vgg with Pal\n"
   ]
  },
  {
   "cell_type": "markdown",
   "metadata": {
    "id": "2aQp6olaRN6z"
   },
   "source": [
    "Now we will train to reproduce the best results of the paper using PAL. Consequently, we will use PAL on the 15th layer, with Grad\\*Input as attribution map and the half mean channel strategy. The other parameters will follow the paper, and thus will not change compared to part 1."
   ]
  },
  {
   "cell_type": "markdown",
   "metadata": {
    "id": "PzPD9cMvRN6z"
   },
   "source": [
    "## Prepare dataset"
   ]
  },
  {
   "cell_type": "markdown",
   "metadata": {
    "id": "xIDGdf9YRN60"
   },
   "source": [
    "### Unzip priors"
   ]
  },
  {
   "cell_type": "code",
   "execution_count": 74,
   "metadata": {
    "id": "TQmFZkQvSeuT"
   },
   "outputs": [],
   "source": [
    "import zipfile\n",
    "with zipfile.ZipFile(\"landmark.zip\", 'r') as zip_ref:\n",
    "    zip_ref.extractall(\"./landmark\")"
   ]
  },
  {
   "cell_type": "code",
   "execution_count": 75,
   "metadata": {
    "colab": {
     "base_uri": "https://localhost:8080/"
    },
    "id": "69CmLPTeSurv",
    "outputId": "27f09b64-af90-44ae-fe13-d401edb2236e"
   },
   "outputs": [
    {
     "name": "stdout",
     "output_type": "stream",
     "text": [
      "mkdir: cannot create directory ‘landmark/train’: File exists\n",
      "mkdir: cannot create directory ‘landmark/test’: File exists\n"
     ]
    }
   ],
   "source": [
    "!mkdir landmark/train\n",
    "!mkdir landmark/test\n",
    "!mv landmark/landmark/train_* landmark/train\n",
    "!mv landmark/landmark/test_* landmark/test"
   ]
  },
  {
   "cell_type": "markdown",
   "metadata": {
    "id": "mluVQasYRN61"
   },
   "source": [
    "### Create dataloaders\n",
    "The process is the same as in part I, with the added priors."
   ]
  },
  {
   "cell_type": "code",
   "execution_count": 76,
   "metadata": {
    "id": "Ulx3aSxCS_3z"
   },
   "outputs": [],
   "source": [
    "class JoinImageDataset(Dataset):\n",
    "    def __init__(self, annotations_file, img_dir, landmark_dir, transform=None, target_transform=None):\n",
    "        self.img_labels = pd.read_csv(annotations_file)\n",
    "        self.img_dir = img_dir\n",
    "        self.landmark_dir = landmark_dir\n",
    "        self.transform = transform\n",
    "        self.target_transform = target_transform\n",
    "\n",
    "    def __len__(self):\n",
    "        return len(self.img_labels)\n",
    "\n",
    "    def __getitem__(self, idx):\n",
    "        img_path = os.path.join(self.img_dir, self.img_labels.iloc[idx, 0])\n",
    "        image = read_image(img_path)\n",
    "        land_path = os.path.join(self.landmark_dir, self.img_labels.iloc[idx, 0])\n",
    "        landmark = read_image(land_path)\n",
    "        label = self.img_labels.iloc[idx, 1]\n",
    "        if self.transform:\n",
    "            image = self.transform(image)\n",
    "        if self.target_transform:\n",
    "            label = self.target_transform(label)\n",
    "        return image, landmark, label"
   ]
  },
  {
   "cell_type": "code",
   "execution_count": 77,
   "metadata": {
    "colab": {
     "base_uri": "https://localhost:8080/"
    },
    "id": "P78LHeOuTjm3",
    "outputId": "336031bb-8180-48a7-b532-d420bcdaa4d7"
   },
   "outputs": [
    {
     "name": "stdout",
     "output_type": "stream",
     "text": [
      "\n",
      "Nb batches in train: 767\n"
     ]
    }
   ],
   "source": [
    "train_data = JoinImageDataset(\"train_list_label.csv\",\"./aligned/train\", \"./landmark/train\", transform=trans)\n",
    "train_loader = DataLoader(train_data, batch_size=16, shuffle=True, num_workers=4)\n",
    "print(f\"\\nNb batches in train: {len(train_loader)}\")"
   ]
  },
  {
   "cell_type": "code",
   "execution_count": 78,
   "metadata": {
    "id": "Nv1zFNLcT4xW"
   },
   "outputs": [],
   "source": [
    "from sklearn.model_selection import train_test_split\n",
    "test_data = JoinImageDataset(\"test_list_label.csv\",\"./aligned/test\",\"./landmark/test\", transform=trans)\n",
    "\n",
    "test_indices, val_indices = train_test_split(list(range(len(test_data.img_labels.Label))), test_size=0.5, stratify=test_data.img_labels.Label)\n",
    "\n",
    "val_data = torch.utils.data.Subset(test_data, val_indices)\n",
    "test_data = torch.utils.data.Subset(test_data, test_indices)"
   ]
  },
  {
   "cell_type": "code",
   "execution_count": 79,
   "metadata": {
    "colab": {
     "base_uri": "https://localhost:8080/"
    },
    "id": "SCcVeomlUEx3",
    "outputId": "c341fe07-169d-4642-ae1a-ea0661b5183e"
   },
   "outputs": [
    {
     "name": "stdout",
     "output_type": "stream",
     "text": [
      "\n",
      "Nb batches in test: 96\n"
     ]
    },
    {
     "name": "stderr",
     "output_type": "stream",
     "text": [
      "/usr/local/lib/python3.8/dist-packages/torch/utils/data/dataloader.py:554: UserWarning: This DataLoader will create 4 worker processes in total. Our suggested max number of worker in current system is 2, which is smaller than what this DataLoader is going to create. Please be aware that excessive worker creation might get DataLoader running slow or even freeze, lower the worker number to avoid potential slowness/freeze if necessary.\n",
      "  warnings.warn(_create_warning_msg(\n"
     ]
    }
   ],
   "source": [
    "test_loader = DataLoader(test_data, batch_size=16, shuffle=True, num_workers=4)\n",
    "print(f\"\\nNb batches in test: {len(test_loader)}\")"
   ]
  },
  {
   "cell_type": "code",
   "execution_count": 80,
   "metadata": {
    "colab": {
     "base_uri": "https://localhost:8080/"
    },
    "id": "SlqNHILrUKMw",
    "outputId": "635f8367-424b-447f-cc6e-e9870fa75847"
   },
   "outputs": [
    {
     "name": "stdout",
     "output_type": "stream",
     "text": [
      "\n",
      "Nb batches in val: 96\n"
     ]
    }
   ],
   "source": [
    "val_loader = DataLoader(val_data, batch_size=16, shuffle=True, num_workers=4)\n",
    "print(f\"\\nNb batches in val: {len(val_loader)}\")"
   ]
  },
  {
   "cell_type": "markdown",
   "metadata": {
    "id": "AJNbYN58RN64"
   },
   "source": [
    "## Modified Vgg class\n",
    "The class now outputs input and output of layer 15 in order to apply PAL."
   ]
  },
  {
   "cell_type": "code",
   "execution_count": 81,
   "metadata": {
    "id": "UOSjJUATUOx4"
   },
   "outputs": [],
   "source": [
    "import torch\n",
    "import torch.nn as nn\n",
    "\n",
    "\n",
    "class VggPal(Vgg):\n",
    "\n",
    "    def __init__(self):\n",
    "        super(VggPal, self).__init__()\n",
    "  \n",
    "    def forward(self, x0):\n",
    "        x1 = self.conv1_1(x0)\n",
    "        x2 = self.relu1_1(x1)\n",
    "        x3 = self.conv1_2(x2)\n",
    "        x4 = self.relu1_2(x3)\n",
    "        x5 = self.pool1(x4)\n",
    "        x6 = self.conv2_1(x5)\n",
    "        x7 = self.relu2_1(x6)\n",
    "        x8 = self.conv2_2(x7)\n",
    "        x9 = self.relu2_2(x8)\n",
    "        x10 = self.pool2(x9)\n",
    "        x11 = self.conv3_1(x10)\n",
    "        x12 = self.relu3_1(x11)\n",
    "        x13 = self.conv3_2(x12)\n",
    "        x14 = self.relu3_2(x13)\n",
    "        x15 = self.conv3_3(x14)\n",
    "        x16 = self.relu3_3(x15)\n",
    "        x17 = self.pool3(x16)\n",
    "        x18 = self.conv4_1(x17)\n",
    "        x19 = self.relu4_1(x18)\n",
    "        x20 = self.conv4_2(x19)\n",
    "        x21 = self.relu4_2(x20)\n",
    "        x22 = self.conv4_3(x21)\n",
    "        x23 = self.relu4_3(x22)\n",
    "        x24 = self.pool4(x23)\n",
    "        x25 = self.conv5_1(x24)\n",
    "        x26 = self.relu5_1(x25)\n",
    "        x27 = self.conv5_2(x26)\n",
    "        x28 = self.relu5_2(x27)\n",
    "        x29 = self.conv5_3(x28)\n",
    "        x30 = self.relu5_3(x29)\n",
    "        x31_preflatten = self.pool5(x30)\n",
    "        x31 = x31_preflatten.view(x31_preflatten.size(0), -1)\n",
    "        x32 = self.fc6(x31)\n",
    "        x33 = self.relu6(x32)\n",
    "        x34 = self.dropout6(x33)\n",
    "        x35 = self.fc7(x34)\n",
    "        x36 = self.relu7(x35)\n",
    "        x37 = self.dropout7(x36)\n",
    "        x38 = self.fc8(x37)\n",
    "        \n",
    "        return x24,x25,x38\n",
    "\n",
    "def vggpal_face(weights_path=None, **kwargs):\n",
    "    \"\"\"\n",
    "    load imported model instance\n",
    "\n",
    "    Args:\n",
    "        weights_path (str): If set, loads model weights from the given path\n",
    "    \"\"\"\n",
    "    model = VggPal()\n",
    "    if weights_path:\n",
    "        state_dict = torch.load(weights_path)\n",
    "        state_dict.pop(\"fc6.weight\")\n",
    "        state_dict.pop(\"fc6.bias\")\n",
    "        state_dict.pop(\"fc7.weight\")\n",
    "        state_dict.pop(\"fc7.bias\")\n",
    "        state_dict.pop(\"fc8.weight\")\n",
    "        state_dict.pop(\"fc8.bias\")\n",
    "        model.load_state_dict(state_dict, strict=False)\n",
    "    return model"
   ]
  },
  {
   "cell_type": "markdown",
   "metadata": {
    "id": "PmsBDlm4RN65"
   },
   "source": [
    "### Load pretrained weights on vgg_face"
   ]
  },
  {
   "cell_type": "code",
   "execution_count": 82,
   "metadata": {
    "id": "pJKrhFKVVgQM"
   },
   "outputs": [],
   "source": [
    "vggpal = vggpal_face(\"vgg_face_dag.pth\")\n",
    "vggpal = vggpal.to(device)"
   ]
  },
  {
   "cell_type": "markdown",
   "metadata": {
    "id": "Dc_emjARRN66"
   },
   "source": [
    "## Definition of PAL"
   ]
  },
  {
   "cell_type": "code",
   "execution_count": 83,
   "metadata": {
    "id": "gjeV_zDwZHx8"
   },
   "outputs": [],
   "source": [
    "def Grad(inputs, outputs) :\n",
    "    outputs_sum = outputs.sum()\n",
    "    inputs.retain_grad()\n",
    "    outputs.retain_grad()\n",
    "    outputs_sum.backward(retain_graph=True)\n",
    "    return torch.abs(inputs.grad)\n",
    "\n",
    "def GradxInput(inputs, outputs) :\n",
    "    Grad_val = Grad(inputs, outputs)\n",
    "    return Grad_val * inputs\n",
    "\n",
    "def PAL(inputs, outputs, prior, attribution_method, channel_strategy=None) :\n",
    "    attribution_map = attribution_method(inputs, outputs)\n",
    "    \n",
    "    if channel_strategy == \"half_mean\" :\n",
    "        nb_class = attribution_map.shape[1]\n",
    "        attribution_map[:, int(nb_class/2):, :, :]\n",
    "    \n",
    "    if channel_strategy == \"half_mean\" or channel_strategy == \"mean\" :\n",
    "        attribution_map = attribution_map.mean(1).unsqueeze(1)\n",
    "    \n",
    "    attribution_map_resize = transforms.Resize(attribution_map.shape[-2:])\n",
    "    \n",
    "    prior = attribution_map_resize(prior)\n",
    "    \n",
    "    std = attribution_map.view(attribution_map.size(0), -1).std(1)\n",
    "    mean = attribution_map.view(attribution_map.size(0), -1).mean(1)\n",
    "    \n",
    "    \n",
    "    res = (attribution_map - mean.view(-1, 1, 1, 1)) / std.view(-1, 1, 1, 1)\n",
    "    res = res * prior.unsqueeze(1)\n",
    "    \n",
    "    res = res.view(res.size(0), -1).sum(1)\n",
    "    res = -res\n",
    "    return res.mean()"
   ]
  },
  {
   "cell_type": "code",
   "execution_count": 84,
   "metadata": {
    "id": "puU0EGIdZOjx"
   },
   "outputs": [],
   "source": [
    "def tot_loss(li, lo, prior, logits, y):\n",
    "    pa_loss = PAL(li, lo, prior, GradxInput, \"half_mean\")\n",
    "    ce_loss = cross_entropy(logits, y)\n",
    "    return pa_loss + ce_loss"
   ]
  },
  {
   "cell_type": "markdown",
   "metadata": {
    "id": "uJQ48Q0_RN68"
   },
   "source": [
    "## Train"
   ]
  },
  {
   "cell_type": "markdown",
   "metadata": {
    "id": "eCv9Db4MRN69"
   },
   "source": [
    "### Initial evaluation on validation dataset"
   ]
  },
  {
   "cell_type": "code",
   "execution_count": 85,
   "metadata": {
    "id": "FOqWGhSqZBDc"
   },
   "outputs": [],
   "source": [
    "def eval_modelpal(net, loader):\n",
    "  net.eval()\n",
    "  acc, loss = 0., 0.\n",
    "  c = 0\n",
    "  for x, prior, y in loader:\n",
    "    x, prior, y = x.to(device), prior.to(device),y.to(device)\n",
    "    li, lo, logits = net(x.to(device))\n",
    "    loss += tot_loss(li, lo, prior, logits, y).item()\n",
    "    preds = logits.argmax(dim=1)\n",
    "    acc += (preds.cpu().numpy() == y.cpu().numpy()).sum()\n",
    "    c += len(x)\n",
    "\n",
    "  acc /= c\n",
    "  loss /= len(loader)\n",
    "  net.train()\n",
    "  return acc, loss"
   ]
  },
  {
   "cell_type": "code",
   "execution_count": 86,
   "metadata": {
    "colab": {
     "base_uri": "https://localhost:8080/"
    },
    "id": "UYNlujThVo6i",
    "outputId": "f0f6579d-9ba3-4aa7-d679-fd68157323ec"
   },
   "outputs": [
    {
     "name": "stdout",
     "output_type": "stream",
     "text": [
      "Initial accuracy/loss on val: 25.36/40341.8236\n"
     ]
    }
   ],
   "source": [
    "initial_acc, initial_loss = eval_modelpal(vggpal, val_loader)\n",
    "print(f\"Initial accuracy/loss on val: {round(100 * initial_acc, 2)}/{round(initial_loss, 4)}\")"
   ]
  },
  {
   "cell_type": "markdown",
   "metadata": {
    "id": "PisThvfWRN6-"
   },
   "source": [
    "### Training"
   ]
  },
  {
   "cell_type": "code",
   "execution_count": 87,
   "metadata": {
    "id": "itbzcRpwV9Lb"
   },
   "outputs": [],
   "source": [
    "optimizer = torch.optim.Adam(vggpal.parameters(), lr=0.00005)\n",
    "scheduler = PolynomialLR(optimizer, total_iters=75, power=2)\n",
    "\n",
    "nb_epochs = 75\n",
    "\n",
    "train_accs, train_losses = [], []\n",
    "val_accs, val_losses = [], []"
   ]
  },
  {
   "cell_type": "code",
   "execution_count": null,
   "metadata": {
    "colab": {
     "base_uri": "https://localhost:8080/"
    },
    "id": "X5f7XGWyWGZ1",
    "outputId": "af37e3d6-2b24-4db1-c852-ccad8a146640"
   },
   "outputs": [
    {
     "name": "stderr",
     "output_type": "stream",
     "text": [
      "100%|██████████| 767/767 [05:13<00:00,  2.45batch/s, loss=9.31e+4]\n"
     ]
    },
    {
     "name": "stdout",
     "output_type": "stream",
     "text": [
      "Epoch 1/75, train acc/loss: 38.77/92826.6236, val acc/loss: 38.59/90788.7556, time 336s\n"
     ]
    },
    {
     "name": "stderr",
     "output_type": "stream",
     "text": [
      "100%|██████████| 767/767 [05:13<00:00,  2.45batch/s, loss=7.7e+4]\n"
     ]
    },
    {
     "name": "stdout",
     "output_type": "stream",
     "text": [
      "Epoch 2/75, train acc/loss: 38.91/91588.1951, val acc/loss: 38.59/91349.7791, time 334s\n"
     ]
    },
    {
     "name": "stderr",
     "output_type": "stream",
     "text": [
      "100%|██████████| 767/767 [05:13<00:00,  2.45batch/s, loss=8.54e+4]\n"
     ]
    },
    {
     "name": "stdout",
     "output_type": "stream",
     "text": [
      "Epoch 3/75, train acc/loss: 38.86/91583.1396, val acc/loss: 38.59/91956.8169, time 334s\n"
     ]
    },
    {
     "name": "stderr",
     "output_type": "stream",
     "text": [
      "100%|██████████| 767/767 [05:13<00:00,  2.45batch/s, loss=8.86e+4]\n"
     ]
    },
    {
     "name": "stdout",
     "output_type": "stream",
     "text": [
      "Epoch 4/75, train acc/loss: 38.88/91836.8825, val acc/loss: 38.59/92087.8805, time 334s\n"
     ]
    },
    {
     "name": "stderr",
     "output_type": "stream",
     "text": [
      "100%|██████████| 767/767 [05:13<00:00,  2.45batch/s, loss=9.28e+4]\n"
     ]
    },
    {
     "name": "stdout",
     "output_type": "stream",
     "text": [
      "Epoch 5/75, train acc/loss: 38.89/91725.0407, val acc/loss: 38.59/91027.6633, time 334s\n"
     ]
    },
    {
     "name": "stderr",
     "output_type": "stream",
     "text": [
      "100%|██████████| 767/767 [05:13<00:00,  2.45batch/s, loss=8.92e+4]\n"
     ]
    },
    {
     "name": "stdout",
     "output_type": "stream",
     "text": [
      "Epoch 6/75, train acc/loss: 38.86/91587.4653, val acc/loss: 38.59/91490.6176, time 334s\n"
     ]
    },
    {
     "name": "stderr",
     "output_type": "stream",
     "text": [
      "100%|██████████| 767/767 [05:13<00:00,  2.45batch/s, loss=8.37e+4]\n"
     ]
    },
    {
     "name": "stdout",
     "output_type": "stream",
     "text": [
      "Epoch 7/75, train acc/loss: 38.9/91802.0658, val acc/loss: 38.59/90996.9875, time 334s\n"
     ]
    },
    {
     "name": "stderr",
     "output_type": "stream",
     "text": [
      "100%|██████████| 767/767 [05:13<00:00,  2.44batch/s, loss=9.05e+4]\n"
     ]
    },
    {
     "name": "stdout",
     "output_type": "stream",
     "text": [
      "Epoch 8/75, train acc/loss: 38.86/91982.7924, val acc/loss: 38.59/91327.6587, time 334s\n"
     ]
    },
    {
     "name": "stderr",
     "output_type": "stream",
     "text": [
      "100%|██████████| 767/767 [05:13<00:00,  2.44batch/s, loss=8.87e+4]\n"
     ]
    },
    {
     "name": "stdout",
     "output_type": "stream",
     "text": [
      "Epoch 9/75, train acc/loss: 38.92/91768.6697, val acc/loss: 38.59/91635.3411, time 334s\n"
     ]
    },
    {
     "name": "stderr",
     "output_type": "stream",
     "text": [
      "100%|██████████| 767/767 [05:14<00:00,  2.44batch/s, loss=8.51e+4]\n"
     ]
    },
    {
     "name": "stdout",
     "output_type": "stream",
     "text": [
      "Epoch 10/75, train acc/loss: 38.9/91817.9431, val acc/loss: 38.59/91605.0011, time 334s\n"
     ]
    },
    {
     "name": "stderr",
     "output_type": "stream",
     "text": [
      "100%|██████████| 767/767 [05:14<00:00,  2.44batch/s, loss=1.06e+5]\n"
     ]
    },
    {
     "name": "stdout",
     "output_type": "stream",
     "text": [
      "Epoch 11/75, train acc/loss: 38.89/91710.9766, val acc/loss: 38.59/91369.2567, time 335s\n"
     ]
    },
    {
     "name": "stderr",
     "output_type": "stream",
     "text": [
      "100%|██████████| 767/767 [05:14<00:00,  2.44batch/s, loss=9.07e+4]\n"
     ]
    },
    {
     "name": "stdout",
     "output_type": "stream",
     "text": [
      "Epoch 12/75, train acc/loss: 38.9/91896.9998, val acc/loss: 38.59/91639.8052, time 335s\n"
     ]
    },
    {
     "name": "stderr",
     "output_type": "stream",
     "text": [
      "100%|██████████| 767/767 [05:14<00:00,  2.44batch/s, loss=7.81e+4]\n"
     ]
    },
    {
     "name": "stdout",
     "output_type": "stream",
     "text": [
      "Epoch 13/75, train acc/loss: 38.88/91562.4983, val acc/loss: 38.59/91141.4811, time 334s\n"
     ]
    },
    {
     "name": "stderr",
     "output_type": "stream",
     "text": [
      "100%|██████████| 767/767 [05:14<00:00,  2.44batch/s, loss=8.21e+4]\n"
     ]
    },
    {
     "name": "stdout",
     "output_type": "stream",
     "text": [
      "Epoch 14/75, train acc/loss: 38.91/91854.6084, val acc/loss: 38.59/91688.7273, time 335s\n"
     ]
    },
    {
     "name": "stderr",
     "output_type": "stream",
     "text": [
      " 24%|██▍       | 185/767 [01:15<03:57,  2.45batch/s, loss=1.01e+5]"
     ]
    }
   ],
   "source": [
    "from tqdm import tqdm\n",
    "best_acc = 0\n",
    "for epoch in range(nb_epochs):\n",
    "  with tqdm(train_loader, unit=\"batch\") as tepoch:\n",
    "    start = time.time()\n",
    "    running_acc, running_loss = 0., 0.\n",
    "    c = 0\n",
    "    for x, prior, y in tepoch:\n",
    "      x, prior, y = x.to(device), prior.to(device),y.to(device)\n",
    "\n",
    "      optimizer.zero_grad()  # Clear previous gradients\n",
    "      li, lo ,logits = vggpal(x)\n",
    "      loss = tot_loss(li, lo, prior, logits, y)\n",
    "      loss.backward()  # Compute gradients\n",
    "      optimizer.step()  # Update weights with gradients\n",
    "\n",
    "      running_acc += (logits.argmax(dim=1).cpu().numpy() == y.cpu().numpy()).sum()\n",
    "      running_loss += loss.item()\n",
    "      c += len(x)\n",
    "      tepoch.set_postfix(loss=loss.item())\n",
    "\n",
    "    scheduler.step()\n",
    "\n",
    "    train_acc, train_loss = running_acc / c, running_loss / len(train_loader)\n",
    "    train_accs.append(train_acc)\n",
    "    train_losses.append(train_loss)\n",
    "    \n",
    "    val_acc, val_loss = eval_modelpal(vggpal, val_loader)\n",
    "    if val_acc > best_acc:\n",
    "      best_acc = val_acc\n",
    "      torch.save(vggpal.state_dict(),\"vggpal_best_param.pth\")\n",
    "    val_accs.append(val_acc)\n",
    "    val_losses.append(val_loss)\n",
    "\n",
    "    print(\n",
    "        f\"Epoch {epoch + 1}/{nb_epochs}, \"\n",
    "        f\"train acc/loss: {round(100 * train_acc, 2)}/{round(train_loss, 4)}, \"\n",
    "        f\"val acc/loss: {round(100 * val_acc, 2)}/{round(val_loss, 4)}, \"\n",
    "        f\"time {int(time.time() - start)}s\"\n",
    "    )"
   ]
  },
  {
   "cell_type": "code",
   "execution_count": null,
   "metadata": {
    "id": "c3DdRcYgXx5H"
   },
   "outputs": [],
   "source": [
    "plt.subplot(1, 2, 1)\n",
    "plt.plot(list(range(nb_epochs)), train_accs, label=\"Train\")\n",
    "plt.plot(list(range(nb_epochs)), val_accs, label=\"Val\")\n",
    "plt.title(\"Accuracy\")\n",
    "plt.subplot(1, 2, 2)\n",
    "plt.plot(list(range(nb_epochs)), train_losses, label=\"Train\")\n",
    "plt.plot(list(range(nb_epochs)), val_losses, label=\"Val\")\n",
    "plt.title(\"Loss\")"
   ]
  },
  {
   "cell_type": "markdown",
   "metadata": {
    "id": "iiizdxWxRN7B"
   },
   "source": [
    "### Testing"
   ]
  },
  {
   "cell_type": "code",
   "execution_count": null,
   "metadata": {
    "id": "RdM_4qN_X0T3"
   },
   "outputs": [],
   "source": [
    "state_dict = torch.load(\"vggpal_best_param.pth\")\n",
    "vgg.load_state_dict(state_dict)"
   ]
  },
  {
   "cell_type": "code",
   "execution_count": null,
   "metadata": {
    "id": "5OwF7dnQX4Lt"
   },
   "outputs": [],
   "source": [
    "test_acc, test_loss = eval_modelpal(vgg, test_loader)\n",
    "test_acc, test_loss"
   ]
  },
  {
   "cell_type": "code",
   "execution_count": null,
   "metadata": {
    "id": "t1FVH7rsTEKp"
   },
   "outputs": [],
   "source": []
  }
 ],
 "metadata": {
  "accelerator": "GPU",
  "colab": {
   "provenance": []
  },
  "gpuClass": "standard",
  "kernelspec": {
   "display_name": "Python 3 (ipykernel)",
   "language": "python",
   "name": "python3"
  },
  "language_info": {
   "codemirror_mode": {
    "name": "ipython",
    "version": 3
   },
   "file_extension": ".py",
   "mimetype": "text/x-python",
   "name": "python",
   "nbconvert_exporter": "python",
   "pygments_lexer": "ipython3",
   "version": "3.10.9"
  },
  "vscode": {
   "interpreter": {
    "hash": "31f2aee4e71d21fbe5cf8b01ff0e069b9275f58929596ceb00d14d90e3e16cd6"
   }
  }
 },
 "nbformat": 4,
 "nbformat_minor": 4
}
