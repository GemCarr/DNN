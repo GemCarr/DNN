{
  "cells": [
    {
      "cell_type": "code",
      "execution_count": 1,
      "metadata": {
        "colab": {
          "base_uri": "https://localhost:8080/"
        },
        "id": "Lmtw_pSbGjCY",
        "outputId": "62879ce8-0b61-48f4-f06b-8feb1d5fa2f7"
      },
      "outputs": [
        {
          "output_type": "stream",
          "name": "stdout",
          "text": [
            "Populating the interactive namespace from numpy and matplotlib\n"
          ]
        }
      ],
      "source": [
        "%pylab inline"
      ]
    },
    {
      "cell_type": "code",
      "execution_count": 2,
      "metadata": {
        "id": "5fYVvVnPkzJk"
      },
      "outputs": [],
      "source": [
        "import time\n",
        "\n",
        "import torch\n",
        "from torch import nn\n",
        "from torch.nn import functional as F\n",
        "from torch.utils.data import DataLoader\n",
        "from torchvision import transforms\n",
        "import matplotlib.pyplot as plt"
      ]
    },
    {
      "cell_type": "code",
      "execution_count": 3,
      "metadata": {
        "colab": {
          "base_uri": "https://localhost:8080/"
        },
        "id": "4_I5X_GW80eo",
        "outputId": "0160f382-db53-49e4-c4e3-ccc510a5dc14"
      },
      "outputs": [
        {
          "output_type": "execute_result",
          "data": {
            "text/plain": [
              "device(type='cuda', index=0)"
            ]
          },
          "metadata": {},
          "execution_count": 3
        }
      ],
      "source": [
        "device = torch.device(\"cuda:0\") if torch.cuda.is_available() else torch.device(\"cpu\")\n",
        "device"
      ]
    },
    {
      "cell_type": "markdown",
      "metadata": {
        "tags": [],
        "id": "lYs2w5tERN6S"
      },
      "source": [
        "## Download RAF-DB dataset (Google Colab)"
      ]
    },
    {
      "cell_type": "code",
      "execution_count": 4,
      "metadata": {
        "colab": {
          "base_uri": "https://localhost:8080/"
        },
        "id": "d0OqFiGiKzIg",
        "outputId": "21e150b9-8efd-4516-c0a3-1db99a2c7c2e"
      },
      "outputs": [
        {
          "output_type": "stream",
          "name": "stdout",
          "text": [
            "--2023-01-29 14:46:32--  https://github.com/MegaloPat/DNN/raw/main/DNN/aligned.zip\n",
            "Resolving github.com (github.com)... 140.82.121.4\n",
            "Connecting to github.com (github.com)|140.82.121.4|:443... connected.\n",
            "HTTP request sent, awaiting response... 302 Found\n",
            "Location: https://raw.githubusercontent.com/MegaloPat/DNN/main/DNN/aligned.zip [following]\n",
            "--2023-01-29 14:46:32--  https://raw.githubusercontent.com/MegaloPat/DNN/main/DNN/aligned.zip\n",
            "Resolving raw.githubusercontent.com (raw.githubusercontent.com)... 185.199.108.133, 185.199.109.133, 185.199.110.133, ...\n",
            "Connecting to raw.githubusercontent.com (raw.githubusercontent.com)|185.199.108.133|:443... connected.\n",
            "HTTP request sent, awaiting response... 200 OK\n",
            "Length: 39152089 (37M) [application/zip]\n",
            "Saving to: ‘aligned.zip’\n",
            "\n",
            "aligned.zip         100%[===================>]  37.34M  72.8MB/s    in 0.5s    \n",
            "\n",
            "2023-01-29 14:46:34 (72.8 MB/s) - ‘aligned.zip’ saved [39152089/39152089]\n",
            "\n"
          ]
        }
      ],
      "source": [
        "! wget https://github.com/MegaloPat/DNN/raw/main/DNN/aligned.zip"
      ]
    },
    {
      "cell_type": "code",
      "execution_count": 5,
      "metadata": {
        "colab": {
          "base_uri": "https://localhost:8080/"
        },
        "id": "LRUMP23yRN6W",
        "outputId": "baf2c171-121b-42bd-8c8a-25dfe8170438"
      },
      "outputs": [
        {
          "output_type": "stream",
          "name": "stdout",
          "text": [
            "--2023-01-29 14:46:35--  https://github.com/MegaloPat/DNN/raw/main/DNN/landmark.zip\n",
            "Resolving github.com (github.com)... 140.82.121.4\n",
            "Connecting to github.com (github.com)|140.82.121.4|:443... connected.\n",
            "HTTP request sent, awaiting response... 302 Found\n",
            "Location: https://raw.githubusercontent.com/MegaloPat/DNN/main/DNN/landmark.zip [following]\n",
            "--2023-01-29 14:46:35--  https://raw.githubusercontent.com/MegaloPat/DNN/main/DNN/landmark.zip\n",
            "Resolving raw.githubusercontent.com (raw.githubusercontent.com)... 185.199.108.133, 185.199.109.133, 185.199.110.133, ...\n",
            "Connecting to raw.githubusercontent.com (raw.githubusercontent.com)|185.199.108.133|:443... connected.\n",
            "HTTP request sent, awaiting response... 200 OK\n",
            "Length: 86475976 (82M) [application/zip]\n",
            "Saving to: ‘landmark.zip’\n",
            "\n",
            "landmark.zip        100%[===================>]  82.47M   141MB/s    in 0.6s    \n",
            "\n",
            "2023-01-29 14:46:39 (141 MB/s) - ‘landmark.zip’ saved [86475976/86475976]\n",
            "\n"
          ]
        }
      ],
      "source": [
        "! wget https://github.com/MegaloPat/DNN/raw/main/DNN/landmark.zip"
      ]
    },
    {
      "cell_type": "code",
      "execution_count": 6,
      "metadata": {
        "colab": {
          "base_uri": "https://localhost:8080/"
        },
        "id": "suemGu3wRN6Y",
        "outputId": "19391002-788c-431f-c9c4-e2c55f7b2982"
      },
      "outputs": [
        {
          "output_type": "stream",
          "name": "stdout",
          "text": [
            "--2023-01-29 14:46:39--  https://raw.githubusercontent.com/MegaloPat/DNN/main/DNN/list_patition_label.txt\n",
            "Resolving raw.githubusercontent.com (raw.githubusercontent.com)... 185.199.108.133, 185.199.109.133, 185.199.110.133, ...\n",
            "Connecting to raw.githubusercontent.com (raw.githubusercontent.com)|185.199.108.133|:443... connected.\n",
            "HTTP request sent, awaiting response... 200 OK\n",
            "Length: 285305 (279K) [text/plain]\n",
            "Saving to: ‘list_patition_label.txt’\n",
            "\n",
            "\rlist_patition_label   0%[                    ]       0  --.-KB/s               \rlist_patition_label 100%[===================>] 278.62K  --.-KB/s    in 0.01s   \n",
            "\n",
            "2023-01-29 14:46:40 (18.2 MB/s) - ‘list_patition_label.txt’ saved [285305/285305]\n",
            "\n"
          ]
        }
      ],
      "source": [
        "! wget https://raw.githubusercontent.com/MegaloPat/DNN/main/DNN/list_patition_label.txt"
      ]
    },
    {
      "cell_type": "markdown",
      "metadata": {
        "id": "_u6BzVPDRN6a"
      },
      "source": [
        "## Download pretrained VGG_Face weights (Google Colab)"
      ]
    },
    {
      "cell_type": "code",
      "execution_count": 7,
      "metadata": {
        "colab": {
          "base_uri": "https://localhost:8080/"
        },
        "id": "6xaaP6dBLZM8",
        "outputId": "aa37fb5d-6541-4133-b1f8-12390b68ada4"
      },
      "outputs": [
        {
          "output_type": "stream",
          "name": "stdout",
          "text": [
            "--2023-01-29 14:46:40--  https://www.robots.ox.ac.uk/~albanie/models/pytorch-mcn/vgg_face_dag.pth\n",
            "Resolving www.robots.ox.ac.uk (www.robots.ox.ac.uk)... 129.67.94.2\n",
            "Connecting to www.robots.ox.ac.uk (www.robots.ox.ac.uk)|129.67.94.2|:443... connected.\n",
            "HTTP request sent, awaiting response... 200 OK\n",
            "Length: 580015466 (553M)\n",
            "Saving to: ‘vgg_face_dag.pth’\n",
            "\n",
            "vgg_face_dag.pth    100%[===================>] 553.15M  89.3MB/s    in 5.8s    \n",
            "\n",
            "2023-01-29 14:46:46 (95.4 MB/s) - ‘vgg_face_dag.pth’ saved [580015466/580015466]\n",
            "\n"
          ]
        }
      ],
      "source": [
        "! wget https://www.robots.ox.ac.uk/~albanie/models/pytorch-mcn/vgg_face_dag.pth"
      ]
    },
    {
      "cell_type": "markdown",
      "metadata": {
        "id": "AK-qn9hFeHqA"
      },
      "source": [
        "# I - Vanilla classification with pretrained VGG"
      ]
    },
    {
      "cell_type": "markdown",
      "metadata": {
        "id": "aPuFjHO5RN6e"
      },
      "source": [
        "First we will try to get baseline results with VGG pretrained on VGG_Face without any changes."
      ]
    },
    {
      "cell_type": "markdown",
      "metadata": {
        "id": "EFWWOXXueWol"
      },
      "source": [
        "## Prepare dataset"
      ]
    },
    {
      "cell_type": "markdown",
      "metadata": {
        "id": "CAljxGKMeQ0g"
      },
      "source": [
        "### Unzip data"
      ]
    },
    {
      "cell_type": "code",
      "execution_count": 8,
      "metadata": {
        "id": "5V-l3Mf6TTQq"
      },
      "outputs": [],
      "source": [
        "import zipfile\n",
        "\n",
        "with zipfile.ZipFile(\"aligned.zip\", 'r') as zip_ref:\n",
        "    zip_ref.extractall(\"./aligned\")"
      ]
    },
    {
      "cell_type": "code",
      "execution_count": 9,
      "metadata": {
        "id": "j3hUoGmxTTQr"
      },
      "outputs": [],
      "source": [
        "!mkdir aligned/train\n",
        "!mkdir aligned/test\n",
        "!mv aligned/aligned/train_* aligned/train\n",
        "!mv aligned/aligned/test_* aligned/test"
      ]
    },
    {
      "cell_type": "markdown",
      "metadata": {
        "id": "u9KfQpHqebCw"
      },
      "source": [
        "### Prepare csv labels"
      ]
    },
    {
      "cell_type": "code",
      "execution_count": 10,
      "metadata": {
        "id": "_gf_GRWUTTQs"
      },
      "outputs": [],
      "source": [
        "import csv\n",
        "\n",
        "with open(\"list_patition_label.txt\",\"r\") as file :\n",
        "    train_csv = open(\"train_list_label.csv\",\"w\",newline=\"\")\n",
        "    test_csv = open(\"test_list_label.csv\",\"w\",newline=\"\")\n",
        "\n",
        "    train_writer = csv.writer(train_csv)\n",
        "    train_writer.writerow([\"Filename\", \"Label\"])\n",
        "    \n",
        "    test_writer = csv.writer(test_csv)\n",
        "    test_writer.writerow([\"Filename\", \"Label\"])\n",
        "    \n",
        "    \n",
        "    for line in file:\n",
        "        filename, label = line.strip().split(\" \")\n",
        "        idx = filename.index(\".jpg\")\n",
        "        filename = filename[:idx] + \"_aligned\" + filename[idx:]\n",
        "        label = str(int(label) - 1)\n",
        "        \n",
        "        if \"train\" in filename :\n",
        "            train_writer.writerow([filename, label])\n",
        "        else :\n",
        "            test_writer.writerow([filename, label])\n"
      ]
    },
    {
      "cell_type": "markdown",
      "metadata": {
        "id": "LTAvN8J3egfk"
      },
      "source": [
        "### Preprocessing transform\n",
        "Preprocessing is the same as the experimental protocol of the original paper. This includes :\n",
        "* Resize to 224x224\n",
        "* Random rotation of -10° +10°\n",
        "* Random horizontal flip"
      ]
    },
    {
      "cell_type": "code",
      "execution_count": 11,
      "metadata": {
        "id": "9MF1-iFsTTQt"
      },
      "outputs": [],
      "source": [
        "trans = transforms.Compose([\n",
        "    transforms.Lambda(lambda x: x.float()),\n",
        "    transforms.Resize((224,224)),\n",
        "    transforms.RandomRotation(10),\n",
        "    transforms.RandomHorizontalFlip()\n",
        "])"
      ]
    },
    {
      "cell_type": "markdown",
      "metadata": {
        "id": "KaC7JedKenG_"
      },
      "source": [
        "### Create dataloaders\n",
        "Validation set will be sampled with a stratified split of test set, as in the paper, with ratio 50/50.\n",
        "\n",
        "Overall the proportions for the train/test/validation datasets are 80/10/10 %\n",
        "\n",
        "Finally, we will use a batch size of 16 as in the paper."
      ]
    },
    {
      "cell_type": "code",
      "execution_count": 12,
      "metadata": {
        "id": "RhF0_COyTTQv"
      },
      "outputs": [],
      "source": [
        "import pandas as pd\n",
        "import os\n",
        "from torch.utils.data import Dataset\n",
        "from torchvision.io import read_image\n",
        "\n",
        "class CustomImageDataset(Dataset):\n",
        "    def __init__(self, annotations_file, img_dir, transform=None, target_transform=None):\n",
        "        self.img_labels = pd.read_csv(annotations_file)\n",
        "        self.img_dir = img_dir\n",
        "        self.transform = transform\n",
        "        self.target_transform = target_transform\n",
        "\n",
        "    def __len__(self):\n",
        "        return len(self.img_labels)\n",
        "\n",
        "    def __getitem__(self, idx):\n",
        "        img_path = os.path.join(self.img_dir, self.img_labels.iloc[idx, 0])\n",
        "        image = read_image(img_path)\n",
        "        label = self.img_labels.iloc[idx, 1]\n",
        "        if self.transform:\n",
        "            image = self.transform(image)\n",
        "        if self.target_transform:\n",
        "            label = self.target_transform(label)\n",
        "        return image, label"
      ]
    },
    {
      "cell_type": "code",
      "execution_count": 13,
      "metadata": {
        "colab": {
          "base_uri": "https://localhost:8080/"
        },
        "id": "RFB9WkgxTTQx",
        "outputId": "2bc3cc4d-98c9-431b-d8c6-994508493db3"
      },
      "outputs": [
        {
          "output_type": "stream",
          "name": "stdout",
          "text": [
            "\n",
            "Nb batches in train: 758\n"
          ]
        },
        {
          "output_type": "stream",
          "name": "stderr",
          "text": [
            "/usr/local/lib/python3.8/dist-packages/torch/utils/data/dataloader.py:554: UserWarning: This DataLoader will create 4 worker processes in total. Our suggested max number of worker in current system is 2, which is smaller than what this DataLoader is going to create. Please be aware that excessive worker creation might get DataLoader running slow or even freeze, lower the worker number to avoid potential slowness/freeze if necessary.\n",
            "  warnings.warn(_create_warning_msg(\n"
          ]
        }
      ],
      "source": [
        "train_data = CustomImageDataset(\"train_list_label.csv\",\"./aligned/train\", transform=trans)\n",
        "train_loader = DataLoader(train_data, batch_size=16, shuffle=True, num_workers=4)\n",
        "print(f\"\\nNb batches in train: {len(train_loader)}\")"
      ]
    },
    {
      "cell_type": "code",
      "execution_count": 14,
      "metadata": {
        "id": "I2paf1E6TTQy"
      },
      "outputs": [],
      "source": [
        "from sklearn.model_selection import train_test_split\n",
        "test_data = CustomImageDataset(\"test_list_label.csv\",\"./aligned/test\", transform=trans)\n",
        "\n",
        "test_indices, val_indices = train_test_split(list(range(len(test_data.img_labels.Label))), test_size=0.5, stratify=test_data.img_labels.Label)\n",
        "\n",
        "val_data = torch.utils.data.Subset(test_data, val_indices)\n",
        "test_data = torch.utils.data.Subset(test_data, test_indices)\n"
      ]
    },
    {
      "cell_type": "code",
      "execution_count": 15,
      "metadata": {
        "colab": {
          "base_uri": "https://localhost:8080/"
        },
        "id": "g0vmJvM_c96n",
        "outputId": "ebf680a6-9a3d-4fbc-a260-0492c355f332"
      },
      "outputs": [
        {
          "output_type": "stream",
          "name": "stdout",
          "text": [
            "\n",
            "Nb batches in test: 92\n"
          ]
        },
        {
          "output_type": "stream",
          "name": "stderr",
          "text": [
            "/usr/local/lib/python3.8/dist-packages/torch/utils/data/dataloader.py:554: UserWarning: This DataLoader will create 4 worker processes in total. Our suggested max number of worker in current system is 2, which is smaller than what this DataLoader is going to create. Please be aware that excessive worker creation might get DataLoader running slow or even freeze, lower the worker number to avoid potential slowness/freeze if necessary.\n",
            "  warnings.warn(_create_warning_msg(\n"
          ]
        }
      ],
      "source": [
        "test_loader = DataLoader(test_data, batch_size=16, shuffle=True, num_workers=4)\n",
        "print(f\"\\nNb batches in test: {len(test_loader)}\")"
      ]
    },
    {
      "cell_type": "code",
      "execution_count": 16,
      "metadata": {
        "colab": {
          "base_uri": "https://localhost:8080/"
        },
        "id": "-Cztj6-wc_iE",
        "outputId": "3f5f4dc6-452d-4d6f-86ad-f24c74ea6b13"
      },
      "outputs": [
        {
          "output_type": "stream",
          "name": "stdout",
          "text": [
            "\n",
            "Nb batches in val: 92\n"
          ]
        }
      ],
      "source": [
        "val_loader = DataLoader(val_data, batch_size=16, shuffle=True, num_workers=4)\n",
        "print(f\"\\nNb batches in val: {len(val_loader)}\")"
      ]
    },
    {
      "cell_type": "markdown",
      "metadata": {
        "id": "XpPiJoR9ewyx"
      },
      "source": [
        "## VGG class"
      ]
    },
    {
      "cell_type": "code",
      "execution_count": 17,
      "metadata": {
        "id": "RF0r5z--TTQ0"
      },
      "outputs": [],
      "source": [
        "\n",
        "import torch\n",
        "import torch.nn as nn\n",
        "\n",
        "\n",
        "class Vgg(nn.Module):\n",
        "\n",
        "    def __init__(self):\n",
        "        super(Vgg, self).__init__()\n",
        "        self.meta = {'mean': [129.186279296875, 104.76238250732422, 93.59396362304688],\n",
        "                     'std': [1, 1, 1],\n",
        "                     'imageSize': [224, 224, 3]}\n",
        "        self.conv1_1 = nn.Conv2d(3, 64, kernel_size=[3, 3], stride=(1, 1), padding=(1, 1))\n",
        "        self.relu1_1 = nn.ReLU(inplace=True)\n",
        "        self.conv1_2 = nn.Conv2d(64, 64, kernel_size=[3, 3], stride=(1, 1), padding=(1, 1))\n",
        "        self.relu1_2 = nn.ReLU(inplace=True)\n",
        "        self.pool1 = nn.MaxPool2d(kernel_size=[2, 2], stride=[2, 2], padding=0, dilation=1, ceil_mode=False)\n",
        "        self.conv2_1 = nn.Conv2d(64, 128, kernel_size=[3, 3], stride=(1, 1), padding=(1, 1))\n",
        "        self.relu2_1 = nn.ReLU(inplace=True)\n",
        "        self.conv2_2 = nn.Conv2d(128, 128, kernel_size=[3, 3], stride=(1, 1), padding=(1, 1))\n",
        "        self.relu2_2 = nn.ReLU(inplace=True)\n",
        "        self.pool2 = nn.MaxPool2d(kernel_size=[2, 2], stride=[2, 2], padding=0, dilation=1, ceil_mode=False)\n",
        "        self.conv3_1 = nn.Conv2d(128, 256, kernel_size=[3, 3], stride=(1, 1), padding=(1, 1))\n",
        "        self.relu3_1 = nn.ReLU(inplace=True)\n",
        "        self.conv3_2 = nn.Conv2d(256, 256, kernel_size=[3, 3], stride=(1, 1), padding=(1, 1))\n",
        "        self.relu3_2 = nn.ReLU(inplace=True)\n",
        "        self.conv3_3 = nn.Conv2d(256, 256, kernel_size=[3, 3], stride=(1, 1), padding=(1, 1))\n",
        "        self.relu3_3 = nn.ReLU(inplace=True)\n",
        "        self.pool3 = nn.MaxPool2d(kernel_size=[2, 2], stride=[2, 2], padding=0, dilation=1, ceil_mode=False)\n",
        "        self.conv4_1 = nn.Conv2d(256, 512, kernel_size=[3, 3], stride=(1, 1), padding=(1, 1))\n",
        "        self.relu4_1 = nn.ReLU(inplace=True)\n",
        "        self.conv4_2 = nn.Conv2d(512, 512, kernel_size=[3, 3], stride=(1, 1), padding=(1, 1))\n",
        "        self.relu4_2 = nn.ReLU(inplace=True)\n",
        "        self.conv4_3 = nn.Conv2d(512, 512, kernel_size=[3, 3], stride=(1, 1), padding=(1, 1))\n",
        "        self.relu4_3 = nn.ReLU(inplace=True)\n",
        "        self.pool4 = nn.MaxPool2d(kernel_size=[2, 2], stride=[2, 2], padding=0, dilation=1, ceil_mode=False)\n",
        "        self.conv5_1 = nn.Conv2d(512, 512, kernel_size=[3, 3], stride=(1, 1), padding=(1, 1))\n",
        "        self.relu5_1 = nn.ReLU(inplace=True)\n",
        "        self.conv5_2 = nn.Conv2d(512, 512, kernel_size=[3, 3], stride=(1, 1), padding=(1, 1))\n",
        "        self.relu5_2 = nn.ReLU(inplace=True)\n",
        "        self.conv5_3 = nn.Conv2d(512, 512, kernel_size=[3, 3], stride=(1, 1), padding=(1, 1))\n",
        "        self.relu5_3 = nn.ReLU(inplace=True)\n",
        "        self.pool5 = nn.MaxPool2d(kernel_size=[2, 2], stride=[2, 2], padding=0, dilation=1, ceil_mode=False)\n",
        "        self.fc6 = nn.Linear(in_features=25088, out_features=4096, bias=True)\n",
        "        self.relu6 = nn.ReLU(inplace=True)\n",
        "        self.dropout6 = nn.Dropout(p=0.5)\n",
        "        self.fc7 = nn.Linear(in_features=4096, out_features=4096, bias=True)\n",
        "        self.relu7 = nn.ReLU(inplace=True)\n",
        "        self.dropout7 = nn.Dropout(p=0.5)\n",
        "        self.fc8 = nn.Linear(in_features=4096, out_features=7, bias=True)\n",
        "\n",
        "\n",
        "    def forward(self, x0):\n",
        "        x1 = self.conv1_1(x0)\n",
        "        x2 = self.relu1_1(x1)\n",
        "        x3 = self.conv1_2(x2)\n",
        "        x4 = self.relu1_2(x3)\n",
        "        x5 = self.pool1(x4)\n",
        "        x6 = self.conv2_1(x5)\n",
        "        x7 = self.relu2_1(x6)\n",
        "        x8 = self.conv2_2(x7)\n",
        "        x9 = self.relu2_2(x8)\n",
        "        x10 = self.pool2(x9)\n",
        "        x11 = self.conv3_1(x10)\n",
        "        x12 = self.relu3_1(x11)\n",
        "        x13 = self.conv3_2(x12)\n",
        "        x14 = self.relu3_2(x13)\n",
        "        x15 = self.conv3_3(x14)\n",
        "        x16 = self.relu3_3(x15)\n",
        "        x17 = self.pool3(x16)\n",
        "        x18 = self.conv4_1(x17)\n",
        "        x19 = self.relu4_1(x18)\n",
        "        x20 = self.conv4_2(x19)\n",
        "        x21 = self.relu4_2(x20)\n",
        "        x22 = self.conv4_3(x21)\n",
        "        x23 = self.relu4_3(x22)\n",
        "        x24 = self.pool4(x23)\n",
        "        x25 = self.conv5_1(x24)\n",
        "        x26 = self.relu5_1(x25)\n",
        "        x27 = self.conv5_2(x26)\n",
        "        x28 = self.relu5_2(x27)\n",
        "        x29 = self.conv5_3(x28)\n",
        "        x30 = self.relu5_3(x29)\n",
        "        x31_preflatten = self.pool5(x30)\n",
        "        x31 = x31_preflatten.view(x31_preflatten.size(0), -1)\n",
        "        x32 = self.fc6(x31)\n",
        "        x33 = self.relu6(x32)\n",
        "        x34 = self.dropout6(x33)\n",
        "        x35 = self.fc7(x34)\n",
        "        x36 = self.relu7(x35)\n",
        "        x37 = self.dropout7(x36)\n",
        "        x38 = self.fc8(x37)\n",
        "        return x38\n",
        "\n",
        "def vgg_face(weights_path=None, **kwargs):\n",
        "    \"\"\"\n",
        "    load imported model instance\n",
        "\n",
        "    Args:\n",
        "        weights_path (str): If set, loads model weights from the given path\n",
        "    \"\"\"\n",
        "    model = Vgg()\n",
        "    if weights_path:\n",
        "        state_dict = torch.load(weights_path)\n",
        "        state_dict.pop(\"fc6.weight\")\n",
        "        state_dict.pop(\"fc6.bias\")\n",
        "        state_dict.pop(\"fc7.weight\")\n",
        "        state_dict.pop(\"fc7.bias\")\n",
        "        state_dict.pop(\"fc8.weight\")\n",
        "        state_dict.pop(\"fc8.bias\")\n",
        "        model.load_state_dict(state_dict, strict=False)\n",
        "    return model"
      ]
    },
    {
      "cell_type": "markdown",
      "metadata": {
        "id": "L6znD8m3e0UX"
      },
      "source": [
        "### Load pretrained weights on vgg_face"
      ]
    },
    {
      "cell_type": "code",
      "execution_count": 18,
      "metadata": {
        "id": "-mz1UwaITTQ1"
      },
      "outputs": [],
      "source": [
        "vgg = vgg_face(\"vgg_face_dag.pth\")\n",
        "vgg = vgg.to(device)"
      ]
    },
    {
      "cell_type": "markdown",
      "metadata": {
        "id": "rfE_h1R5e44U"
      },
      "source": [
        "## Train"
      ]
    },
    {
      "cell_type": "markdown",
      "metadata": {
        "id": "F2Vz0Yf4e7kU"
      },
      "source": [
        "### Initial evaluation on validation dataset"
      ]
    },
    {
      "cell_type": "code",
      "execution_count": 19,
      "metadata": {
        "id": "qyUWv3xVg6j8"
      },
      "outputs": [],
      "source": [
        "cross_entropy = nn.CrossEntropyLoss()\n",
        "\n",
        "def eval_model(net, loader):\n",
        "  net.eval()\n",
        "  acc, loss = 0., 0.\n",
        "  c = 0\n",
        "  for x, y in loader:\n",
        "    with torch.no_grad():\n",
        "      # No need to compute gradient here thus we avoid storing intermediary activations\n",
        "      logits = net(x.to(device)).cpu()\n",
        "\n",
        "    loss += cross_entropy(logits, y).item()\n",
        "    preds = logits.argmax(dim=1)\n",
        "    acc += (preds.numpy() == y.numpy()).sum()\n",
        "    c += len(x)\n",
        "\n",
        "  acc /= c\n",
        "  loss /= len(loader)\n",
        "  net.train()\n",
        "  return acc, loss"
      ]
    },
    {
      "cell_type": "code",
      "execution_count": 20,
      "metadata": {
        "colab": {
          "base_uri": "https://localhost:8080/"
        },
        "id": "nzWqyNeOTTQ2",
        "outputId": "777996bf-9e8a-43f1-8b0e-af0e33ace55e"
      },
      "outputs": [
        {
          "output_type": "stream",
          "name": "stdout",
          "text": [
            "Initial accuracy/loss on val: 9.17/2.7371\n"
          ]
        }
      ],
      "source": [
        "initial_acc, initial_loss = eval_model(vgg, val_loader)\n",
        "print(f\"Initial accuracy/loss on val: {round(100 * initial_acc, 2)}/{round(initial_loss, 4)}\")"
      ]
    },
    {
      "cell_type": "markdown",
      "metadata": {
        "id": "aEUMsdH-fF79"
      },
      "source": [
        "### Training\n",
        "\n",
        "Training will be performed with adam optimizer, using a base learning rate of 5e-5 and polynomial decay on all epochs with a power of 0.5, for 75 epochs.  \n",
        "We will save the best model according to the accuracy on the validation set.  \n",
        "These parameters follow the experimental protocol of the paper."
      ]
    },
    {
      "cell_type": "code",
      "execution_count": 21,
      "metadata": {
        "id": "HFqWHdsKfC_O"
      },
      "outputs": [],
      "source": [
        "from torch.optim.lr_scheduler import PolynomialLR\n",
        "\n",
        "\n",
        "optimizer = torch.optim.Adam(vgg.parameters(), lr=0.00005)\n",
        "scheduler = PolynomialLR(optimizer, total_iters=75, power=2)\n",
        "\n",
        "nb_epochs = 75\n",
        "\n",
        "train_accs, train_losses = [], []\n",
        "val_accs, val_losses = [], []"
      ]
    },
    {
      "cell_type": "code",
      "execution_count": 22,
      "metadata": {
        "colab": {
          "base_uri": "https://localhost:8080/"
        },
        "id": "27MCDp2JTTQ2",
        "outputId": "0e50a490-94b8-4723-a493-19e602720818"
      },
      "outputs": [
        {
          "output_type": "stream",
          "name": "stderr",
          "text": [
            "100%|██████████| 758/758 [03:42<00:00,  3.40batch/s, loss=0.705]\n"
          ]
        },
        {
          "output_type": "stream",
          "name": "stdout",
          "text": [
            "Epoch 1/75, train acc/loss: 64.09/1.0287, val acc/loss: 76.63/0.725, time 233s\n"
          ]
        },
        {
          "output_type": "stream",
          "name": "stderr",
          "text": [
            "100%|██████████| 758/758 [03:41<00:00,  3.43batch/s, loss=0.268]\n"
          ]
        },
        {
          "output_type": "stream",
          "name": "stdout",
          "text": [
            "Epoch 2/75, train acc/loss: 77.72/0.656, val acc/loss: 81.11/0.5792, time 231s\n"
          ]
        },
        {
          "output_type": "stream",
          "name": "stderr",
          "text": [
            "100%|██████████| 758/758 [03:41<00:00,  3.43batch/s, loss=0.0805]\n"
          ]
        },
        {
          "output_type": "stream",
          "name": "stdout",
          "text": [
            "Epoch 3/75, train acc/loss: 82.55/0.5245, val acc/loss: 80.1/0.5996, time 229s\n"
          ]
        },
        {
          "output_type": "stream",
          "name": "stderr",
          "text": [
            "100%|██████████| 758/758 [03:40<00:00,  3.43batch/s, loss=0.455]\n"
          ]
        },
        {
          "output_type": "stream",
          "name": "stdout",
          "text": [
            "Epoch 4/75, train acc/loss: 85.63/0.4317, val acc/loss: 80.43/0.578, time 229s\n"
          ]
        },
        {
          "output_type": "stream",
          "name": "stderr",
          "text": [
            "100%|██████████| 758/758 [03:40<00:00,  3.43batch/s, loss=0.528]\n"
          ]
        },
        {
          "output_type": "stream",
          "name": "stdout",
          "text": [
            "Epoch 5/75, train acc/loss: 87.9/0.3652, val acc/loss: 82.0/0.5502, time 231s\n"
          ]
        },
        {
          "output_type": "stream",
          "name": "stderr",
          "text": [
            "100%|██████████| 758/758 [03:40<00:00,  3.44batch/s, loss=0.115]\n"
          ]
        },
        {
          "output_type": "stream",
          "name": "stdout",
          "text": [
            "Epoch 6/75, train acc/loss: 89.61/0.3015, val acc/loss: 84.38/0.5419, time 230s\n"
          ]
        },
        {
          "output_type": "stream",
          "name": "stderr",
          "text": [
            "100%|██████████| 758/758 [03:40<00:00,  3.44batch/s, loss=0.033]\n"
          ]
        },
        {
          "output_type": "stream",
          "name": "stdout",
          "text": [
            "Epoch 7/75, train acc/loss: 91.42/0.2534, val acc/loss: 82.74/0.7013, time 228s\n"
          ]
        },
        {
          "output_type": "stream",
          "name": "stderr",
          "text": [
            "100%|██████████| 758/758 [03:39<00:00,  3.45batch/s, loss=0.278]\n"
          ]
        },
        {
          "output_type": "stream",
          "name": "stdout",
          "text": [
            "Epoch 8/75, train acc/loss: 93.19/0.2085, val acc/loss: 83.9/0.5869, time 228s\n"
          ]
        },
        {
          "output_type": "stream",
          "name": "stderr",
          "text": [
            "100%|██████████| 758/758 [03:40<00:00,  3.45batch/s, loss=0.293]\n"
          ]
        },
        {
          "output_type": "stream",
          "name": "stdout",
          "text": [
            "Epoch 9/75, train acc/loss: 93.84/0.1837, val acc/loss: 83.49/0.6098, time 228s\n"
          ]
        },
        {
          "output_type": "stream",
          "name": "stderr",
          "text": [
            "100%|██████████| 758/758 [03:40<00:00,  3.44batch/s, loss=0.166]\n"
          ]
        },
        {
          "output_type": "stream",
          "name": "stdout",
          "text": [
            "Epoch 10/75, train acc/loss: 95.12/0.1491, val acc/loss: 83.29/0.6642, time 228s\n"
          ]
        },
        {
          "output_type": "stream",
          "name": "stderr",
          "text": [
            "100%|██████████| 758/758 [03:39<00:00,  3.45batch/s, loss=0.023]\n"
          ]
        },
        {
          "output_type": "stream",
          "name": "stdout",
          "text": [
            "Epoch 11/75, train acc/loss: 95.56/0.138, val acc/loss: 84.17/0.578, time 228s\n"
          ]
        },
        {
          "output_type": "stream",
          "name": "stderr",
          "text": [
            "100%|██████████| 758/758 [03:39<00:00,  3.45batch/s, loss=0.0125]\n"
          ]
        },
        {
          "output_type": "stream",
          "name": "stdout",
          "text": [
            "Epoch 12/75, train acc/loss: 96.5/0.1115, val acc/loss: 84.92/0.6096, time 230s\n"
          ]
        },
        {
          "output_type": "stream",
          "name": "stderr",
          "text": [
            "100%|██████████| 758/758 [03:39<00:00,  3.45batch/s, loss=0.0981]\n"
          ]
        },
        {
          "output_type": "stream",
          "name": "stdout",
          "text": [
            "Epoch 13/75, train acc/loss: 96.72/0.0981, val acc/loss: 83.56/0.7355, time 228s\n"
          ]
        },
        {
          "output_type": "stream",
          "name": "stderr",
          "text": [
            "100%|██████████| 758/758 [03:40<00:00,  3.44batch/s, loss=0.0004]\n"
          ]
        },
        {
          "output_type": "stream",
          "name": "stdout",
          "text": [
            "Epoch 14/75, train acc/loss: 96.94/0.096, val acc/loss: 84.04/0.7467, time 228s\n"
          ]
        },
        {
          "output_type": "stream",
          "name": "stderr",
          "text": [
            "100%|██████████| 758/758 [03:39<00:00,  3.45batch/s, loss=0.122]\n"
          ]
        },
        {
          "output_type": "stream",
          "name": "stdout",
          "text": [
            "Epoch 15/75, train acc/loss: 97.1/0.0831, val acc/loss: 84.17/0.7017, time 228s\n"
          ]
        },
        {
          "output_type": "stream",
          "name": "stderr",
          "text": [
            "100%|██████████| 758/758 [03:39<00:00,  3.45batch/s, loss=0.216]\n"
          ]
        },
        {
          "output_type": "stream",
          "name": "stdout",
          "text": [
            "Epoch 16/75, train acc/loss: 97.59/0.0712, val acc/loss: 83.9/0.7717, time 228s\n"
          ]
        },
        {
          "output_type": "stream",
          "name": "stderr",
          "text": [
            "100%|██████████| 758/758 [03:39<00:00,  3.45batch/s, loss=0.00282]\n"
          ]
        },
        {
          "output_type": "stream",
          "name": "stdout",
          "text": [
            "Epoch 17/75, train acc/loss: 98.06/0.0606, val acc/loss: 83.49/0.9617, time 228s\n"
          ]
        },
        {
          "output_type": "stream",
          "name": "stderr",
          "text": [
            "100%|██████████| 758/758 [03:39<00:00,  3.45batch/s, loss=0.00188]\n"
          ]
        },
        {
          "output_type": "stream",
          "name": "stdout",
          "text": [
            "Epoch 18/75, train acc/loss: 97.76/0.0655, val acc/loss: 84.1/0.7226, time 228s\n"
          ]
        },
        {
          "output_type": "stream",
          "name": "stderr",
          "text": [
            "100%|██████████| 758/758 [03:39<00:00,  3.45batch/s, loss=0.535]\n"
          ]
        },
        {
          "output_type": "stream",
          "name": "stdout",
          "text": [
            "Epoch 19/75, train acc/loss: 98.05/0.0565, val acc/loss: 84.71/0.7631, time 228s\n"
          ]
        },
        {
          "output_type": "stream",
          "name": "stderr",
          "text": [
            "100%|██████████| 758/758 [03:39<00:00,  3.45batch/s, loss=0.277]\n"
          ]
        },
        {
          "output_type": "stream",
          "name": "stdout",
          "text": [
            "Epoch 20/75, train acc/loss: 98.39/0.047, val acc/loss: 84.85/0.7385, time 228s\n"
          ]
        },
        {
          "output_type": "stream",
          "name": "stderr",
          "text": [
            "100%|██████████| 758/758 [03:39<00:00,  3.45batch/s, loss=0.0231]\n"
          ]
        },
        {
          "output_type": "stream",
          "name": "stdout",
          "text": [
            "Epoch 21/75, train acc/loss: 98.38/0.0504, val acc/loss: 83.76/0.8841, time 228s\n"
          ]
        },
        {
          "output_type": "stream",
          "name": "stderr",
          "text": [
            "100%|██████████| 758/758 [03:39<00:00,  3.45batch/s, loss=5.78e-5]\n"
          ]
        },
        {
          "output_type": "stream",
          "name": "stdout",
          "text": [
            "Epoch 22/75, train acc/loss: 98.85/0.0375, val acc/loss: 84.38/0.9789, time 228s\n"
          ]
        },
        {
          "output_type": "stream",
          "name": "stderr",
          "text": [
            "100%|██████████| 758/758 [03:39<00:00,  3.45batch/s, loss=0.0204]\n"
          ]
        },
        {
          "output_type": "stream",
          "name": "stdout",
          "text": [
            "Epoch 23/75, train acc/loss: 98.89/0.0354, val acc/loss: 83.7/0.9775, time 228s\n"
          ]
        },
        {
          "output_type": "stream",
          "name": "stderr",
          "text": [
            "100%|██████████| 758/758 [03:39<00:00,  3.45batch/s, loss=0.00355]\n"
          ]
        },
        {
          "output_type": "stream",
          "name": "stdout",
          "text": [
            "Epoch 24/75, train acc/loss: 98.89/0.0367, val acc/loss: 83.02/0.9421, time 228s\n"
          ]
        },
        {
          "output_type": "stream",
          "name": "stderr",
          "text": [
            "100%|██████████| 758/758 [03:39<00:00,  3.45batch/s, loss=0.00327]\n"
          ]
        },
        {
          "output_type": "stream",
          "name": "stdout",
          "text": [
            "Epoch 25/75, train acc/loss: 98.84/0.0352, val acc/loss: 85.19/0.8589, time 230s\n"
          ]
        },
        {
          "output_type": "stream",
          "name": "stderr",
          "text": [
            "100%|██████████| 758/758 [03:39<00:00,  3.45batch/s, loss=0.000695]\n"
          ]
        },
        {
          "output_type": "stream",
          "name": "stdout",
          "text": [
            "Epoch 26/75, train acc/loss: 99.03/0.0314, val acc/loss: 84.71/0.8724, time 228s\n"
          ]
        },
        {
          "output_type": "stream",
          "name": "stderr",
          "text": [
            "100%|██████████| 758/758 [03:39<00:00,  3.45batch/s, loss=0.00117]\n"
          ]
        },
        {
          "output_type": "stream",
          "name": "stdout",
          "text": [
            "Epoch 27/75, train acc/loss: 99.17/0.026, val acc/loss: 85.19/0.9102, time 228s\n"
          ]
        },
        {
          "output_type": "stream",
          "name": "stderr",
          "text": [
            "100%|██████████| 758/758 [03:39<00:00,  3.45batch/s, loss=0.000238]\n"
          ]
        },
        {
          "output_type": "stream",
          "name": "stdout",
          "text": [
            "Epoch 28/75, train acc/loss: 99.22/0.0249, val acc/loss: 84.65/0.9603, time 228s\n"
          ]
        },
        {
          "output_type": "stream",
          "name": "stderr",
          "text": [
            "100%|██████████| 758/758 [03:39<00:00,  3.45batch/s, loss=0.147]\n"
          ]
        },
        {
          "output_type": "stream",
          "name": "stdout",
          "text": [
            "Epoch 29/75, train acc/loss: 99.17/0.0252, val acc/loss: 85.53/0.8378, time 230s\n"
          ]
        },
        {
          "output_type": "stream",
          "name": "stderr",
          "text": [
            "100%|██████████| 758/758 [03:39<00:00,  3.45batch/s, loss=0.00015]\n"
          ]
        },
        {
          "output_type": "stream",
          "name": "stdout",
          "text": [
            "Epoch 30/75, train acc/loss: 99.42/0.0167, val acc/loss: 85.6/1.2101, time 230s\n"
          ]
        },
        {
          "output_type": "stream",
          "name": "stderr",
          "text": [
            "100%|██████████| 758/758 [03:39<00:00,  3.45batch/s, loss=0.00329]\n"
          ]
        },
        {
          "output_type": "stream",
          "name": "stdout",
          "text": [
            "Epoch 31/75, train acc/loss: 99.24/0.0251, val acc/loss: 85.53/0.9538, time 228s\n"
          ]
        },
        {
          "output_type": "stream",
          "name": "stderr",
          "text": [
            "100%|██████████| 758/758 [03:40<00:00,  3.44batch/s, loss=0.0695]\n"
          ]
        },
        {
          "output_type": "stream",
          "name": "stdout",
          "text": [
            "Epoch 32/75, train acc/loss: 99.55/0.018, val acc/loss: 86.35/0.9351, time 231s\n"
          ]
        },
        {
          "output_type": "stream",
          "name": "stderr",
          "text": [
            "100%|██████████| 758/758 [03:39<00:00,  3.45batch/s, loss=5.11e-8]\n"
          ]
        },
        {
          "output_type": "stream",
          "name": "stdout",
          "text": [
            "Epoch 33/75, train acc/loss: 99.47/0.0161, val acc/loss: 85.6/1.0324, time 228s\n"
          ]
        },
        {
          "output_type": "stream",
          "name": "stderr",
          "text": [
            "100%|██████████| 758/758 [03:40<00:00,  3.44batch/s, loss=0.000174]\n"
          ]
        },
        {
          "output_type": "stream",
          "name": "stdout",
          "text": [
            "Epoch 34/75, train acc/loss: 99.6/0.0129, val acc/loss: 85.05/1.3262, time 228s\n"
          ]
        },
        {
          "output_type": "stream",
          "name": "stderr",
          "text": [
            "100%|██████████| 758/758 [03:39<00:00,  3.45batch/s, loss=0.000133]\n"
          ]
        },
        {
          "output_type": "stream",
          "name": "stdout",
          "text": [
            "Epoch 35/75, train acc/loss: 99.5/0.0181, val acc/loss: 84.65/0.9949, time 228s\n"
          ]
        },
        {
          "output_type": "stream",
          "name": "stderr",
          "text": [
            "100%|██████████| 758/758 [03:40<00:00,  3.45batch/s, loss=4.77e-6]\n"
          ]
        },
        {
          "output_type": "stream",
          "name": "stdout",
          "text": [
            "Epoch 36/75, train acc/loss: 99.51/0.0131, val acc/loss: 84.85/1.2436, time 228s\n"
          ]
        },
        {
          "output_type": "stream",
          "name": "stderr",
          "text": [
            "100%|██████████| 758/758 [03:39<00:00,  3.45batch/s, loss=8.85e-5]\n"
          ]
        },
        {
          "output_type": "stream",
          "name": "stdout",
          "text": [
            "Epoch 37/75, train acc/loss: 99.63/0.0106, val acc/loss: 83.7/1.1518, time 228s\n"
          ]
        },
        {
          "output_type": "stream",
          "name": "stderr",
          "text": [
            "100%|██████████| 758/758 [03:39<00:00,  3.45batch/s, loss=3.24e-7]\n"
          ]
        },
        {
          "output_type": "stream",
          "name": "stdout",
          "text": [
            "Epoch 38/75, train acc/loss: 99.74/0.0087, val acc/loss: 85.05/1.2651, time 228s\n"
          ]
        },
        {
          "output_type": "stream",
          "name": "stderr",
          "text": [
            "100%|██████████| 758/758 [03:39<00:00,  3.45batch/s, loss=4.68e-5]\n"
          ]
        },
        {
          "output_type": "stream",
          "name": "stdout",
          "text": [
            "Epoch 39/75, train acc/loss: 99.73/0.0114, val acc/loss: 84.99/1.1603, time 228s\n"
          ]
        },
        {
          "output_type": "stream",
          "name": "stderr",
          "text": [
            "100%|██████████| 758/758 [03:39<00:00,  3.45batch/s, loss=1.12e-6]\n"
          ]
        },
        {
          "output_type": "stream",
          "name": "stdout",
          "text": [
            "Epoch 40/75, train acc/loss: 99.73/0.0077, val acc/loss: 84.24/1.4317, time 228s\n"
          ]
        },
        {
          "output_type": "stream",
          "name": "stderr",
          "text": [
            "100%|██████████| 758/758 [03:39<00:00,  3.45batch/s, loss=0]\n"
          ]
        },
        {
          "output_type": "stream",
          "name": "stdout",
          "text": [
            "Epoch 41/75, train acc/loss: 99.88/0.0034, val acc/loss: 85.73/1.4012, time 228s\n"
          ]
        },
        {
          "output_type": "stream",
          "name": "stderr",
          "text": [
            "100%|██████████| 758/758 [03:39<00:00,  3.45batch/s, loss=1.88e-5]\n"
          ]
        },
        {
          "output_type": "stream",
          "name": "stdout",
          "text": [
            "Epoch 42/75, train acc/loss: 99.71/0.0092, val acc/loss: 84.78/1.3046, time 228s\n"
          ]
        },
        {
          "output_type": "stream",
          "name": "stderr",
          "text": [
            "100%|██████████| 758/758 [03:39<00:00,  3.45batch/s, loss=1.28e-6]\n"
          ]
        },
        {
          "output_type": "stream",
          "name": "stdout",
          "text": [
            "Epoch 43/75, train acc/loss: 99.82/0.0058, val acc/loss: 86.28/1.3636, time 228s\n"
          ]
        },
        {
          "output_type": "stream",
          "name": "stderr",
          "text": [
            "100%|██████████| 758/758 [03:39<00:00,  3.45batch/s, loss=0]\n"
          ]
        },
        {
          "output_type": "stream",
          "name": "stdout",
          "text": [
            "Epoch 44/75, train acc/loss: 99.89/0.0042, val acc/loss: 85.94/1.2653, time 228s\n"
          ]
        },
        {
          "output_type": "stream",
          "name": "stderr",
          "text": [
            "100%|██████████| 758/758 [03:39<00:00,  3.45batch/s, loss=2.04e-7]\n"
          ]
        },
        {
          "output_type": "stream",
          "name": "stdout",
          "text": [
            "Epoch 45/75, train acc/loss: 99.85/0.0053, val acc/loss: 86.14/1.2679, time 228s\n"
          ]
        },
        {
          "output_type": "stream",
          "name": "stderr",
          "text": [
            "100%|██████████| 758/758 [03:40<00:00,  3.44batch/s, loss=3.58e-7]\n"
          ]
        },
        {
          "output_type": "stream",
          "name": "stdout",
          "text": [
            "Epoch 46/75, train acc/loss: 99.93/0.002, val acc/loss: 85.12/1.4346, time 228s\n"
          ]
        },
        {
          "output_type": "stream",
          "name": "stderr",
          "text": [
            "100%|██████████| 758/758 [03:40<00:00,  3.44batch/s, loss=0.000147]\n"
          ]
        },
        {
          "output_type": "stream",
          "name": "stdout",
          "text": [
            "Epoch 47/75, train acc/loss: 99.86/0.0037, val acc/loss: 86.28/1.3983, time 228s\n"
          ]
        },
        {
          "output_type": "stream",
          "name": "stderr",
          "text": [
            "100%|██████████| 758/758 [03:39<00:00,  3.45batch/s, loss=1.53e-6]\n"
          ]
        },
        {
          "output_type": "stream",
          "name": "stdout",
          "text": [
            "Epoch 48/75, train acc/loss: 99.88/0.0038, val acc/loss: 84.71/1.1672, time 228s\n"
          ]
        },
        {
          "output_type": "stream",
          "name": "stderr",
          "text": [
            "100%|██████████| 758/758 [03:39<00:00,  3.45batch/s, loss=7.65e-6]\n"
          ]
        },
        {
          "output_type": "stream",
          "name": "stdout",
          "text": [
            "Epoch 49/75, train acc/loss: 99.91/0.0034, val acc/loss: 85.46/1.4465, time 228s\n"
          ]
        },
        {
          "output_type": "stream",
          "name": "stderr",
          "text": [
            "100%|██████████| 758/758 [03:39<00:00,  3.45batch/s, loss=0]\n"
          ]
        },
        {
          "output_type": "stream",
          "name": "stdout",
          "text": [
            "Epoch 50/75, train acc/loss: 99.92/0.0031, val acc/loss: 86.28/1.2651, time 228s\n"
          ]
        },
        {
          "output_type": "stream",
          "name": "stderr",
          "text": [
            "100%|██████████| 758/758 [03:39<00:00,  3.45batch/s, loss=3.41e-8]\n"
          ]
        },
        {
          "output_type": "stream",
          "name": "stdout",
          "text": [
            "Epoch 51/75, train acc/loss: 99.92/0.0023, val acc/loss: 85.53/1.4017, time 228s\n"
          ]
        },
        {
          "output_type": "stream",
          "name": "stderr",
          "text": [
            "100%|██████████| 758/758 [03:39<00:00,  3.45batch/s, loss=0]\n"
          ]
        },
        {
          "output_type": "stream",
          "name": "stdout",
          "text": [
            "Epoch 52/75, train acc/loss: 99.98/0.002, val acc/loss: 85.19/1.3144, time 228s\n"
          ]
        },
        {
          "output_type": "stream",
          "name": "stderr",
          "text": [
            "100%|██████████| 758/758 [03:39<00:00,  3.45batch/s, loss=5.11e-8]\n"
          ]
        },
        {
          "output_type": "stream",
          "name": "stdout",
          "text": [
            "Epoch 53/75, train acc/loss: 99.99/0.0003, val acc/loss: 87.02/1.3367, time 230s\n"
          ]
        },
        {
          "output_type": "stream",
          "name": "stderr",
          "text": [
            "100%|██████████| 758/758 [03:39<00:00,  3.45batch/s, loss=2.38e-7]\n"
          ]
        },
        {
          "output_type": "stream",
          "name": "stdout",
          "text": [
            "Epoch 54/75, train acc/loss: 99.94/0.0024, val acc/loss: 86.35/1.4411, time 228s\n"
          ]
        },
        {
          "output_type": "stream",
          "name": "stderr",
          "text": [
            "100%|██████████| 758/758 [03:40<00:00,  3.44batch/s, loss=0]\n"
          ]
        },
        {
          "output_type": "stream",
          "name": "stdout",
          "text": [
            "Epoch 55/75, train acc/loss: 99.99/0.0004, val acc/loss: 85.94/1.4771, time 228s\n"
          ]
        },
        {
          "output_type": "stream",
          "name": "stderr",
          "text": [
            "100%|██████████| 758/758 [03:39<00:00,  3.45batch/s, loss=0]\n"
          ]
        },
        {
          "output_type": "stream",
          "name": "stdout",
          "text": [
            "Epoch 56/75, train acc/loss: 99.99/0.0006, val acc/loss: 86.41/1.4861, time 228s\n"
          ]
        },
        {
          "output_type": "stream",
          "name": "stderr",
          "text": [
            "100%|██████████| 758/758 [03:39<00:00,  3.45batch/s, loss=0]\n"
          ]
        },
        {
          "output_type": "stream",
          "name": "stdout",
          "text": [
            "Epoch 57/75, train acc/loss: 99.98/0.0015, val acc/loss: 86.28/1.4328, time 228s\n"
          ]
        },
        {
          "output_type": "stream",
          "name": "stderr",
          "text": [
            "100%|██████████| 758/758 [03:40<00:00,  3.44batch/s, loss=9.48e-5]\n"
          ]
        },
        {
          "output_type": "stream",
          "name": "stdout",
          "text": [
            "Epoch 58/75, train acc/loss: 100.0/0.0002, val acc/loss: 86.41/1.4642, time 228s\n"
          ]
        },
        {
          "output_type": "stream",
          "name": "stderr",
          "text": [
            "100%|██████████| 758/758 [03:39<00:00,  3.45batch/s, loss=5.64e-6]\n"
          ]
        },
        {
          "output_type": "stream",
          "name": "stdout",
          "text": [
            "Epoch 59/75, train acc/loss: 99.98/0.0004, val acc/loss: 86.62/1.411, time 228s\n"
          ]
        },
        {
          "output_type": "stream",
          "name": "stderr",
          "text": [
            "100%|██████████| 758/758 [03:40<00:00,  3.44batch/s, loss=1.7e-8]\n"
          ]
        },
        {
          "output_type": "stream",
          "name": "stdout",
          "text": [
            "Epoch 60/75, train acc/loss: 100.0/0.0001, val acc/loss: 86.01/1.5445, time 228s\n"
          ]
        },
        {
          "output_type": "stream",
          "name": "stderr",
          "text": [
            "100%|██████████| 758/758 [03:39<00:00,  3.45batch/s, loss=2.55e-7]\n"
          ]
        },
        {
          "output_type": "stream",
          "name": "stdout",
          "text": [
            "Epoch 61/75, train acc/loss: 100.0/0.0001, val acc/loss: 85.8/1.5086, time 228s\n"
          ]
        },
        {
          "output_type": "stream",
          "name": "stderr",
          "text": [
            "100%|██████████| 758/758 [03:39<00:00,  3.45batch/s, loss=0.00112]\n"
          ]
        },
        {
          "output_type": "stream",
          "name": "stdout",
          "text": [
            "Epoch 62/75, train acc/loss: 99.99/0.0003, val acc/loss: 85.6/1.6099, time 228s\n"
          ]
        },
        {
          "output_type": "stream",
          "name": "stderr",
          "text": [
            "100%|██████████| 758/758 [03:39<00:00,  3.46batch/s, loss=3.41e-8]\n"
          ]
        },
        {
          "output_type": "stream",
          "name": "stdout",
          "text": [
            "Epoch 63/75, train acc/loss: 100.0/0.0002, val acc/loss: 86.82/1.5996, time 227s\n"
          ]
        },
        {
          "output_type": "stream",
          "name": "stderr",
          "text": [
            "100%|██████████| 758/758 [03:40<00:00,  3.43batch/s, loss=3.41e-8]\n"
          ]
        },
        {
          "output_type": "stream",
          "name": "stdout",
          "text": [
            "Epoch 64/75, train acc/loss: 100.0/0.0001, val acc/loss: 86.68/1.5429, time 229s\n"
          ]
        },
        {
          "output_type": "stream",
          "name": "stderr",
          "text": [
            "100%|██████████| 758/758 [03:41<00:00,  3.42batch/s, loss=0.000274]\n"
          ]
        },
        {
          "output_type": "stream",
          "name": "stdout",
          "text": [
            "Epoch 65/75, train acc/loss: 99.99/0.0003, val acc/loss: 87.43/1.4893, time 232s\n"
          ]
        },
        {
          "output_type": "stream",
          "name": "stderr",
          "text": [
            "100%|██████████| 758/758 [03:40<00:00,  3.44batch/s, loss=0]\n"
          ]
        },
        {
          "output_type": "stream",
          "name": "stdout",
          "text": [
            "Epoch 66/75, train acc/loss: 100.0/0.0001, val acc/loss: 86.35/1.6264, time 229s\n"
          ]
        },
        {
          "output_type": "stream",
          "name": "stderr",
          "text": [
            "100%|██████████| 758/758 [03:40<00:00,  3.44batch/s, loss=3.27e-5]\n"
          ]
        },
        {
          "output_type": "stream",
          "name": "stdout",
          "text": [
            "Epoch 67/75, train acc/loss: 100.0/0.0, val acc/loss: 85.8/1.6941, time 228s\n"
          ]
        },
        {
          "output_type": "stream",
          "name": "stderr",
          "text": [
            "100%|██████████| 758/758 [03:39<00:00,  3.45batch/s, loss=0]\n"
          ]
        },
        {
          "output_type": "stream",
          "name": "stdout",
          "text": [
            "Epoch 68/75, train acc/loss: 100.0/0.0001, val acc/loss: 86.41/1.6295, time 228s\n"
          ]
        },
        {
          "output_type": "stream",
          "name": "stderr",
          "text": [
            "100%|██████████| 758/758 [03:39<00:00,  3.45batch/s, loss=0]\n"
          ]
        },
        {
          "output_type": "stream",
          "name": "stdout",
          "text": [
            "Epoch 69/75, train acc/loss: 100.0/0.0, val acc/loss: 86.62/1.5891, time 228s\n"
          ]
        },
        {
          "output_type": "stream",
          "name": "stderr",
          "text": [
            "100%|██████████| 758/758 [03:39<00:00,  3.45batch/s, loss=1.02e-7]\n"
          ]
        },
        {
          "output_type": "stream",
          "name": "stdout",
          "text": [
            "Epoch 70/75, train acc/loss: 99.99/0.0002, val acc/loss: 86.41/1.6142, time 228s\n"
          ]
        },
        {
          "output_type": "stream",
          "name": "stderr",
          "text": [
            "100%|██████████| 758/758 [03:39<00:00,  3.45batch/s, loss=0]\n"
          ]
        },
        {
          "output_type": "stream",
          "name": "stdout",
          "text": [
            "Epoch 71/75, train acc/loss: 100.0/0.0, val acc/loss: 85.94/1.7246, time 228s\n"
          ]
        },
        {
          "output_type": "stream",
          "name": "stderr",
          "text": [
            "100%|██████████| 758/758 [03:39<00:00,  3.45batch/s, loss=0]\n"
          ]
        },
        {
          "output_type": "stream",
          "name": "stdout",
          "text": [
            "Epoch 72/75, train acc/loss: 100.0/0.0, val acc/loss: 87.23/1.5663, time 228s\n"
          ]
        },
        {
          "output_type": "stream",
          "name": "stderr",
          "text": [
            "100%|██████████| 758/758 [03:39<00:00,  3.45batch/s, loss=0]\n"
          ]
        },
        {
          "output_type": "stream",
          "name": "stdout",
          "text": [
            "Epoch 73/75, train acc/loss: 99.99/0.0002, val acc/loss: 86.01/1.6288, time 228s\n"
          ]
        },
        {
          "output_type": "stream",
          "name": "stderr",
          "text": [
            "100%|██████████| 758/758 [03:39<00:00,  3.45batch/s, loss=1.07e-6]\n"
          ]
        },
        {
          "output_type": "stream",
          "name": "stdout",
          "text": [
            "Epoch 74/75, train acc/loss: 100.0/0.0, val acc/loss: 86.89/1.5909, time 228s\n"
          ]
        },
        {
          "output_type": "stream",
          "name": "stderr",
          "text": [
            "100%|██████████| 758/758 [03:39<00:00,  3.45batch/s, loss=1.7e-8]\n"
          ]
        },
        {
          "output_type": "stream",
          "name": "stdout",
          "text": [
            "Epoch 75/75, train acc/loss: 99.99/0.0007, val acc/loss: 86.28/1.609, time 228s\n"
          ]
        }
      ],
      "source": [
        "from tqdm import tqdm\n",
        "best_acc = 0\n",
        "for epoch in range(nb_epochs):\n",
        "  with tqdm(train_loader, unit=\"batch\") as tepoch:\n",
        "    start = time.time()\n",
        "    running_acc, running_loss = 0., 0.\n",
        "    c = 0\n",
        "    for x, y in tepoch:\n",
        "      x, y = x.to(device), y.to(device)\n",
        "\n",
        "      optimizer.zero_grad()  # Clear previous gradients\n",
        "      logits = vgg(x)\n",
        "      loss = cross_entropy(logits, y)\n",
        "      loss.backward()  # Compute gradients\n",
        "      optimizer.step()  # Update weights with gradients\n",
        "\n",
        "      running_acc += (logits.argmax(dim=1).cpu().numpy() == y.cpu().numpy()).sum()\n",
        "      running_loss += loss.item()\n",
        "      c += len(x)\n",
        "      tepoch.set_postfix(loss=loss.item())\n",
        "    \n",
        "    scheduler.step()\n",
        "    train_acc, train_loss = running_acc / c, running_loss / len(train_loader)\n",
        "    train_accs.append(train_acc)\n",
        "    train_losses.append(train_loss)\n",
        "    \n",
        "    val_acc, val_loss = eval_model(vgg, val_loader)\n",
        "    if val_acc > best_acc:\n",
        "      best_acc = val_acc\n",
        "      torch.save(vgg.state_dict(),\"vgg_best_param.pth\")\n",
        "    val_accs.append(val_acc)\n",
        "    val_losses.append(val_loss)\n",
        "\n",
        "    print(\n",
        "        f\"Epoch {epoch + 1}/{nb_epochs}, \"\n",
        "        f\"train acc/loss: {round(100 * train_acc, 2)}/{round(train_loss, 4)}, \"\n",
        "        f\"val acc/loss: {round(100 * val_acc, 2)}/{round(val_loss, 4)}, \"\n",
        "        f\"time {int(time.time() - start)}s\"\n",
        "    )"
      ]
    },
    {
      "cell_type": "code",
      "execution_count": 23,
      "metadata": {
        "id": "INtYIpmcosHw",
        "colab": {
          "base_uri": "https://localhost:8080/",
          "height": 298
        },
        "outputId": "cc8218f3-5e04-45e5-fa05-fbdf9edd3a03"
      },
      "outputs": [
        {
          "output_type": "execute_result",
          "data": {
            "text/plain": [
              "Text(0.5, 1.0, 'Loss')"
            ]
          },
          "metadata": {},
          "execution_count": 23
        },
        {
          "output_type": "display_data",
          "data": {
            "text/plain": [
              "<Figure size 432x288 with 2 Axes>"
            ],
            "image/png": "[encoded data removed]"
          },
          "metadata": {
            "needs_background": "light"
          }
        }
      ],
      "source": [
        "plt.subplot(1, 2, 1)\n",
        "plt.plot(list(range(nb_epochs)), train_accs, label=\"Train\")\n",
        "plt.plot(list(range(nb_epochs)), val_accs, label=\"Val\")\n",
        "plt.title(\"Accuracy\")\n",
        "plt.subplot(1, 2, 2)\n",
        "plt.plot(list(range(nb_epochs)), train_losses, label=\"Train\")\n",
        "plt.plot(list(range(nb_epochs)), val_losses, label=\"Val\")\n",
        "plt.title(\"Loss\")"
      ]
    },
    {
      "cell_type": "markdown",
      "metadata": {
        "id": "ry9hgujofKMO"
      },
      "source": [
        "### Testing"
      ]
    },
    {
      "cell_type": "code",
      "execution_count": 24,
      "metadata": {
        "id": "Tu_xXdYLR-GQ",
        "colab": {
          "base_uri": "https://localhost:8080/"
        },
        "outputId": "04061ea7-b8f4-48d4-8d7d-1874df231483"
      },
      "outputs": [
        {
          "output_type": "execute_result",
          "data": {
            "text/plain": [
              "<All keys matched successfully>"
            ]
          },
          "metadata": {},
          "execution_count": 24
        }
      ],
      "source": [
        "state_dict = torch.load(\"vgg_best_param.pth\")\n",
        "vgg.load_state_dict(state_dict)"
      ]
    },
    {
      "cell_type": "code",
      "execution_count": 25,
      "metadata": {
        "id": "939OxVuZJsCc",
        "colab": {
          "base_uri": "https://localhost:8080/"
        },
        "outputId": "90429f4f-c343-47af-cd2e-de0eff79919f"
      },
      "outputs": [
        {
          "output_type": "execute_result",
          "data": {
            "text/plain": [
              "(0.8640380693405847, 1.3545154936775519)"
            ]
          },
          "metadata": {},
          "execution_count": 25
        }
      ],
      "source": [
        "test_acc, test_loss = eval_model(vgg, test_loader)\n",
        "test_acc, test_loss"
      ]
    },
    {
      "cell_type": "markdown",
      "metadata": {
        "id": "OF-ecOeESOBK"
      },
      "source": [
        "# II - Vgg with Pal\n"
      ]
    },
    {
      "cell_type": "markdown",
      "metadata": {
        "id": "2aQp6olaRN6z"
      },
      "source": [
        "Now we will train to reproduce the best results of the paper using PAL. Consequently, we will use PAL on the 15th layer, with Grad\\*Input as attribution map and the half mean channel strategy. The other parameters will follow the paper, and thus will not change compared to part 1."
      ]
    },
    {
      "cell_type": "markdown",
      "metadata": {
        "id": "PzPD9cMvRN6z"
      },
      "source": [
        "## Prepare dataset"
      ]
    },
    {
      "cell_type": "markdown",
      "metadata": {
        "id": "xIDGdf9YRN60"
      },
      "source": [
        "### Unzip priors"
      ]
    },
    {
      "cell_type": "code",
      "execution_count": null,
      "metadata": {
        "id": "TQmFZkQvSeuT"
      },
      "outputs": [],
      "source": [
        "import zipfile\n",
        "with zipfile.ZipFile(\"landmark.zip\", 'r') as zip_ref:\n",
        "    zip_ref.extractall(\"./landmark\")"
      ]
    },
    {
      "cell_type": "code",
      "execution_count": null,
      "metadata": {
        "id": "69CmLPTeSurv",
        "colab": {
          "base_uri": "https://localhost:8080/"
        },
        "outputId": "27f09b64-af90-44ae-fe13-d401edb2236e"
      },
      "outputs": [
        {
          "output_type": "stream",
          "name": "stdout",
          "text": [
            "mkdir: cannot create directory ‘landmark/train’: File exists\n",
            "mkdir: cannot create directory ‘landmark/test’: File exists\n"
          ]
        }
      ],
      "source": [
        "!mkdir landmark/train\n",
        "!mkdir landmark/test\n",
        "!mv landmark/landmark/train_* landmark/train\n",
        "!mv landmark/landmark/test_* landmark/test"
      ]
    },
    {
      "cell_type": "markdown",
      "metadata": {
        "id": "mluVQasYRN61"
      },
      "source": [
        "### Create dataloaders\n",
        "The process is the same as in part I, with the added priors."
      ]
    },
    {
      "cell_type": "code",
      "execution_count": null,
      "metadata": {
        "id": "Ulx3aSxCS_3z"
      },
      "outputs": [],
      "source": [
        "class JoinImageDataset(Dataset):\n",
        "    def __init__(self, annotations_file, img_dir, landmark_dir, transform=None, target_transform=None):\n",
        "        self.img_labels = pd.read_csv(annotations_file)\n",
        "        self.img_dir = img_dir\n",
        "        self.landmark_dir = landmark_dir\n",
        "        self.transform = transform\n",
        "        self.target_transform = target_transform\n",
        "\n",
        "    def __len__(self):\n",
        "        return len(self.img_labels)\n",
        "\n",
        "    def __getitem__(self, idx):\n",
        "        img_path = os.path.join(self.img_dir, self.img_labels.iloc[idx, 0])\n",
        "        image = read_image(img_path)\n",
        "        land_path = os.path.join(self.landmark_dir, self.img_labels.iloc[idx, 0])\n",
        "        landmark = read_image(land_path)\n",
        "        landmark = landmark / 255.0\n",
        "        label = self.img_labels.iloc[idx, 1]\n",
        "        if self.transform:\n",
        "            image = self.transform(image)\n",
        "        if self.target_transform:\n",
        "            label = self.target_transform(label)\n",
        "        return image, landmark, label"
      ]
    },
    {
      "cell_type": "code",
      "execution_count": null,
      "metadata": {
        "colab": {
          "base_uri": "https://localhost:8080/"
        },
        "id": "P78LHeOuTjm3",
        "outputId": "336031bb-8180-48a7-b532-d420bcdaa4d7"
      },
      "outputs": [
        {
          "output_type": "stream",
          "name": "stdout",
          "text": [
            "\n",
            "Nb batches in train: 767\n"
          ]
        }
      ],
      "source": [
        "train_data = JoinImageDataset(\"train_list_label.csv\",\"./aligned/train\", \"./landmark/train\", transform=trans)\n",
        "train_loader = DataLoader(train_data, batch_size=16, shuffle=True, num_workers=4)\n",
        "print(f\"\\nNb batches in train: {len(train_loader)}\")"
      ]
    },
    {
      "cell_type": "code",
      "execution_count": null,
      "metadata": {
        "id": "Nv1zFNLcT4xW"
      },
      "outputs": [],
      "source": [
        "from sklearn.model_selection import train_test_split\n",
        "test_data = JoinImageDataset(\"test_list_label.csv\",\"./aligned/test\",\"./landmark/test\", transform=trans)\n",
        "\n",
        "test_indices, val_indices = train_test_split(list(range(len(test_data.img_labels.Label))), test_size=0.5, stratify=test_data.img_labels.Label)\n",
        "\n",
        "val_data = torch.utils.data.Subset(test_data, val_indices)\n",
        "test_data = torch.utils.data.Subset(test_data, test_indices)"
      ]
    },
    {
      "cell_type": "code",
      "execution_count": null,
      "metadata": {
        "colab": {
          "base_uri": "https://localhost:8080/"
        },
        "id": "SCcVeomlUEx3",
        "outputId": "c341fe07-169d-4642-ae1a-ea0661b5183e"
      },
      "outputs": [
        {
          "output_type": "stream",
          "name": "stdout",
          "text": [
            "\n",
            "Nb batches in test: 96\n"
          ]
        },
        {
          "output_type": "stream",
          "name": "stderr",
          "text": [
            "/usr/local/lib/python3.8/dist-packages/torch/utils/data/dataloader.py:554: UserWarning: This DataLoader will create 4 worker processes in total. Our suggested max number of worker in current system is 2, which is smaller than what this DataLoader is going to create. Please be aware that excessive worker creation might get DataLoader running slow or even freeze, lower the worker number to avoid potential slowness/freeze if necessary.\n",
            "  warnings.warn(_create_warning_msg(\n"
          ]
        }
      ],
      "source": [
        "test_loader = DataLoader(test_data, batch_size=16, shuffle=True, num_workers=4)\n",
        "print(f\"\\nNb batches in test: {len(test_loader)}\")"
      ]
    },
    {
      "cell_type": "code",
      "execution_count": null,
      "metadata": {
        "colab": {
          "base_uri": "https://localhost:8080/"
        },
        "id": "SlqNHILrUKMw",
        "outputId": "635f8367-424b-447f-cc6e-e9870fa75847"
      },
      "outputs": [
        {
          "output_type": "stream",
          "name": "stdout",
          "text": [
            "\n",
            "Nb batches in val: 96\n"
          ]
        }
      ],
      "source": [
        "val_loader = DataLoader(val_data, batch_size=16, shuffle=True, num_workers=4)\n",
        "print(f\"\\nNb batches in val: {len(val_loader)}\")"
      ]
    },
    {
      "cell_type": "markdown",
      "metadata": {
        "id": "AJNbYN58RN64"
      },
      "source": [
        "## Modified Vgg class\n",
        "The class now outputs the features computed by layer 15 as well in order to apply PAL."
      ]
    },
    {
      "cell_type": "code",
      "execution_count": null,
      "metadata": {
        "id": "UOSjJUATUOx4"
      },
      "outputs": [],
      "source": [
        "import torch\n",
        "import torch.nn as nn\n",
        "\n",
        "\n",
        "class VggPal(Vgg):\n",
        "\n",
        "    def __init__(self):\n",
        "        super(VggPal, self).__init__()\n",
        "  \n",
        "    def forward(self, x0):\n",
        "        x1 = self.conv1_1(x0)\n",
        "        x2 = self.relu1_1(x1)\n",
        "        x3 = self.conv1_2(x2)\n",
        "        x4 = self.relu1_2(x3)\n",
        "        x5 = self.pool1(x4)\n",
        "        x6 = self.conv2_1(x5)\n",
        "        x7 = self.relu2_1(x6)\n",
        "        x8 = self.conv2_2(x7)\n",
        "        x9 = self.relu2_2(x8)\n",
        "        x10 = self.pool2(x9)\n",
        "        x11 = self.conv3_1(x10)\n",
        "        x12 = self.relu3_1(x11)\n",
        "        x13 = self.conv3_2(x12)\n",
        "        x14 = self.relu3_2(x13)\n",
        "        x15 = self.conv3_3(x14)\n",
        "        x16 = self.relu3_3(x15)\n",
        "        x17 = self.pool3(x16)\n",
        "        x18 = self.conv4_1(x17)\n",
        "        x19 = self.relu4_1(x18)\n",
        "        x20 = self.conv4_2(x19)\n",
        "        x21 = self.relu4_2(x20)\n",
        "        x22 = self.conv4_3(x21)\n",
        "        x23 = self.relu4_3(x22)\n",
        "        x24 = self.pool4(x23)\n",
        "        x25 = self.conv5_1(x24)\n",
        "        x26 = self.relu5_1(x25)\n",
        "        x27 = self.conv5_2(x26)\n",
        "        x28 = self.relu5_2(x27)\n",
        "        x29 = self.conv5_3(x28)\n",
        "        x30 = self.relu5_3(x29)\n",
        "        x31_preflatten = self.pool5(x30)\n",
        "        x31 = x31_preflatten.view(x31_preflatten.size(0), -1)\n",
        "        x32 = self.fc6(x31)\n",
        "        x33 = self.relu6(x32)\n",
        "        x34 = self.dropout6(x33)\n",
        "        x35 = self.fc7(x34)\n",
        "        x36 = self.relu7(x35)\n",
        "        x37 = self.dropout7(x36)\n",
        "        x38 = self.fc8(x37)\n",
        "        \n",
        "        return x25,x38\n",
        "\n",
        "def vggpal_face(weights_path=None, **kwargs):\n",
        "    \"\"\"\n",
        "    load imported model instance\n",
        "\n",
        "    Args:\n",
        "        weights_path (str): If set, loads model weights from the given path\n",
        "    \"\"\"\n",
        "    model = VggPal()\n",
        "    if weights_path:\n",
        "        state_dict = torch.load(weights_path)\n",
        "        state_dict.pop(\"fc6.weight\")\n",
        "        state_dict.pop(\"fc6.bias\")\n",
        "        state_dict.pop(\"fc7.weight\")\n",
        "        state_dict.pop(\"fc7.bias\")\n",
        "        state_dict.pop(\"fc8.weight\")\n",
        "        state_dict.pop(\"fc8.bias\")\n",
        "        model.load_state_dict(state_dict, strict=False)\n",
        "    return model"
      ]
    },
    {
      "cell_type": "markdown",
      "metadata": {
        "id": "PmsBDlm4RN65"
      },
      "source": [
        "### Load pretrained weights on vgg_face"
      ]
    },
    {
      "cell_type": "code",
      "execution_count": null,
      "metadata": {
        "id": "pJKrhFKVVgQM"
      },
      "outputs": [],
      "source": [
        "vggpal = vggpal_face(\"vgg_face_dag.pth\")\n",
        "vggpal = vggpal.to(device)"
      ]
    },
    {
      "cell_type": "markdown",
      "metadata": {
        "id": "Dc_emjARRN66"
      },
      "source": [
        "## Definition of PAL"
      ]
    },
    {
      "cell_type": "code",
      "execution_count": null,
      "metadata": {
        "id": "gjeV_zDwZHx8"
      },
      "outputs": [],
      "source": [
        "def Grad(features, logits) :\n",
        "    logits_sum = logits.sum()\n",
        "    features.retain_grad()\n",
        "    logits_sum.backward(retain_graph=True)\n",
        "    return torch.abs(features.grad)\n",
        "\n",
        "def GradxInput(features, logits) :\n",
        "    Grad_val = Grad(features, logits)\n",
        "    return Grad_val * features\n",
        "\n",
        "def PAL(features, logits, prior, attribution_method, channel_strategy=None) :\n",
        "    attribution_map = attribution_method(features, logits)\n",
        "    \n",
        "    if channel_strategy == \"half_mean\" :\n",
        "        nb_class = attribution_map.shape[1]\n",
        "        attribution_map = attribution_map[:, int(nb_class/2):, :, :]\n",
        "    \n",
        "    if channel_strategy == \"half_mean\" or channel_strategy == \"mean\" :\n",
        "        attribution_map = attribution_map.mean(1).unsqueeze(1)\n",
        "    \n",
        "    attribution_map_resize = transforms.Resize(attribution_map.shape[-2:])\n",
        "    \n",
        "    prior = attribution_map_resize(prior)\n",
        "    \n",
        "    std = attribution_map.view(attribution_map.size(0), -1).std(1)\n",
        "    mean = attribution_map.view(attribution_map.size(0), -1).mean(1)\n",
        "    \n",
        "    \n",
        "    res = (attribution_map - mean.view(-1, 1, 1, 1)) / (std.view(-1, 1, 1, 1) + 1e-9)\n",
        "    res = res * prior.unsqueeze(1)\n",
        "    \n",
        "    res = res.view(res.size(0), -1).sum(1)\n",
        "    res = -res\n",
        "    return res.mean()"
      ]
    },
    {
      "cell_type": "code",
      "execution_count": null,
      "metadata": {
        "id": "puU0EGIdZOjx"
      },
      "outputs": [],
      "source": [
        "def tot_loss(features, prior, logits, y):\n",
        "    pa_loss = PAL(features, logits, prior, GradxInput, \"half_mean\")\n",
        "    ce_loss = cross_entropy(logits, y)\n",
        "    return pa_loss + ce_loss"
      ]
    },
    {
      "cell_type": "markdown",
      "metadata": {
        "id": "uJQ48Q0_RN68"
      },
      "source": [
        "## Train"
      ]
    },
    {
      "cell_type": "markdown",
      "metadata": {
        "id": "eCv9Db4MRN69"
      },
      "source": [
        "### Initial evaluation on validation dataset"
      ]
    },
    {
      "cell_type": "code",
      "execution_count": null,
      "metadata": {
        "id": "FOqWGhSqZBDc"
      },
      "outputs": [],
      "source": [
        "def eval_modelpal(net, loader):\n",
        "  net.eval()\n",
        "  acc, loss = 0., 0.\n",
        "  c = 0\n",
        "  for x, prior, y in loader:\n",
        "    x, prior, y = x.to(device), prior.to(device),y.to(device)\n",
        "    features, logits = net(x.to(device))\n",
        "    loss += tot_loss(features, prior, logits, y).item()\n",
        "    preds = logits.argmax(dim=1)\n",
        "    acc += (preds.cpu().numpy() == y.cpu().numpy()).sum()\n",
        "    c += len(x)\n",
        "\n",
        "  acc /= c\n",
        "  loss /= len(loader)\n",
        "  net.train()\n",
        "  return acc, loss"
      ]
    },
    {
      "cell_type": "code",
      "execution_count": null,
      "metadata": {
        "colab": {
          "base_uri": "https://localhost:8080/"
        },
        "id": "UYNlujThVo6i",
        "outputId": "f0f6579d-9ba3-4aa7-d679-fd68157323ec"
      },
      "outputs": [
        {
          "output_type": "stream",
          "name": "stdout",
          "text": [
            "Initial accuracy/loss on val: 25.36/40341.8236\n"
          ]
        }
      ],
      "source": [
        "initial_acc, initial_loss = eval_modelpal(vggpal, val_loader)\n",
        "print(f\"Initial accuracy/loss on val: {round(100 * initial_acc, 2)}/{round(initial_loss, 4)}\")"
      ]
    },
    {
      "cell_type": "markdown",
      "metadata": {
        "id": "PisThvfWRN6-"
      },
      "source": [
        "### Training"
      ]
    },
    {
      "cell_type": "code",
      "execution_count": null,
      "metadata": {
        "id": "itbzcRpwV9Lb"
      },
      "outputs": [],
      "source": [
        "optimizer = torch.optim.Adam(vggpal.parameters(), lr=0.00005)\n",
        "scheduler = PolynomialLR(optimizer, total_iters=75, power=2)\n",
        "\n",
        "nb_epochs = 75\n",
        "\n",
        "train_accs, train_losses = [], []\n",
        "val_accs, val_losses = [], []"
      ]
    },
    {
      "cell_type": "code",
      "execution_count": null,
      "metadata": {
        "id": "X5f7XGWyWGZ1",
        "colab": {
          "base_uri": "https://localhost:8080/"
        },
        "outputId": "af37e3d6-2b24-4db1-c852-ccad8a146640"
      },
      "outputs": [
        {
          "output_type": "stream",
          "name": "stderr",
          "text": [
            "100%|██████████| 767/767 [05:13<00:00,  2.45batch/s, loss=9.31e+4]\n"
          ]
        },
        {
          "output_type": "stream",
          "name": "stdout",
          "text": [
            "Epoch 1/75, train acc/loss: 38.77/92826.6236, val acc/loss: 38.59/90788.7556, time 336s\n"
          ]
        },
        {
          "output_type": "stream",
          "name": "stderr",
          "text": [
            "100%|██████████| 767/767 [05:13<00:00,  2.45batch/s, loss=7.7e+4]\n"
          ]
        },
        {
          "output_type": "stream",
          "name": "stdout",
          "text": [
            "Epoch 2/75, train acc/loss: 38.91/91588.1951, val acc/loss: 38.59/91349.7791, time 334s\n"
          ]
        },
        {
          "output_type": "stream",
          "name": "stderr",
          "text": [
            "100%|██████████| 767/767 [05:13<00:00,  2.45batch/s, loss=8.54e+4]\n"
          ]
        },
        {
          "output_type": "stream",
          "name": "stdout",
          "text": [
            "Epoch 3/75, train acc/loss: 38.86/91583.1396, val acc/loss: 38.59/91956.8169, time 334s\n"
          ]
        },
        {
          "output_type": "stream",
          "name": "stderr",
          "text": [
            "100%|██████████| 767/767 [05:13<00:00,  2.45batch/s, loss=8.86e+4]\n"
          ]
        },
        {
          "output_type": "stream",
          "name": "stdout",
          "text": [
            "Epoch 4/75, train acc/loss: 38.88/91836.8825, val acc/loss: 38.59/92087.8805, time 334s\n"
          ]
        },
        {
          "output_type": "stream",
          "name": "stderr",
          "text": [
            "100%|██████████| 767/767 [05:13<00:00,  2.45batch/s, loss=9.28e+4]\n"
          ]
        },
        {
          "output_type": "stream",
          "name": "stdout",
          "text": [
            "Epoch 5/75, train acc/loss: 38.89/91725.0407, val acc/loss: 38.59/91027.6633, time 334s\n"
          ]
        },
        {
          "output_type": "stream",
          "name": "stderr",
          "text": [
            "100%|██████████| 767/767 [05:13<00:00,  2.45batch/s, loss=8.92e+4]\n"
          ]
        },
        {
          "output_type": "stream",
          "name": "stdout",
          "text": [
            "Epoch 6/75, train acc/loss: 38.86/91587.4653, val acc/loss: 38.59/91490.6176, time 334s\n"
          ]
        },
        {
          "output_type": "stream",
          "name": "stderr",
          "text": [
            "100%|██████████| 767/767 [05:13<00:00,  2.45batch/s, loss=8.37e+4]\n"
          ]
        },
        {
          "output_type": "stream",
          "name": "stdout",
          "text": [
            "Epoch 7/75, train acc/loss: 38.9/91802.0658, val acc/loss: 38.59/90996.9875, time 334s\n"
          ]
        },
        {
          "output_type": "stream",
          "name": "stderr",
          "text": [
            "100%|██████████| 767/767 [05:13<00:00,  2.44batch/s, loss=9.05e+4]\n"
          ]
        },
        {
          "output_type": "stream",
          "name": "stdout",
          "text": [
            "Epoch 8/75, train acc/loss: 38.86/91982.7924, val acc/loss: 38.59/91327.6587, time 334s\n"
          ]
        },
        {
          "output_type": "stream",
          "name": "stderr",
          "text": [
            "100%|██████████| 767/767 [05:13<00:00,  2.44batch/s, loss=8.87e+4]\n"
          ]
        },
        {
          "output_type": "stream",
          "name": "stdout",
          "text": [
            "Epoch 9/75, train acc/loss: 38.92/91768.6697, val acc/loss: 38.59/91635.3411, time 334s\n"
          ]
        },
        {
          "output_type": "stream",
          "name": "stderr",
          "text": [
            "100%|██████████| 767/767 [05:14<00:00,  2.44batch/s, loss=8.51e+4]\n"
          ]
        },
        {
          "output_type": "stream",
          "name": "stdout",
          "text": [
            "Epoch 10/75, train acc/loss: 38.9/91817.9431, val acc/loss: 38.59/91605.0011, time 334s\n"
          ]
        },
        {
          "output_type": "stream",
          "name": "stderr",
          "text": [
            "100%|██████████| 767/767 [05:14<00:00,  2.44batch/s, loss=1.06e+5]\n"
          ]
        },
        {
          "output_type": "stream",
          "name": "stdout",
          "text": [
            "Epoch 11/75, train acc/loss: 38.89/91710.9766, val acc/loss: 38.59/91369.2567, time 335s\n"
          ]
        },
        {
          "output_type": "stream",
          "name": "stderr",
          "text": [
            "100%|██████████| 767/767 [05:14<00:00,  2.44batch/s, loss=9.07e+4]\n"
          ]
        },
        {
          "output_type": "stream",
          "name": "stdout",
          "text": [
            "Epoch 12/75, train acc/loss: 38.9/91896.9998, val acc/loss: 38.59/91639.8052, time 335s\n"
          ]
        },
        {
          "output_type": "stream",
          "name": "stderr",
          "text": [
            "100%|██████████| 767/767 [05:14<00:00,  2.44batch/s, loss=7.81e+4]\n"
          ]
        },
        {
          "output_type": "stream",
          "name": "stdout",
          "text": [
            "Epoch 13/75, train acc/loss: 38.88/91562.4983, val acc/loss: 38.59/91141.4811, time 334s\n"
          ]
        },
        {
          "output_type": "stream",
          "name": "stderr",
          "text": [
            "100%|██████████| 767/767 [05:14<00:00,  2.44batch/s, loss=8.21e+4]\n"
          ]
        },
        {
          "output_type": "stream",
          "name": "stdout",
          "text": [
            "Epoch 14/75, train acc/loss: 38.91/91854.6084, val acc/loss: 38.59/91688.7273, time 335s\n"
          ]
        },
        {
          "output_type": "stream",
          "name": "stderr",
          "text": [
            " 24%|██▍       | 185/767 [01:15<03:57,  2.45batch/s, loss=1.01e+5]"
          ]
        }
      ],
      "source": [
        "from tqdm import tqdm\n",
        "best_acc = 0\n",
        "for epoch in range(nb_epochs):\n",
        "  with tqdm(train_loader, unit=\"batch\") as tepoch:\n",
        "    start = time.time()\n",
        "    running_acc, running_loss = 0., 0.\n",
        "    c = 0\n",
        "    for x, prior, y in tepoch:\n",
        "      x, prior, y = x.to(device), prior.to(device),y.to(device)\n",
        "\n",
        "      optimizer.zero_grad()  # Clear previous gradients\n",
        "      features, logits = vggpal(x)\n",
        "      loss = tot_loss(features, prior, logits, y)\n",
        "      vggpal.zero_grad() # Remove gradients of PAL\n",
        "      loss.backward()  # Compute gradients\n",
        "      optimizer.step()  # Update weights with gradients\n",
        "\n",
        "      running_acc += (logits.argmax(dim=1).cpu().numpy() == y.cpu().numpy()).sum()\n",
        "      running_loss += loss.item()\n",
        "      c += len(x)\n",
        "      tepoch.set_postfix(loss=loss.item())\n",
        "    \n",
        "    scheduler.step()\n",
        "\n",
        "    train_acc, train_loss = running_acc / c, running_loss / len(train_loader)\n",
        "    train_accs.append(train_acc)\n",
        "    train_losses.append(train_loss)\n",
        "    \n",
        "    val_acc, val_loss = eval_modelpal(vggpal, val_loader)\n",
        "    if val_acc > best_acc:\n",
        "      best_acc = val_acc\n",
        "      torch.save(vggpal.state_dict(),\"vggpal_best_param.pth\")\n",
        "    val_accs.append(val_acc)\n",
        "    val_losses.append(val_loss)\n",
        "\n",
        "    print(\n",
        "        f\"Epoch {epoch + 1}/{nb_epochs}, \"\n",
        "        f\"train acc/loss: {round(100 * train_acc, 2)}/{round(train_loss, 4)}, \"\n",
        "        f\"val acc/loss: {round(100 * val_acc, 2)}/{round(val_loss, 4)}, \"\n",
        "        f\"time {int(time.time() - start)}s\"\n",
        "    )"
      ]
    },
    {
      "cell_type": "code",
      "execution_count": null,
      "metadata": {
        "id": "c3DdRcYgXx5H"
      },
      "outputs": [],
      "source": [
        "plt.subplot(1, 2, 1)\n",
        "plt.plot(list(range(nb_epochs)), train_accs, label=\"Train\")\n",
        "plt.plot(list(range(nb_epochs)), val_accs, label=\"Val\")\n",
        "plt.title(\"Accuracy\")\n",
        "plt.subplot(1, 2, 2)\n",
        "plt.plot(list(range(nb_epochs)), train_losses, label=\"Train\")\n",
        "plt.plot(list(range(nb_epochs)), val_losses, label=\"Val\")\n",
        "plt.title(\"Loss\")"
      ]
    },
    {
      "cell_type": "markdown",
      "metadata": {
        "id": "iiizdxWxRN7B"
      },
      "source": [
        "### Testing"
      ]
    },
    {
      "cell_type": "code",
      "execution_count": null,
      "metadata": {
        "id": "RdM_4qN_X0T3"
      },
      "outputs": [],
      "source": [
        "state_dict = torch.load(\"vggpal_best_param.pth\")\n",
        "vgg.load_state_dict(state_dict)"
      ]
    },
    {
      "cell_type": "code",
      "execution_count": null,
      "metadata": {
        "id": "5OwF7dnQX4Lt"
      },
      "outputs": [],
      "source": [
        "test_acc, test_loss = eval_modelpal(vgg, test_loader)\n",
        "test_acc, test_loss"
      ]
    },
    {
      "cell_type": "code",
      "source": [],
      "metadata": {
        "id": "t1FVH7rsTEKp"
      },
      "execution_count": null,
      "outputs": []
    }
  ],
  "metadata": {
    "accelerator": "GPU",
    "colab": {
      "provenance": []
    },
    "gpuClass": "standard",
    "kernelspec": {
      "display_name": "Python 3 (ipykernel)",
      "language": "python",
      "name": "python3"
    },
    "language_info": {
      "codemirror_mode": {
        "name": "ipython",
        "version": 3
      },
      "file_extension": ".py",
      "mimetype": "text/x-python",
      "name": "python",
      "nbconvert_exporter": "python",
      "pygments_lexer": "ipython3",
      "version": "3.10.9"
    },
    "vscode": {
      "interpreter": {
        "hash": "31f2aee4e71d21fbe5cf8b01ff0e069b9275f58929596ceb00d14d90e3e16cd6"
      }
    }
  },
  "nbformat": 4,
  "nbformat_minor": 0
}