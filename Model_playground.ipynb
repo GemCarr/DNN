{
 "cells": [
  {
   "cell_type": "code",
   "execution_count": 1,
   "id": "1e55a225-8570-45ac-b1ec-31300c0ea11a",
   "metadata": {},
   "outputs": [
    {
     "name": "stdout",
     "output_type": "stream",
     "text": [
      "%pylab is deprecated, use %matplotlib inline and import the required libraries.\n",
      "Populating the interactive namespace from numpy and matplotlib\n"
     ]
    }
   ],
   "source": [
    "%pylab inline"
   ]
  },
  {
   "cell_type": "code",
   "execution_count": 154,
   "id": "b617e65c-2b8a-4c3a-9d71-21591fc0137e",
   "metadata": {},
   "outputs": [],
   "source": [
    "import time\n",
    "\n",
    "import torch\n",
    "from torch import nn\n",
    "from torch.nn import functional as F\n",
    "from torch.utils.data import DataLoader\n",
    "from torchvision.datasets import CIFAR10\n",
    "from torchvision import transforms\n",
    "import matplotlib.pyplot as plt\n",
    "from PIL import Image"
   ]
  },
  {
   "cell_type": "code",
   "execution_count": 161,
   "id": "981e4c05-682a-4378-935a-bcd237e81280",
   "metadata": {},
   "outputs": [
    {
     "name": "stdout",
     "output_type": "stream",
     "text": [
      "CNN(\n",
      "  (c1): Conv2d(3, 32, kernel_size=(5, 5), stride=(1, 1), padding=(2, 2))\n",
      "  (p1): MaxPool2d(kernel_size=2, stride=2, padding=0, dilation=1, ceil_mode=False)\n",
      "  (c2): Conv2d(32, 64, kernel_size=(5, 5), stride=(1, 1), padding=(2, 2))\n",
      "  (p2): MaxPool2d(kernel_size=2, stride=2, padding=0, dilation=1, ceil_mode=False)\n",
      "  (c3): Conv2d(64, 64, kernel_size=(5, 5), stride=(1, 1), padding=(2, 2))\n",
      "  (p3): MaxPool2d(kernel_size=2, stride=2, padding=0, dilation=1, ceil_mode=False)\n",
      "  (l1): Linear(in_features=1024, out_features=1000, bias=True)\n",
      "  (l2): Linear(in_features=1000, out_features=10, bias=True)\n",
      ")\n"
     ]
    }
   ],
   "source": [
    "class CNN(nn.Module):\n",
    "  def __init__(self):\n",
    "    super().__init__()  # Important, otherwise will throw an error\n",
    "\n",
    "    self.c1 = torch.nn.Conv2d(3, 32, 5, padding=2)\n",
    "    self.p1 = torch.nn.MaxPool2d(2)\n",
    "    \n",
    "    self.c2 = torch.nn.Conv2d(32, 64, 5, padding=2)\n",
    "    self.p2 = torch.nn.MaxPool2d(2)\n",
    "\n",
    "    self.c3 = torch.nn.Conv2d(64, 64, 5, padding=2)\n",
    "    self.p3 = torch.nn.MaxPool2d(2)\n",
    "    \n",
    "    self.l1 = torch.nn.Linear(4 * 4 * 64, 1000)\n",
    "    self.l2 = torch.nn.Linear(1000, 10)\n",
    "\n",
    "  def forward(self, x):\n",
    "    x = F.relu(self.c1(x))\n",
    "    x = self.p1(x)\n",
    "    \n",
    "    x = F.relu(self.c2(x))\n",
    "    x = self.p2(x)\n",
    "        \n",
    "    x = F.relu(self.c3(x))\n",
    "    x = self.p3(x)\n",
    "    \n",
    "    x = torch.flatten(x, start_dim=1)\n",
    "    \n",
    "    x = F.relu(self.l1(x))\n",
    "    \n",
    "    y = self.l2(x)\n",
    "    \n",
    "    return x, y\n",
    "\n",
    "\n",
    "net = CNN()\n",
    "print(net)"
   ]
  },
  {
   "cell_type": "code",
   "execution_count": 162,
   "id": "2f2993e7-c06c-4ecd-9850-a9dc6c8eb88d",
   "metadata": {},
   "outputs": [
    {
     "data": {
      "text/plain": [
       "tensor([[ 0.0510,  0.0280, -0.0313,  0.0550,  0.0383, -0.0170, -0.0233,  0.0270,\n",
       "          0.0740, -0.0528],\n",
       "        [ 0.0521,  0.0151, -0.0390,  0.0305,  0.0330,  0.0102, -0.0150,  0.0397,\n",
       "          0.0871, -0.0337]], grad_fn=<AddmmBackward0>)"
      ]
     },
     "execution_count": 162,
     "metadata": {},
     "output_type": "execute_result"
    }
   ],
   "source": [
    "fake_input = torch.randn(2, 3, 32, 32, requires_grad=True)\n",
    "\n",
    "\n",
    "inputs, outputs = net(fake_input)\n",
    "outputs"
   ]
  },
  {
   "cell_type": "code",
   "execution_count": 157,
   "id": "00090efb-a1ba-4f07-8576-f04ec609e44d",
   "metadata": {},
   "outputs": [],
   "source": [
    "def Grad(inputs, outputs) :\n",
    "    outputs_sum = outputs.sum()\n",
    "    inputs.retain_grad()\n",
    "    outputs_sum.backward()\n",
    "    return torch.abs(inputs.grad)"
   ]
  },
  {
   "cell_type": "code",
   "execution_count": 158,
   "id": "9ba59663-922c-4415-951f-d6e1a5e2fa8b",
   "metadata": {},
   "outputs": [
    {
     "data": {
      "text/plain": [
       "tensor([[0.0038, 0.0126, 0.0285,  ..., 0.0946, 0.0104, 0.0758],\n",
       "        [0.0038, 0.0126, 0.0285,  ..., 0.0946, 0.0104, 0.0758]])"
      ]
     },
     "execution_count": 158,
     "metadata": {},
     "output_type": "execute_result"
    }
   ],
   "source": [
    "Grad(inputs, outputs)"
   ]
  },
  {
   "cell_type": "code",
   "execution_count": 163,
   "id": "37cfeebe-d7f9-4abd-8736-9cb38d77d5aa",
   "metadata": {},
   "outputs": [],
   "source": [
    "def GradxInput(inputs, outputs) :\n",
    "    Grad_val = Grad(inputs, outputs)\n",
    "    return Grad_val * inputs"
   ]
  },
  {
   "cell_type": "code",
   "execution_count": 164,
   "id": "6d1b502b-b75d-4578-bd2e-fe1d776a5138",
   "metadata": {},
   "outputs": [
    {
     "data": {
      "text/plain": [
       "tensor([[0.0000, 0.0041, 0.0005,  ..., 0.0000, 0.0024, 0.0000],\n",
       "        [0.0000, 0.0038, 0.0000,  ..., 0.0000, 0.0023, 0.0027]],\n",
       "       grad_fn=<MulBackward0>)"
      ]
     },
     "execution_count": 164,
     "metadata": {},
     "output_type": "execute_result"
    }
   ],
   "source": [
    "GradxInput(inputs, outputs)"
   ]
  },
  {
   "cell_type": "code",
   "execution_count": 165,
   "id": "21af8630-1156-4a59-bc1d-8bdc325e8578",
   "metadata": {},
   "outputs": [],
   "source": [
    "def pal_loss(inputs, outputs, prior, attribution_method) :\n",
    "    attribution_map = attribution_method(inputs, outputs)\n",
    "    \n",
    "    stand = torch.std(attribution_map)\n",
    "    mean = torch.mean(attribution_map)\n",
    "    \n",
    "    res = ((attribution_map - mean) / stand) * prior\n",
    "    return -res.sum()\n",
    "    "
   ]
  },
  {
   "cell_type": "code",
   "execution_count": null,
   "id": "596270d8-5b19-4c7e-ac94-e2ce5685f31f",
   "metadata": {},
   "outputs": [],
   "source": []
  }
 ],
 "metadata": {
  "kernelspec": {
   "display_name": "Python 3 (ipykernel)",
   "language": "python",
   "name": "python3"
  },
  "language_info": {
   "codemirror_mode": {
    "name": "ipython",
    "version": 3
   },
   "file_extension": ".py",
   "mimetype": "text/x-python",
   "name": "python",
   "nbconvert_exporter": "python",
   "pygments_lexer": "ipython3",
   "version": "3.10.8"
  }
 },
 "nbformat": 4,
 "nbformat_minor": 5
}
